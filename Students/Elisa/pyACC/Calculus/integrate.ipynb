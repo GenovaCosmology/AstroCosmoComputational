{
 "cells": [
  {
   "cell_type": "code",
   "execution_count": 1,
   "id": "99302314-0626-4793-b4a2-ad4ceefa8367",
   "metadata": {},
   "outputs": [],
   "source": [
    "import numpy as np"
   ]
  },
  {
   "cell_type": "code",
   "execution_count": null,
   "id": "3c1e2812-57e0-4e3e-9ae7-a135252235be",
   "metadata": {},
   "outputs": [],
   "source": []
  },
  {
   "cell_type": "code",
   "execution_count": 2,
   "id": "8186f17d-d9a4-4415-9c89-c640277e308d",
   "metadata": {},
   "outputs": [],
   "source": [
    "def trapezoid(integrand,low,up,delta_x):\n",
    "    x = np.arrange(low,up,delta_x)\n",
    "    fx = integrand(x)\n",
    "    return np.sum( (fx[1:] +fx[0:-1])/2 * (x[1:]-x[0:-1]))\n",
    "    #return np.trapz       wrapper, modifica il metodo trapz già esistente"
   ]
  },
  {
   "cell_type": "markdown",
   "id": "483d27de-0980-4a17-9469-ed7cd437c7c0",
   "metadata": {},
   "source": [
    "impleme"
   ]
  },
  {
   "cell_type": "markdown",
   "id": "9a47a63c-f991-4640-9f70-2e54aee1e5c1",
   "metadata": {},
   "source": [
    "wrapper"
   ]
  },
  {
   "cell_type": "code",
   "execution_count": null,
   "id": "557c1464-ab22-466b-a6f5-48cb550bdc25",
   "metadata": {},
   "outputs": [],
   "source": []
  },
  {
   "cell_type": "code",
   "execution_count": null,
   "id": "9449a587-99f7-48e6-9d77-6233858d0fbe",
   "metadata": {},
   "outputs": [],
   "source": []
  },
  {
   "cell_type": "code",
   "execution_count": null,
   "id": "03745f16-7b8b-404d-a0fd-53271098df32",
   "metadata": {},
   "outputs": [],
   "source": []
  },
  {
   "cell_type": "code",
   "execution_count": null,
   "id": "b48be473-bffe-4a0a-b01e-54265b7b8fd3",
   "metadata": {},
   "outputs": [],
   "source": []
  },
  {
   "cell_type": "code",
   "execution_count": null,
   "id": "75a9df40-9432-4dd2-b5df-39fb2c79ced6",
   "metadata": {},
   "outputs": [],
   "source": []
  }
 ],
 "metadata": {
  "kernelspec": {
   "display_name": "Python 3 (ipykernel)",
   "language": "python",
   "name": "python3"
  },
  "language_info": {
   "codemirror_mode": {
    "name": "ipython",
    "version": 3
   },
   "file_extension": ".py",
   "mimetype": "text/x-python",
   "name": "python",
   "nbconvert_exporter": "python",
   "pygments_lexer": "ipython3",
   "version": "3.8.10"
  }
 },
 "nbformat": 4,
 "nbformat_minor": 5
}
