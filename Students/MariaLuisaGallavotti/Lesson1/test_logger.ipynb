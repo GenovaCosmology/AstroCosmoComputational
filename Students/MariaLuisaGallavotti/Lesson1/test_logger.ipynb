{
 "cells": [
  {
   "cell_type": "markdown",
   "metadata": {},
   "source": [
    "# Exercise #1\n",
    "\n",
    "This exercise is focused on doing the first steps with Python, Python notebooks and Python modules\n",
    "This notebook, that you have to fill, simply override the default ´print´ Python function with\n",
    "a customized logger. \n",
    "\n",
    "The goal of the exercise is extremely simple:\n",
    "\n",
    "1) Adjust your imports \n",
    "2) Customize your logger to print your name/whatever alias\n",
    "3) Play with source code to understand structure, add functionalities, whatever.\n"
   ]
  },
  {
   "cell_type": "markdown",
   "metadata": {},
   "source": [
    "## Imports"
   ]
  },
  {
   "cell_type": "code",
   "execution_count": 2,
   "metadata": {},
   "outputs": [],
   "source": [
    "import sys\n",
    "\n",
    "# Complete with appropriate path\n",
    "sys.path.append(\"/Users/marigalla/AstroCosmoComputational/Students/MariaLuisaGallavotti\")\n",
    "\n",
    "# Complete with appropriate object to import\n",
    "from pyACC.helpers import Logger"
   ]
  },
  {
   "cell_type": "markdown",
   "metadata": {},
   "source": [
    "## Function usage"
   ]
  },
  {
   "cell_type": "markdown",
   "metadata": {},
   "source": []
  },
  {
   "cell_type": "code",
   "execution_count": 3,
   "metadata": {},
   "outputs": [
    {
     "name": "stdout",
     "output_type": "stream",
     "text": [
      "Say Goodbye to the old print function...\n"
     ]
    }
   ],
   "source": [
    "print(\"Say Goodbye to the old print function...\")"
   ]
  },
  {
   "cell_type": "code",
   "execution_count": 4,
   "metadata": {},
   "outputs": [],
   "source": [
    "# Instatiate the logger entity - this will be used to print the output instead of the print function\n",
    "print = Logger('Maria Luisa')"
   ]
  },
  {
   "cell_type": "code",
   "execution_count": 5,
   "metadata": {},
   "outputs": [
    {
     "name": "stdout",
     "output_type": "stream",
     "text": [
      "2024-02-29 12:20:37.794871 :: \u001b[32mMaria Luisa \u001b[0m :: Hello World\n"
     ]
    }
   ],
   "source": [
    "print('Hello World')"
   ]
  }
 ],
 "metadata": {
  "kernelspec": {
   "display_name": "acc-env",
   "language": "python",
   "name": "python3"
  },
  "language_info": {
   "codemirror_mode": {
    "name": "ipython",
    "version": 3
   },
   "file_extension": ".py",
   "mimetype": "text/x-python",
   "name": "python",
   "nbconvert_exporter": "python",
   "pygments_lexer": "ipython3",
   "version": "3.9.18"
  }
 },
 "nbformat": 4,
 "nbformat_minor": 2
}
