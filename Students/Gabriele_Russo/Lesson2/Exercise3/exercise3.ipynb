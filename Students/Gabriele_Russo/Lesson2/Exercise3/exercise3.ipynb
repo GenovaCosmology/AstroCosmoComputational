{
 "cells": [
  {
   "cell_type": "code",
   "execution_count": null,
   "metadata": {},
   "outputs": [],
   "source": [
    "#Import of function to calculate comoving distances \n",
    "import sys \n",
    "sys.path.append(\"../\")\n",
    "from pyACC.Cosmology import Integrand_comoving_distance\n",
    "from pyACC.Cosmology import comoving_distance\n",
    "\n",
    "import numpy as np\n",
    "import math \n",
    "import matplotlib.pyplot as plt\n",
    "plt.rcParams.update({\n",
    "    \"text.usetex\": False,\n",
    "    \"font.family\": \"serif\",})\n",
    "\n",
    "# Import pyACC logger\n",
    "from pyACC.helpers import Logger\n",
    "\n",
    "# Set the logger\n",
    "print = Logger(\"pyACC.CosmologicalDistances\")"
   ]
  },
  {
   "cell_type": "markdown",
   "metadata": {},
   "source": [
    "**Compute cosmological distances**\n",
    "\n",
    "In this exercise, integration will be applied  in a cosmological context computing cosmological distances.\n",
    "\n",
    "The basis to compute distances is the Hubble function $H(z)$, which describes the evolution of the backgroud.\n",
    "\n",
    "For flat $\\Lambda$ CDM cosmology it reads:\n",
    "$$\n",
    "D_c(z)=\\int_0^z \\frac{dz'c}{H\\left(z'\\right)}\n",
    "$$\n",
    "\n",
    "Implementing $H(z)$ in different cosmological models allows to define distances in the contenst that is being studied."
   ]
  },
  {
   "cell_type": "code",
   "execution_count": null,
   "metadata": {},
   "outputs": [],
   "source": [
    "#Definition of the Hubble function and parameters needed\n",
    "z         = 1\n",
    "Omega_mat = 0.3\n",
    "H_0       = 72\n",
    "\n",
    "def Hubble_function(z, Omega_mat, H_0):\n",
    "    return H_0*(Omega_mat*(1+z)**3+1-Omega_mat)**0.5\n",
    "\n",
    "#Calling functions to performe the integral and obtain comoving distance\n",
    "get_distances = comoving_distance(z, Hubble_function, Omega_mat, H_0)\n"
   ]
  },
  {
   "cell_type": "code",
   "execution_count": null,
   "metadata": {},
   "outputs": [],
   "source": [
    "# Comoving distance at z=1\n",
    "print(get_distances, \"Mpc\")"
   ]
  },
  {
   "cell_type": "code",
   "execution_count": null,
   "metadata": {},
   "outputs": [],
   "source": [
    "# array of 100 redshifts, with np.linspace(start, end, how many elements) \n",
    "z_list = np.linspace(0.0001, 2.5, 100) \n",
    "print('Check of z_list length: ', len(z_list))\n",
    "\n",
    "#List of distances to be filled\n",
    "d_list = []\n",
    "\n",
    "# Calculate the comoving distance at each redshift in z_list\n",
    "for i in range(len(z_list)):\n",
    "    comoving_distances = comoving_distance(z_list[i], Hubble_function, Omega_mat, H_0)\n",
    "    d_list.append(comoving_distances)\n",
    " \n",
    "print('Check of d_list length: ', len(d_list))\n",
    "\n"
   ]
  },
  {
   "cell_type": "markdown",
   "metadata": {},
   "source": [
    "From the non observable $D_c(z)$, it is possible to estimate different typologies of distances:\n",
    "1. Angular diameter distance: $D_A(z)=\\frac{D_c(z)}{1+z}$;\n",
    "2. Luminosity distance: $D_L(z)=D_c(z)\\cdot(1+z)$;\n",
    "\n",
    "It is customary to introduce the \"Distance modulus\" $m$, definied as the difference between the apparent magnitude and the absolute magnitude of an object.\n",
    "Trere are two important relations:\n",
    "1. $m = 5\\log_{10}\\left(\\frac{D_L(z)}{10pc}\\right)$;\n",
    "2. $m = 5\\log_{10}\\left(\\frac{D_C(z)}{10pc}\\right)+25$\n",
    "where distances are expressed in pc and the constant $10 pc$ is chosen so that the distance modulus is on a logarithmic scale."
   ]
  },
  {
   "cell_type": "code",
   "execution_count": null,
   "metadata": {},
   "outputs": [],
   "source": [
    "# Calculate the angular diameter distance at each redshift in z_list\n",
    "D_A = []\n",
    "\n",
    "for i in range(len(z_list)):\n",
    "    angular_diameter_distance = d_list[i]/(1+z_list[i])\n",
    "    D_A.append(angular_diameter_distance)\n",
    "\n",
    "# Calculate the luminosity distance at each redshift in z_list\n",
    "D_L = []\n",
    "\n",
    "for i in range(len(z_list)):\n",
    "    luminosity_distance = d_list[i]*(1+z_list[i])\n",
    "    D_L.append(luminosity_distance)\n",
    "\n",
    "\n",
    "# Calculate the distance modulus at each redshift in z_list\n",
    "mag = []\n",
    "\n",
    "for distance in D_L: #this code allows to have direct access to each element stored in the list\n",
    "    distance_modulus = 5*math.log10(distance*1e5) #D_L is in Mpc \n",
    "    mag.append(distance_modulus)\n"
   ]
  },
  {
   "cell_type": "code",
   "execution_count": null,
   "metadata": {},
   "outputs": [],
   "source": [
    "#Plotting Comoving Distances\n",
    "plt.plot(z_list, d_list, lw=1, color=\"k\", label=\"Comoving distance\") #lw makes line thicker, scatter instead of plot not to have a line, but points\n",
    "#WARNING!\n",
    "#FUN FACT: first attempt, plot was givin few point on the same level! Of course: z is separated by 0.1 and 0.1 was the step of trapezoid, function used to integrate!\n",
    "plt.title(\"Redshift VS Distance [Mpc]\")\n",
    "plt.legend()\n",
    "plt.xlabel(\"Redshift\")\n",
    "plt.ylabel(\"Distance [Mpc]\");"
   ]
  },
  {
   "cell_type": "code",
   "execution_count": null,
   "metadata": {},
   "outputs": [],
   "source": [
    "#Plotting angular diameter distances\n",
    "plt.plot(z_list, D_A, lw=1, color=\"k\", label=\"Angular diameter distance\") \n",
    "plt.title(\"Redshift VS Distance [Mpc]\")\n",
    "plt.legend()\n",
    "plt.xlabel(\"Redshift\")\n",
    "plt.ylabel(\"Distance [Mpc]\");"
   ]
  },
  {
   "cell_type": "code",
   "execution_count": null,
   "metadata": {},
   "outputs": [],
   "source": [
    "#Plotting Luminosity Distances\n",
    "plt.plot(z_list, D_L, lw=1, color=\"k\", label=\"Luminosity distance\") \n",
    "plt.title(\"Redshift VS Distance [Mpc]\")\n",
    "plt.legend()\n",
    "plt.xlabel(\"Redshift\")\n",
    "plt.ylabel(\"Distance [Mpc]\");"
   ]
  },
  {
   "cell_type": "code",
   "execution_count": null,
   "metadata": {},
   "outputs": [],
   "source": [
    "#Plotting distance modulus\n",
    "plt.plot(z_list, mag, lw=1, color=\"k\", label=\"Distance modulus\")\n",
    "plt.title(\"Redshift VS $\\mu$ [mag]\")\n",
    "plt.legend()\n",
    "plt.xlabel(\"Redshift\")\n",
    "plt.ylabel(\"$\\mu$ [mag]\");\n",
    "plt.yscale('log')\n"
   ]
  }
 ],
 "metadata": {
  "kernelspec": {
   "display_name": "acc-env",
   "language": "python",
   "name": "python3"
  },
  "language_info": {
   "codemirror_mode": {
    "name": "ipython",
    "version": 3
   },
   "file_extension": ".py",
   "mimetype": "text/x-python",
   "name": "python",
   "nbconvert_exporter": "python",
   "pygments_lexer": "ipython3",
   "version": "3.9.18"
  }
 },
 "nbformat": 4,
 "nbformat_minor": 2
}
