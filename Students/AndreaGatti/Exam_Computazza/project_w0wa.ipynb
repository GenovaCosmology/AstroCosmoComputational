{
 "cells": [
  {
   "cell_type": "markdown",
   "metadata": {},
   "source": [
    "# W0WaCDM MODEL"
   ]
  },
  {
   "cell_type": "markdown",
   "metadata": {},
   "source": [
    "Analogamente a quando fatto per LambdaCMD model:\n",
    "Steps:\n",
    "* 1- Set the cosmology: H0=67.5, ombh2=0.022, omch2=0.122, omk=0, omrh2= 2.47*10^-5(this values is taken from the internet), omega_Lambda = 0.681   * \n",
    "* 2- Compute the distances modulus for each redshifts z took by the file \"binned_data\" (40 values)\n",
    "* 3- Compute the chi square and verify that is equal to 0 (or so close to 0)\n",
    "* 4- Make the best fit with minimize to find the parameters\n",
    "\n",
    "*N.B: ombh2 = (barion density)*h^2; omch2 = (cold dark matter density)^2; omk = curvature density (these values is taken by CAMB's Tutorial)\n",
    "*N.B: ombh2 + omch2 = 0.144 --> 0.144/(0.672)**2 = 0.319 (omega_matter)"
   ]
  },
  {
   "cell_type": "code",
   "execution_count": 3,
   "metadata": {},
   "outputs": [],
   "source": [
    "import sys\n",
    "sys.path.append(\"../\")\n",
    "\n",
    "import numpy as np\n",
    "import math as m\n",
    "from scipy.optimize import minimize\n",
    "import sys\n",
    "import platform\n",
    "import os\n",
    "import pandas as pd\n",
    "import numpy as np\n",
    "import emcee\n",
    "import corner\n",
    "import matplotlib.pyplot as plt\n",
    "import camb\n",
    "import pandas as pd\n",
    "\n",
    "# Import pyACC logger\n",
    "from pyACC.helpers import Logger\n",
    "\n",
    "# Set the logger\n",
    "print = Logger(\"pyACC.CosmologicalDistances\")\n",
    "\n",
    "# Import integration class\n",
    "from pyACC.Cosmology.distances import Dc, Dc_w0wa, Dc_w\n",
    "\n",
    "from scipy.optimize import minimize #to make best fit of the chi square"
   ]
  },
  {
   "cell_type": "code",
   "execution_count": 4,
   "metadata": {},
   "outputs": [],
   "source": [
    "# READ THE DATA\n",
    "# Load the data\n",
    "file_path = 'binned_data.txt'\n",
    "\n",
    "# Read the first line to get the header\n",
    "with open(file_path, 'r') as file:\n",
    "    header_line = file.readline().strip()\n",
    "    header = header_line.lstrip('#').strip()\n",
    "\n",
    "# Remove the last word from the header (assumed to be 'biascor')\n",
    "header_words = header.split()\n",
    "header_words.pop()\n",
    "header = ' '.join(header_words)\n",
    "\n",
    "# Read the rest of the file into a DataFrame\n",
    "data = pd.read_csv(file_path, sep='\\s+', skiprows=1, header=None)\n",
    "data.columns = header.split()"
   ]
  },
  {
   "cell_type": "code",
   "execution_count": 6,
   "metadata": {},
   "outputs": [],
   "source": [
    "# Definition of the Hubble function and set the cosmology\n",
    "def hubble_function_w0wa(z, Omega_m, Omega_r, Omega_k, Omega_lambda, w0, wa, H0):\n",
    "    # Calculate the dark energy contribution\n",
    "    dark_energy_contribution = (1 + z)**(3 * (1 + w0 + wa)) * np.exp(-3 * wa * z / (1 + z))\n",
    "    \n",
    "    # Calculate H(z)\n",
    "    Hz = H0 * np.sqrt(\n",
    "        Omega_m * (1 + z)**3 +\n",
    "        Omega_r * (1 + z)**4 +\n",
    "        Omega_k * (1 + z)**2 +\n",
    "        Omega_lambda * dark_energy_contribution\n",
    "    )\n",
    "    \n",
    "    return Hz\n",
    "\n",
    "# Set the cosmology\n",
    "H0 = 67.5\n",
    "omega_matter = 0.319\n",
    "omega_rad = 2.47e-5/(0.672)**2 # 0.00005 \n",
    "omega_k = 0\n",
    "omega_L = 0.681 # 1 - omega_matter - omega_rad - omega_k\n",
    "w0 = -0.5\n",
    "wa = -1.3"
   ]
  },
  {
   "cell_type": "code",
   "execution_count": 11,
   "metadata": {},
   "outputs": [],
   "source": [
    "# Extract relevant columns\n",
    "d = data['mb'].values\n",
    "dmb = data['dmb'].values\n",
    "z_list = data['zcmb'].values\n",
    "\n",
    "\n",
    "\n",
    "mu = []\n",
    "for z_prime in z_list:\n",
    "    mu.append(5*np.log10(Dc_w0wa(hubble_function_w0wa, z_prime, omega_matter, omega_rad, omega_k, omega_L, w0, wa, H0)*(1+z_prime)) + 25) #mu.append(5*np.log10(Dc(hubble_function,z_prime,0.319,0,-1,68)*(1+z_prime)) + 25)\n",
    "#print(mu)\n",
    "'''\n",
    "# Plot mu vs z (to verify that the distances are right)\n",
    "plt.plot(z_list, mu, 'o')\n",
    "plt.xlabel('Redshift z')\n",
    "plt.ylabel('Distance Modulus mu')\n",
    "plt.title('Distance Modulus vs Redshift')\n",
    "plt.show()\n",
    "'''\n",
    "data['mb'] = mu\n",
    "# Define the likelihood function\n",
    "def ln_likelihood(params, data, cov_inv):\n",
    "    H0, Omega_mat, Omega_rad, Omega_k, Omega_L, w0, wa = params \n",
    "    #print(H0, Om0)\n",
    "    # Check if the parameters are within the physical range\n",
    "    if Omega_mat and Omega_rad and Omega_k and Omega_L < 0:\n",
    "        return -np.inf\n",
    "    if w0 < -2 or w0 > 0:\n",
    "        return -np.inf\n",
    "    if wa < -3 or wa > 0:\n",
    "        return -np.inf\n",
    "    z = data['zcmb'].values\n",
    "    d = data['mb'].values \n",
    "    mu = []\n",
    "    for z_prime in z_list:\n",
    "        mu.append(5*np.log10(Dc_w0wa(hubble_function_w0wa, z_prime, omega_matter, omega_rad, omega_k, omega_L, w0, wa, H0)*(1+z_prime)) + 25) #it is equivalent to get_mu(z, H0, Om0, w0, wa)\n",
    "    diff = d - mu\n",
    "    term1 = -0.5 * diff @ cov_inv @ diff # @ is the matrix multiplication\n",
    "    \n",
    "    return term1 \n",
    "\n",
    "def neg_ln_likelihood(params, data, cov_inv):\n",
    "    return -2*ln_likelihood(params, data, cov_inv)\n"
   ]
  },
  {
   "cell_type": "code",
   "execution_count": 12,
   "metadata": {},
   "outputs": [
    {
     "name": "stdout",
     "output_type": "stream",
     "text": [
      "2024-07-24 23:48:01.373441 :: \u001b[32mpyACC.CosmologicalDistances \u001b[0m :: neg_Ln_likelihood is: -0.0\n",
      "2024-07-24 23:48:07.851245 :: \u001b[32mpyACC.CosmologicalDistances \u001b[0m :: Optimized Parameters: [ 6.75e+01  3.19e-01  5.00e-05  0.00e+00  6.81e-01 -5.00e-01 -1.30e+00]\n",
      "2024-07-24 23:48:07.851788 :: \u001b[32mpyACC.CosmologicalDistances \u001b[0m :: Optimized Log Likelihood: 0.0\n",
      "2024-07-24 23:48:07.851949 :: \u001b[32mpyACC.CosmologicalDistances \u001b[0m :: Best fit parameters: H0 = 67.5, Omega_matter = 0.319, Omega_rad = 5e-05, Omega_k = 0.0, Omega_L = 0.681, w0 = -0.5, wa = -1.3\n",
      "2024-07-24 23:48:07.852037 :: \u001b[32mpyACC.CosmologicalDistances \u001b[0m ::  message: Optimization terminated successfully.\n",
      " success: True\n",
      "  status: 0\n",
      "     fun: -0.0\n",
      "       x: [ 6.750e+01  3.190e-01  5.000e-05  0.000e+00  6.810e-01\n",
      "           -5.000e-01 -1.300e+00]\n",
      "     nit: 1\n",
      "   direc: [[ 1.000e+00  0.000e+00 ...  0.000e+00  0.000e+00]\n",
      "           [ 0.000e+00  1.000e+00 ...  0.000e+00  0.000e+00]\n",
      "           ...\n",
      "           [ 0.000e+00  0.000e+00 ...  1.000e+00  0.000e+00]\n",
      "           [ 0.000e+00  0.000e+00 ...  0.000e+00  1.000e+00]]\n",
      "    nfev: 44\n"
     ]
    }
   ],
   "source": [
    "# Example data and covariance inverse matrix\n",
    "z = data['zcmb'].values\n",
    "d = data['mb'].values + 19.3\n",
    "dmb = data['dmb'].values\n",
    "\n",
    "# Compute the covariance matrix\n",
    "Sigma = np.diag(dmb**2)\n",
    "cov_inv = np.linalg.inv(Sigma)\n",
    "\n",
    "# Initial guess for the parameters [H0, Om0]\n",
    "initial_guess = [67.5, 0.319, 0.00005, 0, 0.681, -0.5, -1.3]\n",
    "print(\"neg_Ln_likelihood is:\", neg_ln_likelihood(initial_guess, data, np.linalg.inv(np.diag(dmb**2))))\n",
    "\n",
    "\n",
    "# Run the optimizer\n",
    "result = minimize(neg_ln_likelihood, initial_guess, args=(data, cov_inv), method='Powell') # , method='Powell'\n",
    "# Optimized parameters\n",
    "optimized_params = result.x\n",
    "optimized_log_likelihood = -result.fun\n",
    "\n",
    "print(\"Optimized Parameters:\", optimized_params)\n",
    "print(\"Optimized Log Likelihood:\", optimized_log_likelihood)\n",
    "\n",
    "# Best fit parameters\n",
    "#print(f\"Best fit parameters: H0 = {best_fit_params[0]}, Om0 = {best_fit_params[1]}\")\n",
    "print(f\"Best fit parameters: H0 = {optimized_params[0]}, Omega_matter = {optimized_params[1]}, Omega_rad = {optimized_params[2]}, Omega_k = {optimized_params[3]}, Omega_L = {optimized_params[4]}, w0 = {optimized_params[5]}, wa = {optimized_params[6]}\")\n",
    "print(result)"
   ]
  },
  {
   "cell_type": "code",
   "execution_count": 14,
   "metadata": {},
   "outputs": [
    {
     "data": {
      "image/png": "[encoded data removed]",
      "text/plain": [
       "<Figure size 640x480 with 1 Axes>"
      ]
     },
     "metadata": {},
     "output_type": "display_data"
    }
   ],
   "source": [
    "# Generate model predictions using the best fit parameters\n",
    "#z = data['zcmb'].values\n",
    "H0_best, Omega_matter_best, Omega_rad_best, Omega_k_best, Omega_L_best, w0_best, wa_best = optimized_params\n",
    "mu_best = []\n",
    "for z_prime in z_list:\n",
    "    mu_best.append(5*np.log10(Dc_w0wa(hubble_function_w0wa, z_prime, Omega_matter_best, Omega_rad_best, Omega_k_best, Omega_L_best, w0_best, wa_best, H0_best)*(1+z_prime)) + 25)\n",
    "\n",
    "# mb is mu +19.3, so:\n",
    "y = data['mb'].values # cfr. Mari\n",
    "#xerr = data['dz'].values\n",
    "\n",
    "# Plot the observed data and model predictions\n",
    "plt.errorbar(z, y, yerr=data['dmb'], fmt='o', label='Observed Data')\n",
    "plt.plot(z_list, mu_best, 'r-', label='Best Fit Model')\n",
    "plt.xlabel('Redshift (z)')\n",
    "plt.ylabel('Distance Modulus (mu)')\n",
    "plt.legend()\n",
    "plt.show()"
   ]
  },
  {
   "cell_type": "markdown",
   "metadata": {},
   "source": [
    "# End of the first part"
   ]
  },
  {
   "cell_type": "markdown",
   "metadata": {},
   "source": [
    "Now I want to study the data file \"binned_data.txt\" in more detail. To do this I will copy the previous code but in the Likelihood we put mb as the data (and not my computed distances)\n",
    "\n",
    "N.B: First of all I will study with the simplified Likelihood (only Gaussian part --> Chi Square)\n",
    "\n",
    "N.B: Then we will study with the complete Likelihood"
   ]
  },
  {
   "cell_type": "code",
   "execution_count": 58,
   "metadata": {},
   "outputs": [],
   "source": [
    "# Cancel the previous data (in this way we can use mb and not mu)\n",
    "data = []\n",
    "d = []\n",
    "z_list = []\n",
    "dmb = []\n",
    "\n",
    "# READ THE DATA\n",
    "# Load the data\n",
    "file_path = 'binned_data.txt'\n",
    "\n",
    "# Read the first line to get the header\n",
    "with open(file_path, 'r') as file:\n",
    "    header_line = file.readline().strip()\n",
    "    header = header_line.lstrip('#').strip()\n",
    "\n",
    "# Remove the last word from the header (assumed to be 'biascor')\n",
    "header_words = header.split()\n",
    "header_words.pop()\n",
    "header = ' '.join(header_words)\n",
    "\n",
    "# Read the rest of the file into a DataFrame\n",
    "data = pd.read_csv(file_path, sep='\\s+', skiprows=1, header=None)\n",
    "data.columns = header.split()"
   ]
  },
  {
   "cell_type": "code",
   "execution_count": 59,
   "metadata": {},
   "outputs": [
    {
     "data": {
      "text/plain": [
       "'\\n# Set the cosmology\\nH0 = 67.5\\nomega_matter = 0.319\\nomega_rad = 2.47e-5/(0.672)**2 # 0.00005 \\nomega_k = 0\\nomega_L = 0.681 # 1 - omega_matter - omega_rad - omega_k\\nw0 = -0.5\\nwa = -1.3\\n'"
      ]
     },
     "execution_count": 59,
     "metadata": {},
     "output_type": "execute_result"
    }
   ],
   "source": [
    "# Definition of the Hubble function and set the cosmology\n",
    "def hubble_function_w0wa(z, Omega_m, Omega_r, Omega_k, Omega_lambda, w0, wa, H0):\n",
    "    # Calculate the dark energy contribution\n",
    "    dark_energy_contribution = (1 + z)**(3 * (1 + w0 + wa)) * np.exp(-3 * wa * z / (1 + z))\n",
    "    \n",
    "    # Calculate H(z)\n",
    "    Hz = H0 * np.sqrt(\n",
    "        Omega_m * (1 + z)**3 +\n",
    "        Omega_r * (1 + z)**4 +\n",
    "        Omega_k * (1 + z)**2 +\n",
    "        Omega_lambda * dark_energy_contribution\n",
    "    )\n",
    "    \n",
    "    return Hz\n",
    "\n",
    "'''\n",
    "# Set the cosmology\n",
    "H0 = 67.5\n",
    "omega_matter = 0.319\n",
    "omega_rad = 2.47e-5/(0.672)**2 # 0.00005 \n",
    "omega_k = 0\n",
    "omega_L = 0.681 # 1 - omega_matter - omega_rad - omega_k\n",
    "w0 = -0.5\n",
    "wa = -1.3\n",
    "'''"
   ]
  },
  {
   "cell_type": "code",
   "execution_count": 60,
   "metadata": {},
   "outputs": [],
   "source": [
    "# Extract relevant columns\n",
    "#d = data['mb'].values\n",
    "#dmb = data['dmb'].values\n",
    "#z_list = data['zcmb'].values\n",
    "'''\n",
    "mu = []\n",
    "for z_prime in z_list:\n",
    "    mu.append(5*np.log10(Dc_w0wa(hubble_function_w0wa, z_prime, omega_matter, omega_rad, omega_k, omega_L, w0, wa, H0)*(1+z_prime)) + 25) #mu.append(5*np.log10(Dc(hubble_function,z_prime,0.319,0,-1,68)*(1+z_prime)) + 25)\n",
    "'''\n",
    "# Define the likelihood function\n",
    "def ln_likelihood(params, data, cov_inv):\n",
    "    H0, Omega_mat, Omega_rad, Omega_k, Omega_L, w0, wa = params \n",
    "    #print(H0, Omega_mat, Omega_rad, Omega_k, Omega_L, w0, wa)\n",
    "    # Check if the parameters are within the physical range\n",
    "    if Omega_mat and Omega_rad and Omega_k and Omega_L < 0:\n",
    "        return -np.inf\n",
    "    if w0 < -2 or w0 > 0:\n",
    "        return -np.inf\n",
    "    if wa < -3 or wa > 0:\n",
    "        return -np.inf\n",
    "    if H0 < 0 and H0 > 100:\n",
    "        return -np.inf\n",
    "    d = data['mb'].values + 19.3\n",
    "    mu = []\n",
    "    for z_prime in z_list:\n",
    "        mu.append(5*np.log10(Dc_w0wa(hubble_function_w0wa, z_prime, omega_matter, omega_rad, omega_k, omega_L, w0, wa, H0)*(1+z_prime)) + 25) #it is equivalent to get_mu(z, H0, Om0, w0, wa)\n",
    "    diff = d - mu\n",
    "    term1 = -0.5 * diff @ cov_inv @ diff \n",
    "    \n",
    "    return term1 \n",
    "\n",
    "def neg_ln_likelihood(params, data, cov_inv):\n",
    "    return -2*ln_likelihood(params, data, cov_inv)\n"
   ]
  },
  {
   "cell_type": "code",
   "execution_count": 61,
   "metadata": {},
   "outputs": [
    {
     "name": "stdout",
     "output_type": "stream",
     "text": [
      "2024-07-25 13:16:59.182211 :: \u001b[32mpyACC.CosmologicalDistances \u001b[0m :: neg_Ln_likelihood is: 299.4678395259778\n"
     ]
    },
    {
     "name": "stderr",
     "output_type": "stream",
     "text": [
      "/home/andrewcats/anaconda3/envs/acc-env/lib/python3.9/site-packages/scipy/optimize/_optimize.py:2577: RuntimeWarning: invalid value encountered in scalar multiply\n",
      "  tmp2 = (x - v) * (fx - fw)\n"
     ]
    },
    {
     "name": "stdout",
     "output_type": "stream",
     "text": [
      "2024-07-25 13:17:57.876115 :: \u001b[32mpyACC.CosmologicalDistances \u001b[0m :: Optimized Parameters: [ 7.22257137e+01  3.19000000e-01  5.00000000e-05  0.00000000e+00\n",
      "  6.81000000e-01 -1.13580843e+00 -7.04174750e-12]\n",
      "2024-07-25 13:17:57.876461 :: \u001b[32mpyACC.CosmologicalDistances \u001b[0m :: Optimized Log Likelihood: -47.277486111791106\n",
      "2024-07-25 13:17:57.876604 :: \u001b[32mpyACC.CosmologicalDistances \u001b[0m :: Best fit parameters: H0 = 72.22571368878776, Omega_matter = 0.319, Omega_rad = 5e-05, Omega_k = 0.0, Omega_L = 0.681, w0 = -1.1358084340985162, wa = -7.041747498788374e-12\n",
      "2024-07-25 13:17:57.876672 :: \u001b[32mpyACC.CosmologicalDistances \u001b[0m ::  message: Optimization terminated successfully.\n",
      " success: True\n",
      "  status: 0\n",
      "     fun: 47.277486111791106\n",
      "       x: [ 7.223e+01  3.190e-01  5.000e-05  0.000e+00  6.810e-01\n",
      "           -1.136e+00 -7.042e-12]\n",
      "     nit: 7\n",
      "   direc: [[ 0.000e+00  0.000e+00 ...  0.000e+00  1.000e+00]\n",
      "           [ 0.000e+00  1.000e+00 ...  0.000e+00  0.000e+00]\n",
      "           ...\n",
      "           [ 2.111e+00  0.000e+00 ... -1.446e-01 -3.211e-01]\n",
      "           [ 5.353e-01  0.000e+00 ... -1.613e-01  6.029e-01]]\n",
      "    nfev: 525\n"
     ]
    }
   ],
   "source": [
    "# Example data and covariance inverse matrix\n",
    "d = data['mb'].values + 19.3\n",
    "dmb = data['dmb'].values\n",
    "z_list = data['zcmb'].values\n",
    "\n",
    "# Compute the covariance matrix\n",
    "Sigma = np.diag(dmb**2)\n",
    "cov_inv = np.linalg.inv(Sigma)\n",
    "\n",
    "# Initial guess for the parameters [H0, Om0]\n",
    "initial_guess = [67.5, 0.319, 0.00005, 0., 0.681, -0.5, -1.3]\n",
    "print(\"neg_Ln_likelihood is:\", neg_ln_likelihood(initial_guess, data, np.linalg.inv(np.diag(dmb**2))))\n",
    "\n",
    "\n",
    "# Run the optimizer\n",
    "result = minimize(neg_ln_likelihood, initial_guess, args=(data, cov_inv), method='Powell') # , method='Powell'\n",
    "# Optimized parameters\n",
    "optimized_params = result.x\n",
    "optimized_log_likelihood = -result.fun\n",
    "\n",
    "print(\"Optimized Parameters:\", optimized_params)\n",
    "print(\"Optimized Log Likelihood:\", optimized_log_likelihood)\n",
    "\n",
    "# Best fit parameters\n",
    "#print(f\"Best fit parameters: H0 = {best_fit_params[0]}, Om0 = {best_fit_params[1]}\")\n",
    "print(f\"Best fit parameters: H0 = {optimized_params[0]}, Omega_matter = {optimized_params[1]}, Omega_rad = {optimized_params[2]}, Omega_k = {optimized_params[3]}, Omega_L = {optimized_params[4]}, w0 = {optimized_params[5]}, wa = {optimized_params[6]}\")\n",
    "print(result)"
   ]
  },
  {
   "cell_type": "code",
   "execution_count": 62,
   "metadata": {},
   "outputs": [
    {
     "data": {
      "image/png": "[encoded data removed]",
      "text/plain": [
       "<Figure size 640x480 with 1 Axes>"
      ]
     },
     "metadata": {},
     "output_type": "display_data"
    }
   ],
   "source": [
    "# Generate model predictions using the best fit parameters\n",
    "#z = data['zcmb'].values\n",
    "H0_best, Omega_matter_best, Omega_rad_best, Omega_k_best, Omega_L_best, w0_best, wa_best = optimized_params\n",
    "mu_best = []\n",
    "for z_prime in z_list:\n",
    "    mu_best.append(5*np.log10(Dc_w0wa(hubble_function_w0wa, z_prime, Omega_matter_best, Omega_rad_best, Omega_k_best, Omega_L_best, w0_best, wa_best, H0_best)*(1+z_prime)) + 25)\n",
    "\n",
    "# mb is mu +19.3, so:\n",
    "y = data['mb'].values + 19.3 # cfr. Mari\n",
    "#xerr = data['dz'].values\n",
    "\n",
    "# Plot the observed data and model predictions\n",
    "plt.errorbar(z, y, yerr=data['dmb'], fmt='o', label='Observed Data')\n",
    "plt.plot(z_list, mu_best, 'r-', label='Best Fit Model')\n",
    "plt.xlabel('Redshift (z)')\n",
    "plt.ylabel('Distance Modulus (mu)')\n",
    "plt.legend()\n",
    "plt.show()"
   ]
  },
  {
   "cell_type": "markdown",
   "metadata": {},
   "source": [
    "Ora provo a fare la stessa cosa ma cambiando i redshifts, o meglio prendo il file con più dati: \"lcparam_full_long\" e poi faccio due casi\n",
    "Now, I try to do the same thing but I will change redshifts, i.e. I will take the file with more data: \"lcparam_full_long\" and then we will do 2 cases:\n",
    "\n",
    "* 1- I will choose only redshifts smaller than 0.3\n",
    "* 2- I will choose only redshifts greater than 0.3\n",
    "\n",
    "With this method we can understand if it is convenient observ Supernovae at low or high redshift"
   ]
  },
  {
   "cell_type": "markdown",
   "metadata": {},
   "source": [
    "# At low redshift (< 0.3)"
   ]
  },
  {
   "cell_type": "code",
   "execution_count": 72,
   "metadata": {},
   "outputs": [],
   "source": [
    "# Cancel the previous data (in this way we can use mb and not mu)\n",
    "data = []\n",
    "d = []\n",
    "z_list = []\n",
    "dmb = []\n",
    "\n",
    "# READ THE DATA\n",
    "# Load the data\n",
    "file_path = 'lcparam_full_long.txt'\n",
    "\n",
    "# Read the first line to get the header\n",
    "with open(file_path, 'r') as file:\n",
    "    header_line = file.readline().strip()\n",
    "    header = header_line.lstrip('#').strip()\n",
    "\n",
    "# Remove the last word from the header (assumed to be 'biascor')\n",
    "header_words = header.split()\n",
    "header_words.pop()\n",
    "header = ' '.join(header_words)\n",
    "\n",
    "# Read the rest of the file into a DataFrame\n",
    "data = pd.read_csv(file_path, sep='\\s+', skiprows=1, header=None)\n",
    "data.columns = header.split()"
   ]
  },
  {
   "cell_type": "code",
   "execution_count": 73,
   "metadata": {},
   "outputs": [
    {
     "data": {
      "text/plain": [
       "'\\n# Set the cosmology\\nH0 = 67.5\\nomega_matter = 0.319\\nomega_rad = 2.47e-5/(0.672)**2 # 0.00005 \\nomega_k = 0\\nomega_L = 0.681 # 1 - omega_matter - omega_rad - omega_k\\nw0 = -0.5\\nwa = -1.3\\n'"
      ]
     },
     "execution_count": 73,
     "metadata": {},
     "output_type": "execute_result"
    }
   ],
   "source": [
    "# Definition of the Hubble function and set the cosmology\n",
    "def hubble_function_w0wa(z, Omega_m, Omega_r, Omega_k, Omega_lambda, w0, wa, H0):\n",
    "    # Calculate the dark energy contribution\n",
    "    dark_energy_contribution = (1 + z)**(3 * (1 + w0 + wa)) * np.exp(-3 * wa * z / (1 + z))\n",
    "    \n",
    "    # Calculate H(z)\n",
    "    Hz = H0 * np.sqrt(\n",
    "        Omega_m * (1 + z)**3 +\n",
    "        Omega_r * (1 + z)**4 +\n",
    "        Omega_k * (1 + z)**2 +\n",
    "        Omega_lambda * dark_energy_contribution\n",
    "    )\n",
    "    \n",
    "    return Hz\n",
    "\n",
    "'''\n",
    "# Set the cosmology\n",
    "H0 = 67.5\n",
    "omega_matter = 0.319\n",
    "omega_rad = 2.47e-5/(0.672)**2 # 0.00005 \n",
    "omega_k = 0\n",
    "omega_L = 0.681 # 1 - omega_matter - omega_rad - omega_k\n",
    "w0 = -0.5\n",
    "wa = -1.3\n",
    "'''"
   ]
  },
  {
   "cell_type": "code",
   "execution_count": 82,
   "metadata": {},
   "outputs": [
    {
     "data": {
      "text/plain": [
       "\"\\n# Define the likelihood function\\ndef ln_likelihood(params, data, cov_inv):\\n    H0, Omega_mat, Omega_rad, Omega_k, Omega_L, w0, wa = params \\n    #print(H0, Omega_mat, Omega_rad, Omega_k, Omega_L, w0, wa)\\n    # Check if the parameters are within the physical range\\n    if Omega_mat and Omega_rad and Omega_k and Omega_L < 0:\\n        return -np.inf\\n    if w0 < -2 or w0 > 0:\\n        return -np.inf\\n    if wa < -3 or wa > 0:\\n        return -np.inf\\n    if H0 < 0 and H0 > 100:\\n        return -np.inf\\n    #d = data['mb'].values + 19.3\\n    mu_low = []\\n    for z_prime in z_low:\\n        mu_low.append(5*np.log10(Dc_w0wa(hubble_function_w0wa, z_prime, omega_matter, omega_rad, omega_k, omega_L, w0, wa, H0)*(1+z_prime)) + 25) #it is equivalent to get_mu(z, H0, Om0, w0, wa)\\n    diff = d - mu_low\\n    term1 = -0.5 * diff @ cov_inv @ diff \\n    \\n    return term1 \\n\\ndef neg_ln_likelihood(params, data, cov_inv):\\n    return -2*ln_likelihood(params, data, cov_inv)\\n\""
      ]
     },
     "execution_count": 82,
     "metadata": {},
     "output_type": "execute_result"
    }
   ],
   "source": [
    "# Extract relevant columns (i want to take only redshifts greater than 0.3)\n",
    "name = data['name']\n",
    "zcmb = data['zcmb'].values\n",
    "zhel = data['zhel'].values\n",
    "dz = data['dz'].values\n",
    "mb = data['mb'].values\n",
    "dmb = data['dmb'].values\n",
    "x1 = data['x1'].values\n",
    "dx1 = data['dx1'].values\n",
    "color = data['color'].values\n",
    "dcolor = data['dcolor'].values\n",
    "rdvar = data['3rdvar'].values\n",
    "d3rdvar = data['d3rdvar'].values\n",
    "cov_m_s = data['cov_m_s'].values\n",
    "cov_m_c = data['cov_m_c'].values\n",
    "cov_s_c = data['cov_s_c'].values\n",
    "set = data['set'].values\n",
    "ra = data['ra'].values\n",
    "dec = data['dec'].values\n",
    "#biascor = data['biascor'].values\n",
    "\n",
    "\n",
    "\n",
    "f1 = open(\"lcparam_z_low.txt\",\"w\")\n",
    "f2 = open(\"lcparam_z_high.txt\",\"w\")\n",
    "\n",
    "f1.write(\"#name zcmb zhel dz mb dmb x1 dx1 color dcolor 3rdvar d3rdvar cov_m_s cov_m_c cov_s_c set ra dec biascor\"+\"\\n\")\n",
    "f2.write(\"#name zcmb zhel dz mb dmb x1 dx1 color dcolor 3rdvar d3rdvar cov_m_s cov_m_c cov_s_c set ra dec biascor\"+\"\\n\")\n",
    "\n",
    "\n",
    "\n",
    "\n",
    "'''\n",
    "d = data['mb'].values + 19.3\n",
    "d_low = []\n",
    "d_high = []\n",
    "dmb = data['dmb'].values\n",
    "dmb_low = []\n",
    "dmb_high = []\n",
    "z_list = data['zcmb'].values\n",
    "z_low = []\n",
    "z_high = []\n",
    "'''\n",
    "for i in range(len(zcmb)):\n",
    "    if zcmb[i] < 0.3:\n",
    "        f1.write(str(name[i]) + \"  \" + str(zcmb[i]) + \" \" + str(zhel[i]) + \" \" + str(dz[i]) + \" \" + str(mb[i]) + \" \" + str(dmb[i]) + \" \" + str(x1[i]) + \" \" + str(dx1[i]) + \" \" + str(color[i]) + \" \" + str(dcolor[i]) + \" \" + str(rdvar[i]) + \" \" + str(d3rdvar[i]) + \" \" + str(cov_m_s[i]) + \" \" + str(cov_m_c[i]) + \" \" + str(cov_s_c[i]) + \" \" + str(set[i]) + \" \" + str(ra[i]) + \" \" + str(dec[i]) + \"\\n\" )\n",
    "        \n",
    "    else:\n",
    "        f2.write(str(name[i]) + \"  \" + str(zcmb[i]) + \" \" + str(zhel[i]) + \" \" + str(dz[i]) + \" \" + str(mb[i]) + \" \" + str(dmb[i]) + \" \" + str(x1[i]) + \" \" + str(dx1[i]) + \" \" + str(color[i]) + \" \" + str(dcolor[i]) + \" \" + str(rdvar[i]) + \" \" + str(d3rdvar[i]) + \" \" + str(cov_m_s[i]) + \" \" + str(cov_m_c[i]) + \" \" + str(cov_s_c[i]) + \" \" + str(set[i]) + \" \" + str(ra[i]) + \" \" + str(dec[i]) + \"\\n\" )\n",
    "        \n",
    "f1.close()\n",
    "f1.close()\n",
    "\n",
    "'''\n",
    "mu_low = []\n",
    "for z_prime in z_low:\n",
    "    mu_low.append(5*np.log10(Dc_w0wa(hubble_function_w0wa, z_prime, omega_matter, omega_rad, omega_k, omega_L, w0, wa, H0)*(1+z_prime)) + 25)\n",
    "mu_high = []\n",
    "for z_prime in z_high:\n",
    "    mu_high.append(5*np.log10(Dc_w0wa(hubble_function_w0wa, z_prime, omega_matter, omega_rad, omega_k, omega_L, w0, wa, H0)*(1+z_prime)) + 25)\n",
    "\n",
    "print(len(z_low), len(z_high)) # 630, 392\n",
    "print(len(mu_low), len(mu_high))\n",
    "'''\n",
    "'''\n",
    "# Define the likelihood function\n",
    "def ln_likelihood(params, data, cov_inv):\n",
    "    H0, Omega_mat, Omega_rad, Omega_k, Omega_L, w0, wa = params \n",
    "    #print(H0, Omega_mat, Omega_rad, Omega_k, Omega_L, w0, wa)\n",
    "    # Check if the parameters are within the physical range\n",
    "    if Omega_mat and Omega_rad and Omega_k and Omega_L < 0:\n",
    "        return -np.inf\n",
    "    if w0 < -2 or w0 > 0:\n",
    "        return -np.inf\n",
    "    if wa < -3 or wa > 0:\n",
    "        return -np.inf\n",
    "    if H0 < 0 and H0 > 100:\n",
    "        return -np.inf\n",
    "    #d = data['mb'].values + 19.3\n",
    "    mu_low = []\n",
    "    for z_prime in z_low:\n",
    "        mu_low.append(5*np.log10(Dc_w0wa(hubble_function_w0wa, z_prime, omega_matter, omega_rad, omega_k, omega_L, w0, wa, H0)*(1+z_prime)) + 25) #it is equivalent to get_mu(z, H0, Om0, w0, wa)\n",
    "    diff = d - mu_low\n",
    "    term1 = -0.5 * diff @ cov_inv @ diff \n",
    "    \n",
    "    return term1 \n",
    "\n",
    "def neg_ln_likelihood(params, data, cov_inv):\n",
    "    return -2*ln_likelihood(params, data, cov_inv)\n",
    "'''"
   ]
  },
  {
   "cell_type": "code",
   "execution_count": 71,
   "metadata": {},
   "outputs": [
    {
     "ename": "ValueError",
     "evalue": "operands could not be broadcast together with shapes (1022,) (630,) ",
     "output_type": "error",
     "traceback": [
      "\u001b[0;31m---------------------------------------------------------------------------\u001b[0m",
      "\u001b[0;31mValueError\u001b[0m                                Traceback (most recent call last)",
      "Cell \u001b[0;32mIn[71], line 10\u001b[0m\n\u001b[1;32m      8\u001b[0m \u001b[38;5;66;03m# Initial guess for the parameters [H0, Om0]\u001b[39;00m\n\u001b[1;32m      9\u001b[0m initial_guess \u001b[38;5;241m=\u001b[39m [\u001b[38;5;241m67.5\u001b[39m, \u001b[38;5;241m0.319\u001b[39m, \u001b[38;5;241m0.00005\u001b[39m, \u001b[38;5;241m0.\u001b[39m, \u001b[38;5;241m0.681\u001b[39m, \u001b[38;5;241m-\u001b[39m\u001b[38;5;241m0.5\u001b[39m, \u001b[38;5;241m-\u001b[39m\u001b[38;5;241m1.3\u001b[39m]\n\u001b[0;32m---> 10\u001b[0m \u001b[38;5;28mprint\u001b[39m(\u001b[38;5;124m\"\u001b[39m\u001b[38;5;124mneg_Ln_likelihood is:\u001b[39m\u001b[38;5;124m\"\u001b[39m, \u001b[43mneg_ln_likelihood\u001b[49m\u001b[43m(\u001b[49m\u001b[43minitial_guess\u001b[49m\u001b[43m,\u001b[49m\u001b[43m \u001b[49m\u001b[43mdata\u001b[49m\u001b[43m,\u001b[49m\u001b[43m \u001b[49m\u001b[43mcov_inv_low\u001b[49m\u001b[43m)\u001b[49m)\n\u001b[1;32m     13\u001b[0m \u001b[38;5;66;03m# Run the optimizer\u001b[39;00m\n\u001b[1;32m     14\u001b[0m result \u001b[38;5;241m=\u001b[39m minimize(neg_ln_likelihood, initial_guess, args\u001b[38;5;241m=\u001b[39m(data, cov_inv), method\u001b[38;5;241m=\u001b[39m\u001b[38;5;124m'\u001b[39m\u001b[38;5;124mPowell\u001b[39m\u001b[38;5;124m'\u001b[39m) \u001b[38;5;66;03m# , method='Powell'\u001b[39;00m\n",
      "Cell \u001b[0;32mIn[65], line 55\u001b[0m, in \u001b[0;36mneg_ln_likelihood\u001b[0;34m(params, data, cov_inv)\u001b[0m\n\u001b[1;32m     54\u001b[0m \u001b[38;5;28;01mdef\u001b[39;00m \u001b[38;5;21mneg_ln_likelihood\u001b[39m(params, data, cov_inv):\n\u001b[0;32m---> 55\u001b[0m     \u001b[38;5;28;01mreturn\u001b[39;00m \u001b[38;5;241m-\u001b[39m\u001b[38;5;241m2\u001b[39m\u001b[38;5;241m*\u001b[39m\u001b[43mln_likelihood\u001b[49m\u001b[43m(\u001b[49m\u001b[43mparams\u001b[49m\u001b[43m,\u001b[49m\u001b[43m \u001b[49m\u001b[43mdata\u001b[49m\u001b[43m,\u001b[49m\u001b[43m \u001b[49m\u001b[43mcov_inv\u001b[49m\u001b[43m)\u001b[49m\n",
      "Cell \u001b[0;32mIn[65], line 49\u001b[0m, in \u001b[0;36mln_likelihood\u001b[0;34m(params, data, cov_inv)\u001b[0m\n\u001b[1;32m     47\u001b[0m \u001b[38;5;28;01mfor\u001b[39;00m z_prime \u001b[38;5;129;01min\u001b[39;00m z_low:\n\u001b[1;32m     48\u001b[0m     mu_low\u001b[38;5;241m.\u001b[39mappend(\u001b[38;5;241m5\u001b[39m\u001b[38;5;241m*\u001b[39mnp\u001b[38;5;241m.\u001b[39mlog10(Dc_w0wa(hubble_function_w0wa, z_prime, omega_matter, omega_rad, omega_k, omega_L, w0, wa, H0)\u001b[38;5;241m*\u001b[39m(\u001b[38;5;241m1\u001b[39m\u001b[38;5;241m+\u001b[39mz_prime)) \u001b[38;5;241m+\u001b[39m \u001b[38;5;241m25\u001b[39m) \u001b[38;5;66;03m#it is equivalent to get_mu(z, H0, Om0, w0, wa)\u001b[39;00m\n\u001b[0;32m---> 49\u001b[0m diff \u001b[38;5;241m=\u001b[39m \u001b[43md\u001b[49m\u001b[43m \u001b[49m\u001b[38;5;241;43m-\u001b[39;49m\u001b[43m \u001b[49m\u001b[43mmu_low\u001b[49m\n\u001b[1;32m     50\u001b[0m term1 \u001b[38;5;241m=\u001b[39m \u001b[38;5;241m-\u001b[39m\u001b[38;5;241m0.5\u001b[39m \u001b[38;5;241m*\u001b[39m diff \u001b[38;5;241m@\u001b[39m cov_inv \u001b[38;5;241m@\u001b[39m diff \n\u001b[1;32m     52\u001b[0m \u001b[38;5;28;01mreturn\u001b[39;00m term1\n",
      "\u001b[0;31mValueError\u001b[0m: operands could not be broadcast together with shapes (1022,) (630,) "
     ]
    }
   ],
   "source": [
    "# Example data and covariance inverse matrix\n",
    "\n",
    "# Compute the covariance matrix\n",
    "dmb_low_array = np.array(dmb_low)\n",
    "Sigma_low = np.diag(dmb_low_array**2)\n",
    "cov_inv_low = np.linalg.inv(Sigma_low)\n",
    "\n",
    "# Initial guess for the parameters [H0, Om0]\n",
    "initial_guess = [67.5, 0.319, 0.00005, 0., 0.681, -0.5, -1.3]\n",
    "print(\"neg_Ln_likelihood is:\", neg_ln_likelihood(initial_guess, data, cov_inv_low))\n",
    "\n",
    "\n",
    "# Run the optimizer\n",
    "result = minimize(neg_ln_likelihood, initial_guess, args=(data, cov_inv), method='Powell') # , method='Powell'\n",
    "# Optimized parameters\n",
    "optimized_params = result.x\n",
    "optimized_log_likelihood = -result.fun\n",
    "\n",
    "print(\"Optimized Parameters:\", optimized_params)\n",
    "print(\"Optimized Log Likelihood:\", optimized_log_likelihood)\n",
    "\n",
    "# Best fit parameters\n",
    "#print(f\"Best fit parameters: H0 = {best_fit_params[0]}, Om0 = {best_fit_params[1]}\")\n",
    "print(f\"Best fit parameters: H0 = {optimized_params[0]}, Omega_matter = {optimized_params[1]}, Omega_rad = {optimized_params[2]}, Omega_k = {optimized_params[3]}, Omega_L = {optimized_params[4]}, w0 = {optimized_params[5]}, wa = {optimized_params[6]}\")\n",
    "print(result)"
   ]
  },
  {
   "cell_type": "markdown",
   "metadata": {},
   "source": [
    "per risolvere questo problema devo fare:\n",
    "quando discerno tra z low e z high devo crearmi un file identico a full_long ma semplicemnete con gli z low (high)\n",
    "cosi poi avro due file e li potro leggere, coisi facendo avro i data_low e i data_high che mettero dentro la likelihood"
   ]
  }
 ],
 "metadata": {
  "kernelspec": {
   "display_name": "acc-env",
   "language": "python",
   "name": "python3"
  },
  "language_info": {
   "codemirror_mode": {
    "name": "ipython",
    "version": 3
   },
   "file_extension": ".py",
   "mimetype": "text/x-python",
   "name": "python",
   "nbconvert_exporter": "python",
   "pygments_lexer": "ipython3",
   "version": "3.9.19"
  }
 },
 "nbformat": 4,
 "nbformat_minor": 2
}
