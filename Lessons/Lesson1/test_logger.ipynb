{
 "cells": [
  {
   "cell_type": "markdown",
   "metadata": {},
   "source": [
    "# Exercise #1\n",
    "\n",
    "This exercise is focused on doing the first steps with Python, Python notebooks and Python modules\n",
    "This notebook, that you have to fill, simply override the default ´print´ Python function with\n",
    "a customized logger. \n",
    "\n",
    "The goal of the exercise is extremely simple:\n",
    "\n",
    "1) Adjust your imports \n",
    "2) Customize your logger to print your name/whatever alias\n",
    "3) Play with source code to understand structure, add functionalities, whatever.\n"
   ]
  },
  {
   "cell_type": "markdown",
   "metadata": {},
   "source": [
    "## Imports"
   ]
  },
  {
   "cell_type": "code",
   "execution_count": 1,
   "metadata": {},
   "outputs": [],
   "source": [
    "import sys\n",
    "\n",
    "# Complete with appropriate path\n",
    "sys.path.append(\"../\")\n",
    "\n",
    "# Complete with appropriate object to import\n",
    "from pyACC.helpers import Logger"
   ]
  },
  {
   "cell_type": "markdown",
   "metadata": {},
   "source": [
    "## Function usage"
   ]
  },
  {
   "cell_type": "code",
   "execution_count": 2,
   "metadata": {},
   "outputs": [
    {
     "name": "stdout",
     "output_type": "stream",
     "text": [
      "Say Goodbye to the old print function...\n"
     ]
    }
   ],
   "source": [
    "print(\"Say Goodbye to the old print function...\")"
   ]
  },
  {
   "cell_type": "code",
   "execution_count": 3,
   "metadata": {},
   "outputs": [],
   "source": [
    "# Instatiate the logger entity - this will be used to print the output instead of the print function\n",
    "print = Logger('Alfonso Veropalumbo')"
   ]
  },
  {
   "cell_type": "code",
   "execution_count": 4,
   "metadata": {},
   "outputs": [
    {
     "name": "stdout",
     "output_type": "stream",
     "text": [
      "2024-03-14 11:47:50.623667 :: \u001b[1m\u001b[35mAlfonso Veropalumbo\u001b[0m :: \u001b[31mINFO\u001b[0m :: Hello Course!\n"
     ]
    }
   ],
   "source": [
    "print('Hello Course!')"
   ]
  },
  {
   "cell_type": "code",
   "execution_count": 5,
   "metadata": {},
   "outputs": [
    {
     "name": "stdout",
     "output_type": "stream",
     "text": [
      "2024-03-14 11:47:52.037486 :: \u001b[1m\u001b[35mAlfonso Veropalumbo\u001b[0m :: \u001b[33mWARNING\u001b[0m :: This is a warning message\n"
     ]
    }
   ],
   "source": [
    "print.warning(\"This is a warning message\")"
   ]
  },
  {
   "cell_type": "code",
   "execution_count": 6,
   "metadata": {},
   "outputs": [
    {
     "name": "stdout",
     "output_type": "stream",
     "text": [
      "2024-03-14 11:47:53.001185 :: \u001b[1m\u001b[35mAlfonso Veropalumbo\u001b[0m :: \u001b[31mERROR\u001b[0m :: This is an error message - without raise\n"
     ]
    }
   ],
   "source": [
    "print.error(\"This is an error message - without raise\")"
   ]
  },
  {
   "cell_type": "code",
   "execution_count": 8,
   "metadata": {},
   "outputs": [
    {
     "ename": "Exception",
     "evalue": "2024-03-14 11:48:00.298722 :: \u001b[1m\u001b[35mAlfonso Veropalumbo\u001b[0m :: \u001b[31mERROR\u001b[0m :: This is an error message - with raise",
     "output_type": "error",
     "traceback": [
      "\u001b[0;31m---------------------------------------------------------------------------\u001b[0m",
      "\u001b[0;31mException\u001b[0m                                 Traceback (most recent call last)",
      "Cell \u001b[0;32mIn[8], line 1\u001b[0m\n\u001b[0;32m----> 1\u001b[0m \u001b[38;5;28;43mprint\u001b[39;49m\u001b[38;5;241;43m.\u001b[39;49m\u001b[43merror\u001b[49m\u001b[43m(\u001b[49m\u001b[38;5;124;43m\"\u001b[39;49m\u001b[38;5;124;43mThis is an error message - with raise\u001b[39;49m\u001b[38;5;124;43m\"\u001b[39;49m\u001b[43m,\u001b[49m\u001b[43m \u001b[49m\u001b[38;5;167;43;01mException\u001b[39;49;00m\u001b[43m)\u001b[49m\n",
      "File \u001b[0;32m~/AstroCosmoComputational/Solutions/Lesson1/../pyACC/helpers/logger.py:79\u001b[0m, in \u001b[0;36mLogger.error\u001b[0;34m(self, message, ErrorType)\u001b[0m\n\u001b[1;32m     77\u001b[0m     \u001b[38;5;28mprint\u001b[39m(msg)\n\u001b[1;32m     78\u001b[0m \u001b[38;5;28;01melse\u001b[39;00m:\n\u001b[0;32m---> 79\u001b[0m     \u001b[38;5;28;01mraise\u001b[39;00m(ErrorType(msg))\n",
      "\u001b[0;31mException\u001b[0m: 2024-03-14 11:48:00.298722 :: \u001b[1m\u001b[35mAlfonso Veropalumbo\u001b[0m :: \u001b[31mERROR\u001b[0m :: This is an error message - with raise"
     ]
    }
   ],
   "source": [
    "print.error(\"This is an error message - with raise\", Exception)"
   ]
  },
  {
   "cell_type": "code",
   "execution_count": null,
   "metadata": {},
   "outputs": [],
   "source": []
  }
 ],
 "metadata": {
  "kernelspec": {
   "display_name": "Python 3 (ipykernel)",
   "language": "python",
   "name": "python3"
  },
  "language_info": {
   "codemirror_mode": {
    "name": "ipython",
    "version": 3
   },
   "file_extension": ".py",
   "mimetype": "text/x-python",
   "name": "python",
   "nbconvert_exporter": "python",
   "pygments_lexer": "ipython3",
   "version": "3.8.10"
  }
 },
 "nbformat": 4,
 "nbformat_minor": 4
}
