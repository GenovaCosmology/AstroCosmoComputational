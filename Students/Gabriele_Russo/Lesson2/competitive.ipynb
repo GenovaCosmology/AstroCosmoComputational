{
 "cells": [
  {
   "cell_type": "code",
   "execution_count": 3,
   "metadata": {},
   "outputs": [],
   "source": [
    "#Import of function to calculate comoving distances \n",
    "import sys \n",
    "sys.path.append(\"../\")\n",
    "from pyACC.Cosmology import Integrand_comoving_distance\n",
    "from pyACC.Cosmology import comoving_distance\n",
    "\n",
    "import numpy as np\n",
    "import math \n",
    "import matplotlib.pyplot as plt\n",
    "plt.rcParams.update({\n",
    "    \"text.usetex\": False,\n",
    "    \"font.family\": \"serif\",})\n",
    "\n",
    "# Import pyACC logger\n",
    "from pyACC.helpers import Logger\n",
    "\n",
    "# Set the logger\n",
    "print = Logger(\"pyACC.CosmologicalDistances\")"
   ]
  },
  {
   "cell_type": "code",
   "execution_count": 6,
   "metadata": {},
   "outputs": [],
   "source": [
    "#Definition of parameters\n",
    "z_min     = 0 \n",
    "z_max     = 2\n",
    "delta_z   = 0.01\n",
    "Omega_mat = 0.319 \n",
    "H_0       = 67\n",
    "\n",
    "def Hubble_function_L_CDM(z, Omega_mat, H_0):\n",
    "    return H_0*(Omega_mat*(1+z)**3+1-Omega_mat)**0.5\n",
    "\n",
    "def Hubble_function_w_CDM(z, Omega_mat, H_0):\n",
    "    return H_0*(Omega_mat*(1+z)**3+(1-Omega_mat)**(-0.3))**0.5\n",
    "\n",
    "#Redshift Array as required\n",
    "z_list = np.arange(z_min, z_max, 0.01)+0.01/2\n",
    "\n",
    "#Distances\n",
    "L_CDM = []\n",
    "w_CDM = []\n",
    "\n",
    "# Calculate the comoving distance at each redshift in z_list in L-CDM and w-CDM\n",
    "for i in range(len(z_list)):\n",
    "    comoving_distances_L_CDM = comoving_distance(z_list[i], Hubble_function_L_CDM, Omega_mat, H_0)\n",
    "    comoving_distances_w_CDM = comoving_distance(z_list[i], Hubble_function_w_CDM, Omega_mat, H_0)\n",
    "    L_CDM.append(comoving_distances_L_CDM)\n",
    "    w_CDM.append(comoving_distances_w_CDM)\n",
    "    \n",
    "# Open file for writing\n",
    "with open('comoving_distances.txt', 'w') as f:\n",
    "    # Intestations\n",
    "    f.write(\"z_list\\tcomoving_distances_L_CDM\\tcomoving_distances_w_CDM\\n\")\n",
    "    # Data\n",
    "    for z, dist_L_CDM, dist_w_CDM in zip(z_list, L_CDM, w_CDM):\n",
    "        f.write(f\"{z}\\t{dist_L_CDM}\\t{dist_w_CDM}\\n\")\n"
   ]
  }
 ],
 "metadata": {
  "kernelspec": {
   "display_name": "acc-env",
   "language": "python",
   "name": "python3"
  },
  "language_info": {
   "codemirror_mode": {
    "name": "ipython",
    "version": 3
   },
   "file_extension": ".py",
   "mimetype": "text/x-python",
   "name": "python",
   "nbconvert_exporter": "python",
   "pygments_lexer": "ipython3",
   "version": "3.9.18"
  }
 },
 "nbformat": 4,
 "nbformat_minor": 2
}
