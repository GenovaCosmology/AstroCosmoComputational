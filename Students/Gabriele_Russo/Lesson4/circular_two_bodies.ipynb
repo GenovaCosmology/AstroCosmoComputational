{
 "cells": [
  {
   "cell_type": "code",
   "execution_count": 12,
   "metadata": {},
   "outputs": [],
   "source": [
    "# Usefull imports\n",
    "import numpy as np\n",
    "import matplotlib.pyplot as plt"
   ]
  },
  {
   "cell_type": "code",
   "execution_count": 13,
   "metadata": {},
   "outputs": [],
   "source": [
    "# Implementig a class for the resolution of a two body problem\n",
    "class TwoBodySolver:\n",
    "    '''\n",
    "    This class requires just the masses of the two bodies assuming NEWTONIAN POTENTIAL\n",
    "    '''\n",
    "    def __init__(self, m_star, m_body, r_start, G=6.67430e-11): # Constructor of the objects of the class\n",
    "        self.G       = G # Assigns the value of the gravitational constant to the instance variable G\n",
    "        self.m_star  = m_star # Assigns the mass of the star to the instance variable m_star\n",
    "        self.m_body  = m_body # Assigns the mass of the small body to the instance variable m_body\n",
    "        self.r_start = r_start # Assigns the initial value of position to the instance variable r_start\n",
    "        self.r_star  = np.array([0, 0])  # Star initially at origin in (x, y) coordinates\n",
    "        self.r_body  = np.array([self.r_start, 0])  # Body initially at distance 1 from star along x-axis\n",
    "        self.v_star  = np.array([0, 0])  # Star initially at rest\n",
    "        self.v_body  = np.array([0, np.sqrt(self.G * m_star / np.linalg.norm(self.r_body))])  # Body with circular orbit initial velocity\n",
    "        #This last line requires further theoretical explanation (view next markdown cell); \n",
    "        #code-wide: np.linalg.norm(self.r_body) calculates the magnitude of the position vector\n",
    "\n",
    "    #Implementing Runge - Kutta to second order (RK2)\n",
    "    def update_position_velocity(self, dt):\n",
    "        k1_r, k1_v = self._compute_derivatives(self.r_body, self.v_body)\n",
    "        k2_r, k2_v = self._compute_derivatives(self.r_body + 0.5 * dt * k1_r, self.v_body + 0.5 * dt * k1_v)\n",
    "        \n",
    "        self.r_body = np.array(self.r_body, dtype=float)  # Convert self.r_body to array with float data type\n",
    "        self.v_body = np.array(self.v_body, dtype=float)  # Convert self.v_body to array with float data type\n",
    "        \n",
    "        self.r_body += dt * np.array(k2_r, dtype=float)  # Ensure k2_r has the same data type as self.r_body\n",
    "        self.v_body += dt * np.array(k2_v, dtype=float)  # Ensure k2_v has the same data type as self.v_body\n",
    "        \n",
    "    def _compute_derivatives(self, r, v):\n",
    "        r_star = self.r_star\n",
    "        r_norm = np.linalg.norm(r - r_star)\n",
    "        \n",
    "        F = -self.G * self.m_star * self.m_body / r_norm**3 * (r - r_star)\n",
    "        return v, F / self.m_body"
   ]
  },
  {
   "cell_type": "markdown",
   "metadata": {},
   "source": [
    "**Initial Body Velocity:**\n",
    "The formula for the initial velocity of an object in circular orbit can be derived from equating the gravitational force with the centripetal force required to keep the object in orbit.\n",
    "\n",
    "Gravitational Force Formula:\n",
    "$$\n",
    "F=G\\frac{m_{star}m_{body}}{r^2}\n",
    "$$​​\n",
    "\n",
    "Centripetal Force Formula:\n",
    "The centripetal force required to keep an object of mass $m_{body}$ in circular motion with a velocity $v_{body}$ and radius r is given by:\n",
    "$$\n",
    "F=m_{body}\\frac{v_{body}^2}{r}\n",
    "$$\n",
    "\n",
    "By equating these two forces, we can solve for $v_{body}$ getting:\n",
    "$$\n",
    "v_{body} = \\sqrt{\\frac{Gm_{star}}{r}}\n",
    "$$"
   ]
  },
  {
   "cell_type": "code",
   "execution_count": 14,
   "metadata": {},
   "outputs": [
    {
     "data": {
      "text/plain": [
       "\"\\ndef plot_orbit(solver, num_steps, dt):\\n    positions = np.zeros((num_steps, 2))\\n    for i in range(num_steps):\\n        positions[i] = solver.r_body\\n        solver.update_position_velocity(dt)\\n        \\n    plt.figure(figsize=(8, 6))\\n    plt.plot(positions[:, 0], positions[:, 1], label='Orbit')\\n    plt.plot(0, 0, 'yo', label='Star')  # Star at origin\\n    plt.xlabel('X Position')\\n    plt.ylabel('Y Position')\\n    plt.title('Orbit of Small Body around Star')\\n    plt.axis('equal')\\n    plt.legend()\\n    plt.grid(True)\\n    plt.show()\\n \""
      ]
     },
     "execution_count": 14,
     "metadata": {},
     "output_type": "execute_result"
    }
   ],
   "source": [
    "#Function to plot the system\n",
    "'''\n",
    "def plot_orbit(solver, num_steps, dt):\n",
    "    positions = np.zeros((num_steps, 2))\n",
    "    for i in range(num_steps):\n",
    "        positions[i] = solver.r_body\n",
    "        solver.update_position_velocity(dt)\n",
    "        \n",
    "    plt.figure(figsize=(8, 6))\n",
    "    plt.plot(positions[:, 0], positions[:, 1], label='Orbit')\n",
    "    plt.plot(0, 0, 'yo', label='Star')  # Star at origin\n",
    "    plt.xlabel('X Position')\n",
    "    plt.ylabel('Y Position')\n",
    "    plt.title('Orbit of Small Body around Star')\n",
    "    plt.axis('equal')\n",
    "    plt.legend()\n",
    "    plt.grid(True)\n",
    "    plt.show()\n",
    " '''"
   ]
  },
  {
   "cell_type": "code",
   "execution_count": 15,
   "metadata": {},
   "outputs": [],
   "source": [
    "def plot_orbit(solver, num_steps, dt):\n",
    "    plt.figure(figsize=(8, 6))\n",
    "    plt.xlabel('X Position')\n",
    "    plt.ylabel('Y Position')\n",
    "    plt.title('Orbit of Small Body around Star')\n",
    "    plt.axis('equal')\n",
    "    plt.grid(True)\n",
    "\n",
    "    # Plot the initial position of the star\n",
    "    star_point, = plt.plot(0, 0, 'yo', label='Star')\n",
    "    orbit_line, = plt.plot([], [], '-o', label='Orbit')\n",
    "    plt.legend()\n",
    "\n",
    "    for i in range(num_steps):\n",
    "        positions = np.zeros((i + 1, 2))\n",
    "        for j in range(i + 1):\n",
    "            positions[j] = solver.r_body\n",
    "            solver.update_position_velocity(dt)\n",
    "\n",
    "        orbit_line.set_data(positions[:, 0], positions[:, 1])\n",
    "        star_point.set_data(0, 0)\n",
    "        plt.pause(0.01)  # Pause to update the plot\n",
    "\n",
    "    plt.show()\n"
   ]
  },
  {
   "cell_type": "code",
   "execution_count": 16,
   "metadata": {},
   "outputs": [],
   "source": [
    "#TEST PROGRAM\n",
    "# Parameters\n",
    "m_star  = 1.989e30  # Mass of the star (e.g., Sun) in kg\n",
    "m_body  = 5.972e24  # Mass of the small body (e.g., Earth) in kg\n",
    "r_start = 150e9 # Distance of Earth in m\n",
    "num_steps = 100000  # Number of time steps\n",
    "dt = 1000.0  # Time step size in seconds\n",
    "\n",
    "# Create solver instance\n",
    "solver = TwoBodySolver(m_star, m_body, r_start)\n",
    "\n"
   ]
  },
  {
   "cell_type": "code",
   "execution_count": 17,
   "metadata": {},
   "outputs": [
    {
     "name": "stderr",
     "output_type": "stream",
     "text": [
      "/tmp/ipykernel_9318/1379432797.py:21: MatplotlibDeprecationWarning: Setting data with a non sequence type is deprecated since 3.7 and will be remove two minor releases later\n",
      "  star_point.set_data(0, 0)\n"
     ]
    },
    {
     "data": {
      "image/png": "[encoded data removed]",
      "text/plain": [
       "<Figure size 800x600 with 1 Axes>"
      ]
     },
     "metadata": {},
     "output_type": "display_data"
    },
    {
     "ename": "KeyboardInterrupt",
     "evalue": "",
     "output_type": "error",
     "traceback": [
      "\u001b[0;31m---------------------------------------------------------------------------\u001b[0m",
      "\u001b[0;31mKeyboardInterrupt\u001b[0m                         Traceback (most recent call last)",
      "Cell \u001b[0;32mIn[17], line 3\u001b[0m\n\u001b[1;32m      1\u001b[0m \u001b[38;5;66;03m#Plotting\u001b[39;00m\n\u001b[1;32m      2\u001b[0m \u001b[38;5;66;03m# Plot orbit\u001b[39;00m\n\u001b[0;32m----> 3\u001b[0m \u001b[43mplot_orbit\u001b[49m\u001b[43m(\u001b[49m\u001b[43msolver\u001b[49m\u001b[43m,\u001b[49m\u001b[43m \u001b[49m\u001b[43mnum_steps\u001b[49m\u001b[43m,\u001b[49m\u001b[43m \u001b[49m\u001b[43mdt\u001b[49m\u001b[43m)\u001b[49m\n",
      "Cell \u001b[0;32mIn[15], line 18\u001b[0m, in \u001b[0;36mplot_orbit\u001b[0;34m(solver, num_steps, dt)\u001b[0m\n\u001b[1;32m     16\u001b[0m \u001b[38;5;28;01mfor\u001b[39;00m j \u001b[38;5;129;01min\u001b[39;00m \u001b[38;5;28mrange\u001b[39m(i \u001b[38;5;241m+\u001b[39m \u001b[38;5;241m1\u001b[39m):\n\u001b[1;32m     17\u001b[0m     positions[j] \u001b[38;5;241m=\u001b[39m solver\u001b[38;5;241m.\u001b[39mr_body\n\u001b[0;32m---> 18\u001b[0m     \u001b[43msolver\u001b[49m\u001b[38;5;241;43m.\u001b[39;49m\u001b[43mupdate_position_velocity\u001b[49m\u001b[43m(\u001b[49m\u001b[43mdt\u001b[49m\u001b[43m)\u001b[49m\n\u001b[1;32m     20\u001b[0m orbit_line\u001b[38;5;241m.\u001b[39mset_data(positions[:, \u001b[38;5;241m0\u001b[39m], positions[:, \u001b[38;5;241m1\u001b[39m])\n\u001b[1;32m     21\u001b[0m star_point\u001b[38;5;241m.\u001b[39mset_data(\u001b[38;5;241m0\u001b[39m, \u001b[38;5;241m0\u001b[39m)\n",
      "Cell \u001b[0;32mIn[13], line 27\u001b[0m, in \u001b[0;36mTwoBodySolver.update_position_velocity\u001b[0;34m(self, dt)\u001b[0m\n\u001b[1;32m     24\u001b[0m \u001b[38;5;28mself\u001b[39m\u001b[38;5;241m.\u001b[39mv_body \u001b[38;5;241m=\u001b[39m np\u001b[38;5;241m.\u001b[39marray(\u001b[38;5;28mself\u001b[39m\u001b[38;5;241m.\u001b[39mv_body, dtype\u001b[38;5;241m=\u001b[39m\u001b[38;5;28mfloat\u001b[39m)  \u001b[38;5;66;03m# Convert self.v_body to array with float data type\u001b[39;00m\n\u001b[1;32m     26\u001b[0m \u001b[38;5;28mself\u001b[39m\u001b[38;5;241m.\u001b[39mr_body \u001b[38;5;241m+\u001b[39m\u001b[38;5;241m=\u001b[39m dt \u001b[38;5;241m*\u001b[39m np\u001b[38;5;241m.\u001b[39marray(k2_r, dtype\u001b[38;5;241m=\u001b[39m\u001b[38;5;28mfloat\u001b[39m)  \u001b[38;5;66;03m# Ensure k2_r has the same data type as self.r_body\u001b[39;00m\n\u001b[0;32m---> 27\u001b[0m \u001b[38;5;28mself\u001b[39m\u001b[38;5;241m.\u001b[39mv_body \u001b[38;5;241m+\u001b[39m\u001b[38;5;241m=\u001b[39m \u001b[43mdt\u001b[49m\u001b[43m \u001b[49m\u001b[38;5;241;43m*\u001b[39;49m\u001b[43m \u001b[49m\u001b[43mnp\u001b[49m\u001b[38;5;241;43m.\u001b[39;49m\u001b[43marray\u001b[49m\u001b[43m(\u001b[49m\u001b[43mk2_v\u001b[49m\u001b[43m,\u001b[49m\u001b[43m \u001b[49m\u001b[43mdtype\u001b[49m\u001b[38;5;241;43m=\u001b[39;49m\u001b[38;5;28;43mfloat\u001b[39;49m\u001b[43m)\u001b[49m\n",
      "\u001b[0;31mKeyboardInterrupt\u001b[0m: "
     ]
    }
   ],
   "source": [
    "#Plotting\n",
    "# Plot orbit\n",
    "plot_orbit(solver, num_steps, dt)"
   ]
  },
  {
   "cell_type": "code",
   "execution_count": null,
   "metadata": {},
   "outputs": [],
   "source": []
  }
 ],
 "metadata": {
  "kernelspec": {
   "display_name": "acc-env",
   "language": "python",
   "name": "python3"
  },
  "language_info": {
   "codemirror_mode": {
    "name": "ipython",
    "version": 3
   },
   "file_extension": ".py",
   "mimetype": "text/x-python",
   "name": "python",
   "nbconvert_exporter": "python",
   "pygments_lexer": "ipython3",
   "version": "3.9.18"
  }
 },
 "nbformat": 4,
 "nbformat_minor": 2
}
