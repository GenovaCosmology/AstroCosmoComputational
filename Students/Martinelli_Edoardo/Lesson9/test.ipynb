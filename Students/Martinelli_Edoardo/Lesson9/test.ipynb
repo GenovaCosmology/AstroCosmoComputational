{
 "cells": [
  {
   "cell_type": "code",
   "execution_count": 2,
   "metadata": {},
   "outputs": [],
   "source": [
    "import sys\n",
    "sys.path.append(\"/home/edo/Software/TESI/AstroCosmoComputational/Students/Martinelli_Edoardo/\")\n",
    "import numpy as np\n",
    "import matplotlib.pyplot as plt\n",
    "plt.rcParams.update({\n",
    "    \"text.usetex\": False,\n",
    "    \"font.family\": \"serif\",})\n",
    "# Import distances class\n",
    "from pyACC.cosmology import *\n",
    "# Import integration class\n",
    "from pyACC.Calculus import *\n",
    "import scipy as sp"
   ]
  },
  {
   "cell_type": "code",
   "execution_count": 3,
   "metadata": {},
   "outputs": [
    {
     "name": "stdout",
     "output_type": "stream",
     "text": [
      "Function object created, you've inserted a  <class 'function'>  function with  3  variables\n"
     ]
    }
   ],
   "source": [
    "def f(x,y,z):\n",
    "    return np.exp(-x**2 /3)+np.exp(-y**4 /6)+np.exp(-z**2)\n",
    "Nint=100\n",
    "x0=0.2\n",
    "y0=-0.2\n",
    "z0=0.1\n",
    "r0=np.array([x0,y0,z0])\n",
    "ds=np.array([0.1,0.1,0.1])\n",
    "res,eff=Metropolis_Hastings(f,r0,Nint,ds,type='flat',pdf_log=True)\n",
    "xsam=res[:,0]\n",
    "ysam=res[:,1]\n",
    "zsam=res[:,2]"
   ]
  },
  {
   "cell_type": "code",
   "execution_count": 4,
   "metadata": {},
   "outputs": [],
   "source": [
    "# grid creation\n",
    "\n",
    "Nc=100\n",
    "x_grid = np.linspace(np.min(xsam)*(1+0.1), np.max(xsam)*(1+0.1), Nc)\n",
    "y_grid = np.linspace(np.min(ysam)*(1+0.1), np.max(ysam)*(1+0.1), Nc)\n",
    "z_grid = np.linspace(np.min(zsam)*(1+0.1), np.max(zsam)*(1+0.1), Nc)\n",
    "\n",
    "# inizialization of the 3D distribution\n",
    "dist=np.zeros((Nc,Nc,Nc))"
   ]
  },
  {
   "cell_type": "code",
   "execution_count": 9,
   "metadata": {},
   "outputs": [
    {
     "name": "stdout",
     "output_type": "stream",
     "text": [
      "1\n"
     ]
    }
   ],
   "source": [
    "a=np.linspace(0,9,10)\n",
    "b=np.where(a<5)\n",
    "print(np.array(list(b))[0][1])"
   ]
  }
 ],
 "metadata": {
  "kernelspec": {
   "display_name": "acc-env",
   "language": "python",
   "name": "python3"
  },
  "language_info": {
   "codemirror_mode": {
    "name": "ipython",
    "version": 3
   },
   "file_extension": ".py",
   "mimetype": "text/x-python",
   "name": "python",
   "nbconvert_exporter": "python",
   "pygments_lexer": "ipython3",
   "version": "3.9.19"
  }
 },
 "nbformat": 4,
 "nbformat_minor": 2
}
