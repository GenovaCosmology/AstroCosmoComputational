{
 "cells": [
  {
   "cell_type": "code",
   "execution_count": 1,
   "metadata": {},
   "outputs": [],
   "source": [
    "import sys\n",
    "sys.path.append(\"/mnt/c/Users/dambr/Desktop/AstroCosmoComputational/Students/Anna_DAmbrosio/\")\n",
    "\n",
    "import numpy as np\n",
    "import matplotlib.pyplot as plt\n",
    "plt.rcParams.update({\n",
    "    \"text.usetex\": False,\n",
    "    \"font.family\": \"serif\",})\n",
    "\n",
    "# Import pyACC logger\n",
    "#from pyACC.helpers import Logger\n",
    "\n",
    "# Set the logger\n",
    "#print = Logger(\"pyACC.CosmologicalDistances\")\n",
    "\n",
    "# Import your integration methods\n",
    "from pyACC.Calculus import intgr\n",
    "\n",
    "# Import integration class\n",
    "from pyACC.cosmology import *\n",
    "\n",
    "import scipy as sp\n",
    "from scipy import interpolate"
   ]
  },
  {
   "cell_type": "code",
   "execution_count": 2,
   "metadata": {},
   "outputs": [],
   "source": [
    "# definition of distance modulus\n",
    "def mu(z, H0, O_m, N_int):\n",
    "    d_mu = np.zeros((N_int,N_int,N_int))\n",
    "    for zi,zeta in enumerate(z):\n",
    "        for hi, acca in enumerate(H0):\n",
    "            for O_mi, oemme in enumerate(O_m):\n",
    "                O_de_m = 1 - oemme\n",
    "                d_mu[zi,hi,O_mi] = distance_modulus(zeta.item(), H_0=acca, O_m=oemme, O_gam = 0.0, O_nu = 0.0, O_de = O_de_m, w_de = -1)\n",
    "    return d_mu\n",
    "# mu = lambda z, H0, O_m, O_rad, O_nu, O_de, w_de: 5*np.log10(luminosity_distance(z, H0, O_m, O_rad, O_nu, O_de, w_de))"
   ]
  },
  {
   "cell_type": "code",
   "execution_count": 8,
   "metadata": {},
   "outputs": [],
   "source": [
    "# definition of vector of points for the interpolation\n",
    "N = 5\n",
    "z_points = np.linspace(0.1,1,N)\n",
    "H0_points = np.linspace(65.0,75.0,N)\n",
    "Om_points = np.linspace(0.1,1.0,N)"
   ]
  },
  {
   "cell_type": "code",
   "execution_count": 9,
   "metadata": {},
   "outputs": [],
   "source": [
    "# evaluation of mu in points\n",
    "values = mu(z_points, H0_points, Om_points, N)"
   ]
  },
  {
   "cell_type": "code",
   "execution_count": 12,
   "metadata": {},
   "outputs": [],
   "source": [
    "# creation of the grid\n",
    "point_grid = np.column_stack((z_points,H0_points,Om_points))\n",
    "Z, H0, Om = np.meshgrid(z_points, H0_points, Om_points)\n",
    "point = np.array([Z, H0,Om]).T"
   ]
  },
  {
   "cell_type": "code",
   "execution_count": 15,
   "metadata": {},
   "outputs": [
    {
     "name": "stdout",
     "output_type": "stream",
     "text": [
      "[[[ 8.51571616  8.43376408  8.35479274  8.27859291  8.20497662]\n",
      "  [11.49222951 11.41027743 11.3313061  11.25510627 11.18148998]\n",
      "  [13.03123115 12.94927907 12.87030773 12.7941079  12.72049161]\n",
      "  [14.1577374  14.07578532 13.99681399 13.92061415 13.84699787]\n",
      "  [15.07819764 14.99624556 14.91727422 14.84107439 14.7674581 ]]\n",
      "\n",
      " [[ 8.47672764  8.39477556  8.31580422  8.23960439  8.16598811]\n",
      "  [11.34822794 11.26627586 11.18730452 11.11110469 11.0374884 ]\n",
      "  [12.75984586 12.67789378 12.59892245 12.52272261 12.44910633]\n",
      "  [13.74123256 13.65928048 13.58030914 13.50410931 13.43049303]\n",
      "  [14.50506022 14.42310814 14.3441368  14.26793697 14.19432069]]\n",
      "\n",
      " [[ 8.43968454  8.35773246  8.27876112  8.20256129  8.128945  ]\n",
      "  [11.22634772 11.14439563 11.0654243  10.98922447 10.91560818]\n",
      "  [12.55391434 12.47196226 12.39299092 12.31679109 12.24317481]\n",
      "  [13.45454854 13.37259646 13.29362512 13.21742529 13.143809  ]\n",
      "  [14.14233698 14.0603849  13.98141356 13.90521373 13.83159745]]\n",
      "\n",
      " [[ 8.40438491  8.32243283  8.2434615   8.16726167  8.09364538]\n",
      "  [11.12034555 11.03839347 10.95942213 10.8832223  10.80960601]\n",
      "  [12.3870161  12.30506402 12.22609269 12.14989285 12.07627657]\n",
      "  [13.23445288 13.1525008  13.07352947 12.99732963 12.92371335]\n",
      "  [13.87524602 13.79329394 13.7143226  13.63812277 13.56450648]]\n",
      "\n",
      " [[ 8.3706579   8.28870582  8.20973448  8.13353465  8.05991837]\n",
      "  [11.02635058 10.9443985  10.86542716 10.78922733 10.71561104]\n",
      "  [12.24625407 12.16430199 12.08533065 12.00913082 11.93551454]\n",
      "  [13.05527387 12.97332179 12.89435046 12.81815063 12.74453434]\n",
      "  [13.66337995 13.58142787 13.50245654 13.42625671 13.35264042]]]\n"
     ]
    }
   ],
   "source": [
    "# interpolation\n",
    "list_point = [z_points, H0_points, Om_points]\n",
    "mu_val = sp.interpolate.interpn((z_points, H0_points, Om_points),values,point)\n",
    "print(mu_val)"
   ]
  }
 ],
 "metadata": {
  "kernelspec": {
   "display_name": "acc-env",
   "language": "python",
   "name": "python3"
  },
  "language_info": {
   "codemirror_mode": {
    "name": "ipython",
    "version": 3
   },
   "file_extension": ".py",
   "mimetype": "text/x-python",
   "name": "python",
   "nbconvert_exporter": "python",
   "pygments_lexer": "ipython3",
   "version": "3.9.18"
  }
 },
 "nbformat": 4,
 "nbformat_minor": 2
}
