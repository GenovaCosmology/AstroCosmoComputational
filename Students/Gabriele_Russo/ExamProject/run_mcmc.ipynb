{
 "cells": [
  {
   "cell_type": "code",
   "execution_count": 7,
   "metadata": {},
   "outputs": [
    {
     "name": "stderr",
     "output_type": "stream",
     "text": [
      "100%|██████████| 10000/10000 [2:08:42<00:00,  1.29it/s] \n"
     ]
    }
   ],
   "source": [
    "'''\n",
    "A minimum working example to run MCMC for SH0ES data.\n",
    "Y.S.Murakami 2021-2022 @ JHU\n",
    "'''\n",
    "import numpy as np\n",
    "from MCMC_utils import *\n",
    "\n",
    "##### config #####\n",
    "# change the variables below for desired data files, output path, MCMC settings, etc.\n",
    "\n",
    "# least square fit results (for initial guess and constructing priors)\n",
    "lstsq_results_path = '/home/git/AstroCosmoComputational/Students/Gabriele_Russo/ExamProject/lstsq_results.txt'\n",
    "\n",
    "# file names for equation matrices\n",
    "Y_fits_path = '/home/git/AstroCosmoComputational/Students/Gabriele_Russo/ExamProject/ally_shoes_ceph_topantheonwt6.0_112221.fits'\n",
    "L_fits_path = '/home/git/AstroCosmoComputational/Students/Gabriele_Russo/ExamProject/alll_shoes_ceph_topantheonwt6.0_112221.fits'\n",
    "C_fits_path = '/home/git/AstroCosmoComputational/Students/Gabriele_Russo/ExamProject/allc_shoes_ceph_topantheonwt6.0_112221.fits'\n",
    "\n",
    "# default output file name\n",
    "OUTPATH = \"/home/git/AstroCosmoComputational/Students/Gabriele_Russo/ExamProject/final_v2_baseline.h5\"\n",
    "\n",
    "# MCMC sampler settings\n",
    "N_WALKERS = 100  # number of walkers, i.e. number of chains\n",
    "N_CHAIN  = 10000   # length of chain for each walker (total number of samples = N_WALKERS * N_CHAIN), \n",
    "# i.e. how many steps to take for each chain\n",
    "CONTD = False    # set CONTD = True to resume sampling (for specific OUTPATH)\n",
    "# note: keeping CONTD = False may overwrite an existing file.\n",
    "\n",
    "# Ratio between least-square fit STD to the half-width of uniform prior:\n",
    "# this needs to be much larger than the width of posterior distribution\n",
    "# but making it too large will cost more computing time.\n",
    "# We found PRIOR_WIDTH_RATIO = 10 to be optimal\n",
    "PRIOR_WIDTH_RATIO = 10\n",
    "\n",
    "##### end of config #####\n",
    "\n",
    "\n",
    "        \n",
    "if __name__ == '__main__':\n",
    "    # load least-square, bets-fit results by default\n",
    "    #\n",
    "    # note:\n",
    "    # Passing manually defined arrays to 'lstsq_results' argument\n",
    "    # and setting PRIOR_WIDTH_RATIO = 0 will allow users to define\n",
    "    # the desired central values and width of the prior manually.\n",
    "    # If you wish to use different (e.g., Gaussian) priors, define\n",
    "    # the analytic Gaussian function in MCMC_utils.py file accordingly.\n",
    "    q_lstsq, sigma_lstsq = np.loadtxt(lstsq_results_path,unpack=True)\n",
    "\n",
    "    # run MCMC\n",
    "    run_MCMC(nwalkers = N_WALKERS,\n",
    "             chain = N_CHAIN,\n",
    "             data_paths = [Y_fits_path, L_fits_path, C_fits_path],\n",
    "             lstsq_results = [q_lstsq, sigma_lstsq],\n",
    "             prior_width_ratio = PRIOR_WIDTH_RATIO,\n",
    "             outpath = OUTPATH,\n",
    "             contd = CONTD)"
   ]
  },
  {
   "cell_type": "code",
   "execution_count": null,
   "metadata": {},
   "outputs": [],
   "source": []
  }
 ],
 "metadata": {
  "kernelspec": {
   "display_name": "acc-env",
   "language": "python",
   "name": "python3"
  },
  "language_info": {
   "codemirror_mode": {
    "name": "ipython",
    "version": 3
   },
   "file_extension": ".py",
   "mimetype": "text/x-python",
   "name": "python",
   "nbconvert_exporter": "python",
   "pygments_lexer": "ipython3",
   "version": "3.9.18"
  }
 },
 "nbformat": 4,
 "nbformat_minor": 2
}
