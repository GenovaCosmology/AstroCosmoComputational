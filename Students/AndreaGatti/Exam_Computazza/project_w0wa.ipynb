{
 "cells": [
  {
   "cell_type": "markdown",
   "metadata": {},
   "source": [
    "# W0WaCDM MODEL"
   ]
  },
  {
   "cell_type": "markdown",
   "metadata": {},
   "source": [
    "Analogamente a quando fatto per LambdaCMD model:\n",
    "Steps:\n",
    "* 1- Set the cosmology: H0=67.5, ombh2=0.022, omch2=0.122, omk=0, omrh2= 2.47*10^-5(this values is taken by internet), omega_Lambda = 0.681   * \n",
    "* 2- Compute the distances modulus for each redshifts z took by the file \"binned_data\" (40 values)\n",
    "* 3- Compute the chi square and verify that is equal to 0 (or so close to 0)\n",
    "* 4- Make the best fit with minimize to find the parameters\n",
    "\n",
    "*N.B: ombh2 = (barion density)*h^2; omch2 = (cold dark matter density)^2; omk = curvature density (these values is taken by CAMB's Tutorial)\n",
    "*N.B: ombh2 + omch2 = 0.144 --> 0.144/(0.672)**2 = 0.319 (omega_matter)"
   ]
  },
  {
   "cell_type": "code",
   "execution_count": 3,
   "metadata": {},
   "outputs": [],
   "source": [
    "import sys\n",
    "sys.path.append(\"../\")\n",
    "\n",
    "import numpy as np\n",
    "import math as m\n",
    "from scipy.optimize import minimize\n",
    "import sys\n",
    "import platform\n",
    "import os\n",
    "import pandas as pd\n",
    "import numpy as np\n",
    "import emcee\n",
    "import corner\n",
    "import matplotlib.pyplot as plt\n",
    "import camb\n",
    "import pandas as pd\n",
    "\n",
    "# Import pyACC logger\n",
    "from pyACC.helpers import Logger\n",
    "\n",
    "# Set the logger\n",
    "print = Logger(\"pyACC.CosmologicalDistances\")\n",
    "\n",
    "# Import integration class\n",
    "from pyACC.Cosmology.distances import Dc, Dc_w0wa, Dc_w\n",
    "\n",
    "from scipy.optimize import minimize #to make best fit of the chi square"
   ]
  },
  {
   "cell_type": "code",
   "execution_count": 4,
   "metadata": {},
   "outputs": [],
   "source": [
    "# READ THE DATA\n",
    "# Load the data\n",
    "file_path = 'binned_data.txt'\n",
    "\n",
    "# Read the first line to get the header\n",
    "with open(file_path, 'r') as file:\n",
    "    header_line = file.readline().strip()\n",
    "    header = header_line.lstrip('#').strip()\n",
    "\n",
    "# Remove the last word from the header (assumed to be 'biascor')\n",
    "header_words = header.split()\n",
    "header_words.pop()\n",
    "header = ' '.join(header_words)\n",
    "\n",
    "# Read the rest of the file into a DataFrame\n",
    "data = pd.read_csv(file_path, sep='\\s+', skiprows=1, header=None)\n",
    "data.columns = header.split()"
   ]
  },
  {
   "cell_type": "code",
   "execution_count": 6,
   "metadata": {},
   "outputs": [],
   "source": [
    "# Definition of the Hubble function and set the cosmology\n",
    "def hubble_function_w0wa(z, Omega_m, Omega_r, Omega_k, Omega_lambda, w0, wa, H0):\n",
    "    # Calculate the dark energy contribution\n",
    "    dark_energy_contribution = (1 + z)**(3 * (1 + w0 + wa)) * np.exp(-3 * wa * z / (1 + z))\n",
    "    \n",
    "    # Calculate H(z)\n",
    "    Hz = H0 * np.sqrt(\n",
    "        Omega_m * (1 + z)**3 +\n",
    "        Omega_r * (1 + z)**4 +\n",
    "        Omega_k * (1 + z)**2 +\n",
    "        Omega_lambda * dark_energy_contribution\n",
    "    )\n",
    "    \n",
    "    return Hz\n",
    "\n",
    "# Set the cosmology\n",
    "H0 = 67.5\n",
    "omega_matter = 0.319\n",
    "omega_rad = 2.47e-5/(0.672)**2 # 0.00005 \n",
    "omega_k = 0\n",
    "omega_L = 0.681 # 1 - omega_matter - omega_rad - omega_k\n",
    "w0 = -0.5\n",
    "wa = -1.3"
   ]
  },
  {
   "cell_type": "code",
   "execution_count": 11,
   "metadata": {},
   "outputs": [],
   "source": [
    "# Extract relevant columns\n",
    "d = data['mb'].values\n",
    "dmb = data['dmb'].values\n",
    "z_list = data['zcmb'].values\n",
    "\n",
    "\n",
    "\n",
    "mu = []\n",
    "for z_prime in z_list:\n",
    "    mu.append(5*np.log10(Dc_w0wa(hubble_function_w0wa, z_prime, omega_matter, omega_rad, omega_k, omega_L, w0, wa, H0)*(1+z_prime)) + 25) #mu.append(5*np.log10(Dc(hubble_function,z_prime,0.319,0,-1,68)*(1+z_prime)) + 25)\n",
    "#print(mu)\n",
    "'''\n",
    "# Plot mu vs z (to verify that the distances are right)\n",
    "plt.plot(z_list, mu, 'o')\n",
    "plt.xlabel('Redshift z')\n",
    "plt.ylabel('Distance Modulus mu')\n",
    "plt.title('Distance Modulus vs Redshift')\n",
    "plt.show()\n",
    "'''\n",
    "data['mb'] = mu\n",
    "# Define the likelihood function\n",
    "def ln_likelihood(params, data, cov_inv):\n",
    "    H0, Omega_mat, Omega_rad, Omega_k, Omega_L, w0, wa = params \n",
    "    #print(H0, Om0)\n",
    "    # Check if the parameters are within the physical range\n",
    "    if Omega_mat and Omega_rad and Omega_k and Omega_L < 0:\n",
    "        return -np.inf\n",
    "    if w0 < -2 or w0 > 0:\n",
    "        return -np.inf\n",
    "    if wa < -3 or wa > 0:\n",
    "        return -np.inf\n",
    "    z = data['zcmb'].values\n",
    "    d = data['mb'].values \n",
    "    mu = []\n",
    "    for z_prime in z_list:\n",
    "        mu.append(5*np.log10(Dc_w0wa(hubble_function_w0wa, z_prime, omega_matter, omega_rad, omega_k, omega_L, w0, wa, H0)*(1+z_prime)) + 25) #it is equivalent to get_mu(z, H0, Om0, w0, wa)\n",
    "    diff = d - mu\n",
    "    term1 = -0.5 * diff @ cov_inv @ diff # @ is the matrix multiplication\n",
    "    \n",
    "    return term1 \n",
    "\n",
    "def neg_ln_likelihood(params, data, cov_inv):\n",
    "    return -2*ln_likelihood(params, data, cov_inv)\n"
   ]
  },
  {
   "cell_type": "code",
   "execution_count": 12,
   "metadata": {},
   "outputs": [
    {
     "name": "stdout",
     "output_type": "stream",
     "text": [
      "2024-07-24 23:48:01.373441 :: \u001b[32mpyACC.CosmologicalDistances \u001b[0m :: neg_Ln_likelihood is: -0.0\n",
      "2024-07-24 23:48:07.851245 :: \u001b[32mpyACC.CosmologicalDistances \u001b[0m :: Optimized Parameters: [ 6.75e+01  3.19e-01  5.00e-05  0.00e+00  6.81e-01 -5.00e-01 -1.30e+00]\n",
      "2024-07-24 23:48:07.851788 :: \u001b[32mpyACC.CosmologicalDistances \u001b[0m :: Optimized Log Likelihood: 0.0\n",
      "2024-07-24 23:48:07.851949 :: \u001b[32mpyACC.CosmologicalDistances \u001b[0m :: Best fit parameters: H0 = 67.5, Omega_matter = 0.319, Omega_rad = 5e-05, Omega_k = 0.0, Omega_L = 0.681, w0 = -0.5, wa = -1.3\n",
      "2024-07-24 23:48:07.852037 :: \u001b[32mpyACC.CosmologicalDistances \u001b[0m ::  message: Optimization terminated successfully.\n",
      " success: True\n",
      "  status: 0\n",
      "     fun: -0.0\n",
      "       x: [ 6.750e+01  3.190e-01  5.000e-05  0.000e+00  6.810e-01\n",
      "           -5.000e-01 -1.300e+00]\n",
      "     nit: 1\n",
      "   direc: [[ 1.000e+00  0.000e+00 ...  0.000e+00  0.000e+00]\n",
      "           [ 0.000e+00  1.000e+00 ...  0.000e+00  0.000e+00]\n",
      "           ...\n",
      "           [ 0.000e+00  0.000e+00 ...  1.000e+00  0.000e+00]\n",
      "           [ 0.000e+00  0.000e+00 ...  0.000e+00  1.000e+00]]\n",
      "    nfev: 44\n"
     ]
    }
   ],
   "source": [
    "# Example data and covariance inverse matrix\n",
    "z = data['zcmb'].values\n",
    "d = data['mb'].values + 19.3\n",
    "dmb = data['dmb'].values\n",
    "\n",
    "# Compute the covariance matrix\n",
    "Sigma = np.diag(dmb**2)\n",
    "cov_inv = np.linalg.inv(Sigma)\n",
    "\n",
    "# Initial guess for the parameters [H0, Om0]\n",
    "initial_guess = [67.5, 0.319, 0.00005, 0, 0.681, -0.5, -1.3]\n",
    "print(\"neg_Ln_likelihood is:\", neg_ln_likelihood(initial_guess, data, np.linalg.inv(np.diag(dmb**2))))\n",
    "\n",
    "\n",
    "# Run the optimizer\n",
    "result = minimize(neg_ln_likelihood, initial_guess, args=(data, cov_inv), method='Powell') # , method='Powell'\n",
    "# Optimized parameters\n",
    "optimized_params = result.x\n",
    "optimized_log_likelihood = -result.fun\n",
    "\n",
    "print(\"Optimized Parameters:\", optimized_params)\n",
    "print(\"Optimized Log Likelihood:\", optimized_log_likelihood)\n",
    "\n",
    "# Best fit parameters\n",
    "#print(f\"Best fit parameters: H0 = {best_fit_params[0]}, Om0 = {best_fit_params[1]}\")\n",
    "print(f\"Best fit parameters: H0 = {optimized_params[0]}, Omega_matter = {optimized_params[1]}, Omega_rad = {optimized_params[2]}, Omega_k = {optimized_params[3]}, Omega_L = {optimized_params[4]}, w0 = {optimized_params[5]}, wa = {optimized_params[6]}\")\n",
    "print(result)"
   ]
  },
  {
   "cell_type": "code",
   "execution_count": 14,
   "metadata": {},
   "outputs": [
    {
     "data": {
      "image/png": "[encoded data removed]",
      "text/plain": [
       "<Figure size 640x480 with 1 Axes>"
      ]
     },
     "metadata": {},
     "output_type": "display_data"
    }
   ],
   "source": [
    "# Generate model predictions using the best fit parameters\n",
    "#z = data['zcmb'].values\n",
    "H0_best, Omega_matter_best, Omega_rad_best, Omega_k_best, Omega_L_best, w0_best, wa_best = optimized_params\n",
    "mu_best = []\n",
    "for z_prime in z_list:\n",
    "    mu_best.append(5*np.log10(Dc_w0wa(hubble_function_w0wa, z_prime, Omega_matter_best, Omega_rad_best, Omega_k_best, Omega_L_best, w0_best, wa_best, H0_best)*(1+z_prime)) + 25)\n",
    "\n",
    "# mb is mu +19.3, so:\n",
    "y = data['mb'].values # cfr. Mari\n",
    "#xerr = data['dz'].values\n",
    "\n",
    "# Plot the observed data and model predictions\n",
    "plt.errorbar(z, y, yerr=data['dmb'], fmt='o', label='Observed Data')\n",
    "plt.plot(z_list, mu_best, 'r-', label='Best Fit Model')\n",
    "plt.xlabel('Redshift (z)')\n",
    "plt.ylabel('Distance Modulus (mu)')\n",
    "plt.legend()\n",
    "plt.show()"
   ]
  }
 ],
 "metadata": {
  "kernelspec": {
   "display_name": "acc-env",
   "language": "python",
   "name": "python3"
  },
  "language_info": {
   "codemirror_mode": {
    "name": "ipython",
    "version": 3
   },
   "file_extension": ".py",
   "mimetype": "text/x-python",
   "name": "python",
   "nbconvert_exporter": "python",
   "pygments_lexer": "ipython3",
   "version": "3.9.19"
  }
 },
 "nbformat": 4,
 "nbformat_minor": 2
}
