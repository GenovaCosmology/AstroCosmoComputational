{
 "cells": [
  {
   "cell_type": "code",
   "execution_count": 5,
   "metadata": {},
   "outputs": [
    {
     "name": "stderr",
     "output_type": "stream",
     "text": [
      "100%|██████████| 10000/10000 [1:49:39<00:00,  1.52it/s] \n"
     ]
    },
    {
     "ename": "AutocorrError",
     "evalue": "The chain is shorter than 50 times the integrated autocorrelation time for 46 parameter(s). Use this estimate with caution and run a longer chain!\nN/50 = 200;\ntau: [533.94632699 515.88644905 596.3789235  598.23444769 555.50284052\n 544.47655242 514.18936504 567.04521639 543.29137915 546.64196877\n 560.55605775 566.52391419 520.22958863 524.92615577 582.88274411\n 532.06037082 558.58842559 586.77301647 535.31702543 533.24729758\n 566.84494213 608.29149223 559.84223687 499.75865767 540.4790504\n 573.16709299 598.52571407 545.94989325 556.39722788 547.57393793\n 558.89363547 573.54168094 499.59071094 572.29664506 580.09320155\n 552.44575962 603.82049177 560.77793474 580.09449264 554.33366381\n 597.3044319  502.9131125  616.763787   545.22202609          nan\n 563.39777262 595.58553462]",
     "output_type": "error",
     "traceback": [
      "\u001b[0;31m---------------------------------------------------------------------------\u001b[0m",
      "\u001b[0;31mAutocorrError\u001b[0m                             Traceback (most recent call last)",
      "Cell \u001b[0;32mIn[5], line 51\u001b[0m\n\u001b[1;32m     48\u001b[0m q_lstsq, sigma_lstsq \u001b[38;5;241m=\u001b[39m np\u001b[38;5;241m.\u001b[39mloadtxt(lstsq_results_path,unpack\u001b[38;5;241m=\u001b[39m\u001b[38;5;28;01mTrue\u001b[39;00m)\n\u001b[1;32m     50\u001b[0m \u001b[38;5;66;03m# run MCMC\u001b[39;00m\n\u001b[0;32m---> 51\u001b[0m \u001b[43mrun_MCMC\u001b[49m\u001b[43m(\u001b[49m\u001b[43mnwalkers\u001b[49m\u001b[43m \u001b[49m\u001b[38;5;241;43m=\u001b[39;49m\u001b[43m \u001b[49m\u001b[43mN_WALKERS\u001b[49m\u001b[43m,\u001b[49m\n\u001b[1;32m     52\u001b[0m \u001b[43m         \u001b[49m\u001b[43mchain\u001b[49m\u001b[43m \u001b[49m\u001b[38;5;241;43m=\u001b[39;49m\u001b[43m \u001b[49m\u001b[43mN_CHAIN\u001b[49m\u001b[43m,\u001b[49m\n\u001b[1;32m     53\u001b[0m \u001b[43m         \u001b[49m\u001b[43mdata_paths\u001b[49m\u001b[43m \u001b[49m\u001b[38;5;241;43m=\u001b[39;49m\u001b[43m \u001b[49m\u001b[43m[\u001b[49m\u001b[43mY_fits_path\u001b[49m\u001b[43m,\u001b[49m\u001b[43m \u001b[49m\u001b[43mL_fits_path\u001b[49m\u001b[43m,\u001b[49m\u001b[43m \u001b[49m\u001b[43mC_fits_path\u001b[49m\u001b[43m]\u001b[49m\u001b[43m,\u001b[49m\n\u001b[1;32m     54\u001b[0m \u001b[43m         \u001b[49m\u001b[43mlstsq_results\u001b[49m\u001b[43m \u001b[49m\u001b[38;5;241;43m=\u001b[39;49m\u001b[43m \u001b[49m\u001b[43m[\u001b[49m\u001b[43mq_lstsq\u001b[49m\u001b[43m,\u001b[49m\u001b[43m \u001b[49m\u001b[43msigma_lstsq\u001b[49m\u001b[43m]\u001b[49m\u001b[43m,\u001b[49m\n\u001b[1;32m     55\u001b[0m \u001b[43m         \u001b[49m\u001b[43mprior_width_ratio\u001b[49m\u001b[43m \u001b[49m\u001b[38;5;241;43m=\u001b[39;49m\u001b[43m \u001b[49m\u001b[43mPRIOR_WIDTH_RATIO\u001b[49m\u001b[43m,\u001b[49m\n\u001b[1;32m     56\u001b[0m \u001b[43m         \u001b[49m\u001b[43moutpath\u001b[49m\u001b[43m \u001b[49m\u001b[38;5;241;43m=\u001b[39;49m\u001b[43m \u001b[49m\u001b[43mOUTPATH\u001b[49m\u001b[43m,\u001b[49m\n\u001b[1;32m     57\u001b[0m \u001b[43m         \u001b[49m\u001b[43mcontd\u001b[49m\u001b[43m \u001b[49m\u001b[38;5;241;43m=\u001b[39;49m\u001b[43m \u001b[49m\u001b[43mCONTD\u001b[49m\u001b[43m)\u001b[49m\n",
      "File \u001b[0;32m~/AstroCosmoComputational/Students/Gabriele_Russo/ExamProject/MCMC_utils.py:146\u001b[0m, in \u001b[0;36mrun_MCMC\u001b[0;34m(nwalkers, chain, data_paths, lstsq_results, prior_width_ratio, outpath, contd)\u001b[0m\n\u001b[1;32m    144\u001b[0m \u001b[38;5;28;01melse\u001b[39;00m:\n\u001b[1;32m    145\u001b[0m     sampler\u001b[38;5;241m.\u001b[39mrun_mcmc(x0, chain, progress\u001b[38;5;241m=\u001b[39m\u001b[38;5;28;01mTrue\u001b[39;00m,skip_initial_state_check\u001b[38;5;241m=\u001b[39m\u001b[38;5;28;01mTrue\u001b[39;00m);\n\u001b[0;32m--> 146\u001b[0m     tau \u001b[38;5;241m=\u001b[39m \u001b[43msampler\u001b[49m\u001b[38;5;241;43m.\u001b[39;49m\u001b[43mget_autocorr_time\u001b[49m\u001b[43m(\u001b[49m\u001b[43m)\u001b[49m\n\u001b[1;32m    147\u001b[0m     \u001b[38;5;28mprint\u001b[39m(\u001b[38;5;124m'\u001b[39m\u001b[38;5;124mTau:\u001b[39m\u001b[38;5;124m'\u001b[39m, tau)\n",
      "File \u001b[0;32m~/anaconda3/envs/acc-env/lib/python3.9/site-packages/emcee/ensemble.py:621\u001b[0m, in \u001b[0;36mEnsembleSampler.get_autocorr_time\u001b[0;34m(self, **kwargs)\u001b[0m\n\u001b[1;32m    620\u001b[0m \u001b[38;5;28;01mdef\u001b[39;00m \u001b[38;5;21mget_autocorr_time\u001b[39m(\u001b[38;5;28mself\u001b[39m, \u001b[38;5;241m*\u001b[39m\u001b[38;5;241m*\u001b[39mkwargs):\n\u001b[0;32m--> 621\u001b[0m     \u001b[38;5;28;01mreturn\u001b[39;00m \u001b[38;5;28;43mself\u001b[39;49m\u001b[38;5;241;43m.\u001b[39;49m\u001b[43mbackend\u001b[49m\u001b[38;5;241;43m.\u001b[39;49m\u001b[43mget_autocorr_time\u001b[49m\u001b[43m(\u001b[49m\u001b[38;5;241;43m*\u001b[39;49m\u001b[38;5;241;43m*\u001b[39;49m\u001b[43mkwargs\u001b[49m\u001b[43m)\u001b[49m\n",
      "File \u001b[0;32m~/anaconda3/envs/acc-env/lib/python3.9/site-packages/emcee/backends/backend.py:150\u001b[0m, in \u001b[0;36mBackend.get_autocorr_time\u001b[0;34m(self, discard, thin, **kwargs)\u001b[0m\n\u001b[1;32m    131\u001b[0m \u001b[38;5;250m\u001b[39m\u001b[38;5;124;03m\"\"\"Compute an estimate of the autocorrelation time for each parameter\u001b[39;00m\n\u001b[1;32m    132\u001b[0m \n\u001b[1;32m    133\u001b[0m \u001b[38;5;124;03mArgs:\u001b[39;00m\n\u001b[0;32m   (...)\u001b[0m\n\u001b[1;32m    147\u001b[0m \n\u001b[1;32m    148\u001b[0m \u001b[38;5;124;03m\"\"\"\u001b[39;00m\n\u001b[1;32m    149\u001b[0m x \u001b[38;5;241m=\u001b[39m \u001b[38;5;28mself\u001b[39m\u001b[38;5;241m.\u001b[39mget_chain(discard\u001b[38;5;241m=\u001b[39mdiscard, thin\u001b[38;5;241m=\u001b[39mthin)\n\u001b[0;32m--> 150\u001b[0m \u001b[38;5;28;01mreturn\u001b[39;00m thin \u001b[38;5;241m*\u001b[39m \u001b[43mautocorr\u001b[49m\u001b[38;5;241;43m.\u001b[39;49m\u001b[43mintegrated_time\u001b[49m\u001b[43m(\u001b[49m\u001b[43mx\u001b[49m\u001b[43m,\u001b[49m\u001b[43m \u001b[49m\u001b[38;5;241;43m*\u001b[39;49m\u001b[38;5;241;43m*\u001b[39;49m\u001b[43mkwargs\u001b[49m\u001b[43m)\u001b[49m\n",
      "File \u001b[0;32m~/anaconda3/envs/acc-env/lib/python3.9/site-packages/emcee/autocorr.py:120\u001b[0m, in \u001b[0;36mintegrated_time\u001b[0;34m(x, c, tol, quiet, has_walkers)\u001b[0m\n\u001b[1;32m    118\u001b[0m     msg \u001b[38;5;241m+\u001b[39m\u001b[38;5;241m=\u001b[39m \u001b[38;5;124m\"\u001b[39m\u001b[38;5;124mN/\u001b[39m\u001b[38;5;132;01m{0}\u001b[39;00m\u001b[38;5;124m = \u001b[39m\u001b[38;5;132;01m{1:.0f}\u001b[39;00m\u001b[38;5;124m;\u001b[39m\u001b[38;5;130;01m\\n\u001b[39;00m\u001b[38;5;124mtau: \u001b[39m\u001b[38;5;132;01m{2}\u001b[39;00m\u001b[38;5;124m\"\u001b[39m\u001b[38;5;241m.\u001b[39mformat(tol, n_t \u001b[38;5;241m/\u001b[39m tol, tau_est)\n\u001b[1;32m    119\u001b[0m     \u001b[38;5;28;01mif\u001b[39;00m \u001b[38;5;129;01mnot\u001b[39;00m quiet:\n\u001b[0;32m--> 120\u001b[0m         \u001b[38;5;28;01mraise\u001b[39;00m AutocorrError(tau_est, msg)\n\u001b[1;32m    121\u001b[0m     logger\u001b[38;5;241m.\u001b[39mwarning(msg)\n\u001b[1;32m    123\u001b[0m \u001b[38;5;28;01mreturn\u001b[39;00m tau_est\n",
      "\u001b[0;31mAutocorrError\u001b[0m: The chain is shorter than 50 times the integrated autocorrelation time for 46 parameter(s). Use this estimate with caution and run a longer chain!\nN/50 = 200;\ntau: [533.94632699 515.88644905 596.3789235  598.23444769 555.50284052\n 544.47655242 514.18936504 567.04521639 543.29137915 546.64196877\n 560.55605775 566.52391419 520.22958863 524.92615577 582.88274411\n 532.06037082 558.58842559 586.77301647 535.31702543 533.24729758\n 566.84494213 608.29149223 559.84223687 499.75865767 540.4790504\n 573.16709299 598.52571407 545.94989325 556.39722788 547.57393793\n 558.89363547 573.54168094 499.59071094 572.29664506 580.09320155\n 552.44575962 603.82049177 560.77793474 580.09449264 554.33366381\n 597.3044319  502.9131125  616.763787   545.22202609          nan\n 563.39777262 595.58553462]"
     ]
    }
   ],
   "source": [
    "'''\n",
    "A minimum working example to run MCMC for SH0ES data.\n",
    "Y.S.Murakami 2021-2022 @ JHU\n",
    "'''\n",
    "import numpy as np\n",
    "from MCMC_utils import *\n",
    "\n",
    "##### config #####\n",
    "# change the variables below for desired data files, output path, MCMC settings, etc.\n",
    "\n",
    "# least square fit results (for initial guess and constructing priors)\n",
    "lstsq_results_path = '/home/git/AstroCosmoComputational/Students/Gabriele_Russo/ExamProject/lstsq_results.txt'\n",
    "\n",
    "# file names for equation matrices\n",
    "Y_fits_path = '/home/git/AstroCosmoComputational/Students/Gabriele_Russo/ExamProject/ally_shoes_ceph_topantheonwt6.0_112221.fits'\n",
    "L_fits_path = '/home/git/AstroCosmoComputational/Students/Gabriele_Russo/ExamProject/alll_shoes_ceph_topantheonwt6.0_112221.fits'\n",
    "C_fits_path = '/home/git/AstroCosmoComputational/Students/Gabriele_Russo/ExamProject/allc_shoes_ceph_topantheonwt6.0_112221.fits'\n",
    "\n",
    "# default output file name\n",
    "OUTPATH = \"/home/git/AstroCosmoComputational/Students/Gabriele_Russo/ExamProject/final_v2_baseline.h5\"\n",
    "\n",
    "# MCMC sampler settings\n",
    "N_WALKERS = 100  # number of walkers, i.e. number of chains\n",
    "N_CHAIN  = 10000   # length of chain for each walker (total number of samples = N_WALKERS * N_CHAIN), \n",
    "# i.e. how many steps to take for each chain\n",
    "CONTD = False    # set CONTD = True to resume sampling (for specific OUTPATH)\n",
    "# note: keeping CONTD = False may overwrite an existing file.\n",
    "\n",
    "# Ratio between least-square fit STD to the half-width of uniform prior:\n",
    "# this needs to be much larger than the width of posterior distribution\n",
    "# but making it too large will cost more computing time.\n",
    "# We found PRIOR_WIDTH_RATIO = 10 to be optimal\n",
    "PRIOR_WIDTH_RATIO = 10\n",
    "\n",
    "##### end of config #####\n",
    "\n",
    "\n",
    "        \n",
    "if __name__ == '__main__':\n",
    "    # load least-square, bets-fit results by default\n",
    "    #\n",
    "    # note:\n",
    "    # Passing manually defined arrays to 'lstsq_results' argument\n",
    "    # and setting PRIOR_WIDTH_RATIO = 0 will allow users to define\n",
    "    # the desired central values and width of the prior manually.\n",
    "    # If you wish to use different (e.g., Gaussian) priors, define\n",
    "    # the analytic Gaussian function in MCMC_utils.py file accordingly.\n",
    "    q_lstsq, sigma_lstsq = np.loadtxt(lstsq_results_path,unpack=True)\n",
    "\n",
    "    # run MCMC\n",
    "    run_MCMC(nwalkers = N_WALKERS,\n",
    "             chain = N_CHAIN,\n",
    "             data_paths = [Y_fits_path, L_fits_path, C_fits_path],\n",
    "             lstsq_results = [q_lstsq, sigma_lstsq],\n",
    "             prior_width_ratio = PRIOR_WIDTH_RATIO,\n",
    "             outpath = OUTPATH,\n",
    "             contd = CONTD)"
   ]
  },
  {
   "cell_type": "code",
   "execution_count": null,
   "metadata": {},
   "outputs": [],
   "source": []
  }
 ],
 "metadata": {
  "kernelspec": {
   "display_name": "acc-env",
   "language": "python",
   "name": "python3"
  },
  "language_info": {
   "codemirror_mode": {
    "name": "ipython",
    "version": 3
   },
   "file_extension": ".py",
   "mimetype": "text/x-python",
   "name": "python",
   "nbconvert_exporter": "python",
   "pygments_lexer": "ipython3",
   "version": "3.9.undefined"
  }
 },
 "nbformat": 4,
 "nbformat_minor": 2
}
