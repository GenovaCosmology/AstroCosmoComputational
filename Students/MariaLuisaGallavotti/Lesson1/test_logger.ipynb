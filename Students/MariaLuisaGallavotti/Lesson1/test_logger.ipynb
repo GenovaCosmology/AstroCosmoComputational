{
 "cells": [
  {
   "cell_type": "markdown",
   "metadata": {},
   "source": [
    "# Exercise #1\n",
    "\n",
    "This exercise is focused on doing the first steps with Python, Python notebooks and Python modules\n",
    "This notebook, that you have to fill, simply override the default ´print´ Python function with\n",
    "a customized logger. \n",
    "\n",
    "The goal of the exercise is extremely simple:\n",
    "\n",
    "1) Adjust your imports \n",
    "2) Customize your logger to print your name/whatever alias\n",
    "3) Play with source code to understand structure, add functionalities, whatever.\n"
   ]
  },
  {
   "cell_type": "markdown",
   "metadata": {},
   "source": [
    "## Imports"
   ]
  },
  {
   "cell_type": "code",
   "execution_count": 20,
   "metadata": {},
   "outputs": [],
   "source": [
    "import sys\n",
    "\n",
    "#specify the path to follow in order to know where to modify the function print (this is the path to arrive at the module pyacc)\n",
    "sys.path.append(\"/Users/marigalla/AstroCosmoComputational/Students/MariaLuisaGallavotti\")\n",
    "\n",
    "#import the class that will change the function (folder pyACC, folder helpers, file logger.py)\n",
    "from pyACC.helpers import Logger"
   ]
  },
  {
   "cell_type": "markdown",
   "metadata": {},
   "source": [
    "## Function usage"
   ]
  },
  {
   "cell_type": "code",
   "execution_count": 21,
   "metadata": {},
   "outputs": [
    {
     "name": "stdout",
     "output_type": "stream",
     "text": [
      "2024-02-29 12:39:11.860533 :: \u001b[32mmari \u001b[0m :: say goodbye to the old print function...\n"
     ]
    }
   ],
   "source": [
    "print(\"say goodbye to the old print function...\")"
   ]
  },
  {
   "cell_type": "code",
   "execution_count": 22,
   "metadata": {},
   "outputs": [],
   "source": [
    "#alias\n",
    "print = Logger('mari')"
   ]
  },
  {
   "cell_type": "code",
   "execution_count": 23,
   "metadata": {},
   "outputs": [
    {
     "name": "stdout",
     "output_type": "stream",
     "text": [
      "2024-02-29 12:39:11.869011 :: \u001b[32mmari \u001b[0m :: says hi!\n"
     ]
    }
   ],
   "source": [
    "#message\n",
    "print('says hi!')"
   ]
  }
 ],
 "metadata": {
  "kernelspec": {
   "display_name": "acc-env",
   "language": "python",
   "name": "python3"
  },
  "language_info": {
   "codemirror_mode": {
    "name": "ipython",
    "version": 3
   },
   "file_extension": ".py",
   "mimetype": "text/x-python",
   "name": "python",
   "nbconvert_exporter": "python",
   "pygments_lexer": "ipython3",
   "version": "3.9.18"
  }
 },
 "nbformat": 4,
 "nbformat_minor": 2
}
