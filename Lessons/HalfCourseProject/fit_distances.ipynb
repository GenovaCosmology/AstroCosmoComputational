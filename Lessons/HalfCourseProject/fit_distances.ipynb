{
 "cells": [
  {
   "cell_type": "code",
   "execution_count": null,
   "metadata": {},
   "outputs": [],
   "source": [
    "# Include relevant packages\n",
    "# Reduce the minimum methods in the notebook\n",
    "# Put everything in pyACC"
   ]
  },
  {
   "cell_type": "code",
   "execution_count": null,
   "metadata": {},
   "outputs": [],
   "source": [
    "# Theory\n",
    "\n",
    "# Define your functions to get cosmological distances from a list of redshifts and different\n",
    "# cosmological models\n",
    "# 1. LCDM\n",
    "# 2. wCDM\n",
    "# 3. your choice"
   ]
  },
  {
   "cell_type": "code",
   "execution_count": null,
   "metadata": {},
   "outputs": [],
   "source": [
    "# Dataset\n",
    "\n",
    "# Read the datasets, and plot the data against Planck 2018 LCDM cosmology"
   ]
  },
  {
   "cell_type": "code",
   "execution_count": null,
   "metadata": {},
   "outputs": [],
   "source": [
    "# Likelihood\n",
    "\n",
    "# Define the likelihood function for the data"
   ]
  },
  {
   "cell_type": "code",
   "execution_count": null,
   "metadata": {},
   "outputs": [],
   "source": [
    "# Likelihood maximization\n",
    "# Use scipy.optimize to maximize the likelihood function for different cosmological models\n",
    "# Get best-fit parameters and plot the best-fit model against the data and Planck 2018 cosmology"
   ]
  },
  {
   "cell_type": "code",
   "execution_count": null,
   "metadata": {},
   "outputs": [],
   "source": [
    "# Model selection\n",
    "# Test different models using the likelihood ratio test"
   ]
  },
  {
   "cell_type": "code",
   "execution_count": null,
   "metadata": {},
   "outputs": [],
   "source": [
    "# Sample the posterior\n",
    "\n",
    "# Define the priors for the cosmological parameters\n",
    "# Sample the posterior using MCMC in pyACC\n",
    "# Clean the chains and plot the results"
   ]
  },
  {
   "cell_type": "code",
   "execution_count": null,
   "metadata": {},
   "outputs": [],
   "source": [
    "# Analyze the results\n",
    "\n",
    "# Get relevant quantities from marginalized posteriors\n",
    "# Check consistency with maximum likelihood results\n",
    "# Check consistency with Planck 2018 results\n",
    "# Plot the chains\n",
    "# Plot the posterior distributions"
   ]
  },
  {
   "cell_type": "code",
   "execution_count": null,
   "metadata": {},
   "outputs": [],
   "source": [
    "# Summarize your results\n",
    "\n",
    "# Write a report with your results\n",
    "# put emphasis on the numerical part, specyfing the numerical techniques used.\n",
    "# Share your results in form of chains"
   ]
  }
 ],
 "metadata": {
  "language_info": {
   "name": "python"
  }
 },
 "nbformat": 4,
 "nbformat_minor": 2
}
