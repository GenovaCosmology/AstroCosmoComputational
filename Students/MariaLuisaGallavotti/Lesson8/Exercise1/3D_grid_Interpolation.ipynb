{
 "cells": [
  {
   "cell_type": "markdown",
   "metadata": {},
   "source": [
    "### 3D Collection of Points"
   ]
  },
  {
   "cell_type": "code",
   "execution_count": 1,
   "metadata": {},
   "outputs": [],
   "source": [
    "import numpy as np"
   ]
  },
  {
   "cell_type": "code",
   "execution_count": 2,
   "metadata": {},
   "outputs": [],
   "source": [
    "x_min,x_max,y_min,y_max,z_min,z_max=0,1,0,1,0,1\n",
    "N=11\n",
    "\n",
    "x=np.linspace(x_min,x_max,N)\n",
    "y=np.linspace(y_min,y_max,N)\n",
    "z=np.linspace(z_min,z_max,N)\n",
    "delta=x[1]-x[0]\n",
    "\n",
    "X,Y,Z=np.meshgrid(x,y,z)\n",
    "\n",
    "density=1.0\n",
    "densities=np.full_like(X,density)"
   ]
  },
  {
   "cell_type": "markdown",
   "metadata": {},
   "source": [
    "### Interpolating on a Grid\n",
    "- Interpolation involves estimating values between known data points, in this case I want to interpolate the 3D points onto a grid.\n",
    "\n",
    "### NGP/CIC Interpolation\n",
    "- NGP stands for \"Nearest Grid Point\" and CIC stands for \"Cloud-in-Cell.\"\n",
    "\n",
    "   - **Nearest Grid Point (NGP):** Each point is assigned to the grid point closest to it.\n",
    "  \n",
    "   - **Cloud-in-Cell (CIC):** This method assigns each particle's contribution to the surrounding grid cells, weighting according to its proximity. It's more accurate than NGP but computationally more expensive."
   ]
  }
 ],
 "metadata": {
  "kernelspec": {
   "display_name": "acc-env",
   "language": "python",
   "name": "python3"
  },
  "language_info": {
   "codemirror_mode": {
    "name": "ipython",
    "version": 3
   },
   "file_extension": ".py",
   "mimetype": "text/x-python",
   "name": "python",
   "nbconvert_exporter": "python",
   "pygments_lexer": "ipython3",
   "version": "3.9.18"
  }
 },
 "nbformat": 4,
 "nbformat_minor": 2
}
