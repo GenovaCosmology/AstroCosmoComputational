{
 "cells": [
  {
   "cell_type": "code",
   "execution_count": null,
   "metadata": {},
   "outputs": [],
   "source": [
    "import sys\n",
    "sys.path.append(\"../../\")\n",
    "\n",
    "import numpy as np\n",
    "import matplotlib.pyplot as plt\n",
    "plt.rcParams.update({\n",
    "    \"text.usetex\": True,\n",
    "    \"font.family\": \"serif\",})\n",
    "\n",
    "# Import pyACC logger\n",
    "from pyACC.helpers import Logger\n",
    "\n",
    "# Set the logger\n",
    "print = Logger(\"NFW profile\")\n",
    "\n",
    "# Import integration class\n",
    "from pyACC.calculus import Integrate"
   ]
  },
  {
   "cell_type": "markdown",
   "metadata": {},
   "source": [
    "# Navarro Frenk & White profile\n",
    "\n",
    "The Navarro-Frenk-White (NFW) profile is a model that describes the density profile of dark matter haloes. \n",
    "\n",
    "Derived from cosmological simulations, this model proved to be apt to describe halos of different sizes,\n",
    "from galaxies to the largest galaxy clusters.\n",
    "\n",
    "The formula for the NFW profile is given by:\n",
    "\n",
    "$$\n",
    "\\rho(r) = \\frac{\\rho_0}{\\frac{r}{r_s}\\left(1 + \\frac{r}{r_s}\\right)^2}\n",
    "$$\n",
    "\n",
    "where:\n",
    "- $\\rho_0$ is the characteristic density,\n",
    "- $r_s$ is the scale radius, the radius at which the slope of the profile changes.\n",
    "\n",
    "Let's implement this!"
   ]
  },
  {
   "cell_type": "code",
   "execution_count": null,
   "metadata": {},
   "outputs": [],
   "source": [
    "# Implement the Navarro-Frenk-White profile and documentation\n",
    "def NFW_profile(r, rho0, rs):\n",
    "    ..."
   ]
  },
  {
   "cell_type": "code",
   "execution_count": null,
   "metadata": {},
   "outputs": [],
   "source": [
    "# Radius in Mpc\n",
    "r = np.logspace(-4, np.log10(20000), 100) # in Kpc\n",
    "\n",
    "# Scale radius in Kpc\n",
    "rs = ...\n",
    "# Central density in M_sun / Kpc^3\n",
    "rho0 = ...\n",
    "\n",
    "# Calculate the density profile\n",
    "rho = NFW_profile(r, rho0, rs)\n",
    "\n",
    "# Plot!\n",
    "plt.plot(np.log10(r/rs), np.log10(rho/rho0), label=\"NFW profile\", color=\"k\", lw=3)\n",
    "plt.xlabel(r\"$\\log(R/r_s)$\")\n",
    "plt.ylabel(r\"$\\log(\\rho(r)/\\rho_0)$\");"
   ]
  },
  {
   "cell_type": "markdown",
   "metadata": {},
   "source": [
    "## Compute the enclosed mass\n",
    "\n",
    "Let's compute the enclosed mass:\n",
    "\n",
    "$$ M(<r) = 4 \\pi \\int_{r_{min}}^r \\mathrm{d}r' r'^2 \\rho(r') $$"
   ]
  },
  {
   "cell_type": "code",
   "execution_count": null,
   "metadata": {},
   "outputs": [],
   "source": [
    "# Compute the enclosed mass \n",
    "def M_enclosed(r, rho0, rs):\n",
    "    \"\"\"\n",
    "    Enclosed mass\n",
    "\n",
    "    Parameters\n",
    "    ----------\n",
    "    r : float\n",
    "        Radius\n",
    "    rho0 : float\n",
    "        Central density\n",
    "    rs : float\n",
    "        Scale radius\n",
    "    \n",
    "    Returns\n",
    "    -------\n",
    "    float\n",
    "        Enclosed mass at radius r\n",
    "    \"\"\"\n",
    "    \n",
    "    return 4 * np.pi * rho0 * rs**3 * (np.log((r + rs) / rs) - r / (r + rs))"
   ]
  },
  {
   "cell_type": "code",
   "execution_count": null,
   "metadata": {},
   "outputs": [],
   "source": [
    "# Compute the enclosed mass by integration\n",
    "# Implement \n",
    "def M_enclosed_integrand(r, rho0, rs):\n",
    "   ..."
   ]
  },
  {
   "cell_type": "code",
   "execution_count": null,
   "metadata": {},
   "outputs": [],
   "source": [
    "# Compute enclosed mass\n",
    "enclosed_mass_analytic = M_enclosed(r, rho0, rs)\n",
    "\n",
    "# Compute enclosed mass by integration\n",
    "enclosed_mass_integrated = ...\n",
    "\n",
    "# Compute the enclosed mass at radius r\n",
    "\n",
    "plt.loglog(r/1.e3, enclosed_mass_integrated, label=\"Enclosed mass\", lw=3)\n",
    "#plt.loglog(r/1.e3, enclosed_mass_integral, ls=\"--\", label=\"Enclosed mass (integral)\", lw=3)\n",
    "\n",
    "plt.legend()\n",
    "plt.xlabel(\"Radius [Mpc]\")\n",
    "plt.ylabel(\"Mass $[M_{\\odot}]$\");"
   ]
  },
  {
   "cell_type": "markdown",
   "metadata": {},
   "source": [
    "## Play with numbers, use your imagination!"
   ]
  },
  {
   "cell_type": "markdown",
   "metadata": {},
   "source": []
  }
 ],
 "metadata": {
  "kernelspec": {
   "display_name": "acc-env",
   "language": "python",
   "name": "python3"
  },
  "language_info": {
   "codemirror_mode": {
    "name": "ipython",
    "version": 3
   },
   "file_extension": ".py",
   "mimetype": "text/x-python",
   "name": "python",
   "nbconvert_exporter": "python",
   "pygments_lexer": "ipython3",
   "version": "3.9.18"
  }
 },
 "nbformat": 4,
 "nbformat_minor": 2
}
