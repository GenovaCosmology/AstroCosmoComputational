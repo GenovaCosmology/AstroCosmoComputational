{
 "cells": [
  {
   "cell_type": "code",
   "execution_count": 7,
   "metadata": {},
   "outputs": [],
   "source": [
    "import numpy as np\n",
    "from matplotlib import pyplot as plt\n",
    "import camb\n",
    "from scipy.interpolate import interp1d\n"
   ]
  },
  {
   "cell_type": "code",
   "execution_count": 8,
   "metadata": {},
   "outputs": [],
   "source": [
    "Omega_b = 0.5\n",
    "Omega_c = 0.25"
   ]
  },
  {
   "cell_type": "markdown",
   "metadata": {},
   "source": [
    "# Create the grid"
   ]
  },
  {
   "cell_type": "code",
   "execution_count": 9,
   "metadata": {},
   "outputs": [
    {
     "name": "stdout",
     "output_type": "stream",
     "text": [
      "0.012566370614359173 h/Mpc 1.2566370614359172 h/Mpc\n"
     ]
    }
   ],
   "source": [
    "side = 500\n",
    "Volume = side**3\n",
    "\n",
    "n_cells = 100\n",
    "spacing = side/n_cells\n",
    "\n",
    "kF = 2*np.pi/side\n",
    "kN = 2*np.pi/spacing\n",
    "\n",
    "print(kF, \"h/Mpc\", kN, \"h/Mpc\")\n"
   ]
  },
  {
   "cell_type": "code",
   "execution_count": 10,
   "metadata": {},
   "outputs": [
    {
     "name": "stdout",
     "output_type": "stream",
     "text": [
      "(100,) (100,) (51,)\n"
     ]
    }
   ],
   "source": [
    "kx = np.fft.fftfreq(n_cells,spacing)*np.pi*2\n",
    "ky = np.fft.fftfreq(n_cells,spacing)*np.pi*2\n",
    "kz = np.fft.rfftfreq(n_cells,spacing)*np.pi*2\n",
    "\n",
    "print(kx.shape, ky.shape, kz.shape)"
   ]
  },
  {
   "cell_type": "code",
   "execution_count": 11,
   "metadata": {},
   "outputs": [],
   "source": [
    "# ordino i k_i\n",
    "\n",
    "kx = np.fft.fftshift(kx)\n",
    "ky = np.fft.fftshift(ky)\n",
    "kz = np.fft.fftshift(kz)\n"
   ]
  },
  {
   "cell_type": "code",
   "execution_count": 13,
   "metadata": {},
   "outputs": [
    {
     "ename": "NameError",
     "evalue": "name 'pk_interpolate' is not defined",
     "output_type": "error",
     "traceback": [
      "\u001b[0;31m---------------------------------------------------------------------------\u001b[0m",
      "\u001b[0;31mNameError\u001b[0m                                 Traceback (most recent call last)",
      "Cell \u001b[0;32mIn[13], line 19\u001b[0m\n\u001b[1;32m     16\u001b[0m k \u001b[38;5;241m=\u001b[39m np\u001b[38;5;241m.\u001b[39msqrt(kx\u001b[38;5;241m*\u001b[39m\u001b[38;5;241m*\u001b[39m\u001b[38;5;241m2\u001b[39m \u001b[38;5;241m+\u001b[39m ky\u001b[38;5;241m*\u001b[39m\u001b[38;5;241m*\u001b[39m\u001b[38;5;241m2\u001b[39m \u001b[38;5;241m+\u001b[39m kz\u001b[38;5;241m*\u001b[39m\u001b[38;5;241m*\u001b[39m\u001b[38;5;241m2\u001b[39m)\n\u001b[1;32m     17\u001b[0m knorm \u001b[38;5;241m=\u001b[39m np\u001b[38;5;241m.\u001b[39msqrt(k)\n\u001b[0;32m---> 19\u001b[0m pks[i,j,k] \u001b[38;5;241m=\u001b[39m \u001b[43mpk_interpolate\u001b[49m(knorm) \u001b[38;5;66;03m# type: ignore\u001b[39;00m\n",
      "\u001b[0;31mNameError\u001b[0m: name 'pk_interpolate' is not defined"
     ]
    }
   ],
   "source": [
    "from scipy.interpolate import _interpolate\n",
    "\n",
    "\n",
    "pks = np.zeros((n_cells, n_cells, n_cells//2+1))\n",
    "\n",
    "for i in range(n_cells):\n",
    "    kx = i if i<= n_cells // 2 else i-n_cells\n",
    "    kx *= 2*np.pi/side\n",
    "\n",
    "    for j in range(n_cells):\n",
    "        ky = j if j<n_cells // 2 else j-n_cells\n",
    "        ky *= 2*np.pi/side\n",
    "\n",
    "        for k in range(n_cells//2+1):\n",
    "            kz = k*2*np.pi/side\n",
    "            k = np.sqrt(kx**2 + ky**2 + kz**2)\n",
    "            knorm = np.sqrt(k)\n",
    "\n",
    "            pks[i,j,k] = pk_interpolate(knorm) # type: ignore\n"
   ]
  },
  {
   "cell_type": "code",
   "execution_count": null,
   "metadata": {},
   "outputs": [
    {
     "data": {
      "text/plain": [
       "(100, 100, 51)"
      ]
     },
     "execution_count": 8,
     "metadata": {},
     "output_type": "execute_result"
    }
   ],
   "source": [
    "# generate Random field\n",
    "\n",
    "phase = np.random.uniform(size= pks.shape)*2*np.pi\n",
    "\n",
    "phase.shape\n",
    "\n",
    "delta_k_norm= np.random.normal(size=pks.shape)*np.sqrt(pks*Volume/2)\n",
    "\n",
    "delta_k = delta_k_norm * (np.cos(phase)+ 1j* np.sin(phase))\n",
    "\n",
    "delta_k.shape"
   ]
  },
  {
   "cell_type": "code",
   "execution_count": null,
   "metadata": {},
   "outputs": [
    {
     "data": {
      "image/png": "[encoded data removed]",
      "text/plain": [
       "<Figure size 640x480 with 1 Axes>"
      ]
     },
     "metadata": {},
     "output_type": "display_data"
    }
   ],
   "source": [
    "plt.imshow(delta_k_norm[:,:,2])\n",
    "delta_x = np.fft.irfftn(delta_k, norm=\"backward\")/spacing"
   ]
  },
  {
   "cell_type": "code",
   "execution_count": null,
   "metadata": {},
   "outputs": [],
   "source": []
  },
  {
   "cell_type": "markdown",
   "metadata": {},
   "source": [
    "### I campi gaussiani vanno bene per redshift elevati, se provassi a z = 1 avrei delta(x) a x più basse di 1, che non va bene"
   ]
  },
  {
   "cell_type": "markdown",
   "metadata": {},
   "source": [
    "## Extract power spectrum"
   ]
  },
  {
   "cell_type": "code",
   "execution_count": 14,
   "metadata": {},
   "outputs": [],
   "source": [
    "kx = np.fft.fftfreq(n_cells,spacing)*np.pi*2\n",
    "ky = np.fft.fftfreq(n_cells,spacing)*np.pi*2\n",
    "kz = np.fft.fftfreq(n_cells,spacing)*np.pi*2\n",
    "\n",
    "k_norm=[]\n",
    "\n",
    "for i in range(n_cells):\n",
    "    kx = i if i<= n_cells // 2 else i-n_cells\n",
    "    kx *= 2*np.pi/side\n",
    "\n",
    "    for j in range(n_cells):\n",
    "        ky = j if j<n_cells // 2 else j-n_cells\n",
    "        ky *= 2*np.pi/side\n",
    "\n",
    "        for k in range(n_cells//2+1):\n",
    "            kz = k*2*np.pi/side\n",
    "            k = np.sqrt(kx**2 + ky**2 + kz**2)\n",
    "            knorm = np.sqrt(k)\n",
    "            k_norm.append(knorm)\n"
   ]
  },
  {
   "cell_type": "code",
   "execution_count": 15,
   "metadata": {},
   "outputs": [
    {
     "ename": "NameError",
     "evalue": "name 'delta_k' is not defined",
     "output_type": "error",
     "traceback": [
      "\u001b[0;31m---------------------------------------------------------------------------\u001b[0m",
      "\u001b[0;31mNameError\u001b[0m                                 Traceback (most recent call last)",
      "Cell \u001b[0;32mIn[15], line 1\u001b[0m\n\u001b[0;32m----> 1\u001b[0m delta_k_sq\u001b[38;5;241m=\u001b[39m np\u001b[38;5;241m.\u001b[39mabs(\u001b[43mdelta_k\u001b[49m)\u001b[38;5;241m*\u001b[39m\u001b[38;5;241m*\u001b[39m\u001b[38;5;241m2\u001b[39m\n\u001b[1;32m      3\u001b[0m pks \u001b[38;5;241m=\u001b[39m delta_k_sq\u001b[38;5;241m.\u001b[39mflatten()\n\u001b[1;32m      4\u001b[0m plt\u001b[38;5;241m.\u001b[39mplot(k_norm, pks, \u001b[38;5;124m\"\u001b[39m\u001b[38;5;124mo\u001b[39m\u001b[38;5;124m\"\u001b[39m)\n",
      "\u001b[0;31mNameError\u001b[0m: name 'delta_k' is not defined"
     ]
    }
   ],
   "source": [
    "delta_k_sq= np.abs(delta_k)**2\n",
    "pks = delta_k_sq.flatten()\n",
    "plt.loglog(k_norm, pks, \"o\",label = 'delta')"
   ]
  }
 ],
 "metadata": {
  "kernelspec": {
   "display_name": "acc-env",
   "language": "python",
   "name": "python3"
  },
  "language_info": {
   "codemirror_mode": {
    "name": "ipython",
    "version": 3
   },
   "file_extension": ".py",
   "mimetype": "text/x-python",
   "name": "python",
   "nbconvert_exporter": "python",
   "pygments_lexer": "ipython3",
   "version": "3.9.18"
  }
 },
 "nbformat": 4,
 "nbformat_minor": 2
}
