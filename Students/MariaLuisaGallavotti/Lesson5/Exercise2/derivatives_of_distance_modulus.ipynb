{
 "cells": [
  {
   "cell_type": "markdown",
   "metadata": {},
   "source": [
    "# Derivatives of the distance modulus as a function of cosmological parameters ($H_0$,$\\Omega _m$,$w$)"
   ]
  },
  {
   "cell_type": "code",
   "execution_count": 24,
   "metadata": {},
   "outputs": [],
   "source": [
    "import sys\n",
    "sys.path.append(\"../../\")\n",
    "from pyACC.calculus import Operations\n",
    "from pyACC.cosmology import Dc\n",
    "\n",
    "import math as m\n",
    "import numpy as np"
   ]
  },
  {
   "cell_type": "markdown",
   "metadata": {},
   "source": [
    "## Distance modulus"
   ]
  },
  {
   "cell_type": "code",
   "execution_count": 25,
   "metadata": {},
   "outputs": [],
   "source": [
    "OmegaM=0.319\n",
    "OmegaR=0\n",
    "w=-1\n",
    "H0=67\n",
    "z0=1\n",
    "\n",
    "def hubble_function(z,OmegaM,OmegaR,w,H0):\n",
    "    return H0*m.sqrt(OmegaM*(1+z)**3+OmegaR*(1+z)**4+(1-OmegaM-OmegaR)*(1+z)**(3*(1+w)))\n",
    "\n",
    "def distance_modulus_z(z):\n",
    "        return 5*m.log10(Dc(hubble_function,z,OmegaM,OmegaR,w,H0)*(1+z)*10**5)\n",
    "\n",
    "def distance_modulus_H0(H_0):\n",
    "     return 5*m.log10(Dc(hubble_function,z0,OmegaM,OmegaR,w,H_0)*(1+z0)*10**5)"
   ]
  },
  {
   "cell_type": "markdown",
   "metadata": {},
   "source": [
    "## Derivative"
   ]
  },
  {
   "cell_type": "markdown",
   "metadata": {},
   "source": [
    "**Redshift**"
   ]
  },
  {
   "cell_type": "code",
   "execution_count": 26,
   "metadata": {},
   "outputs": [
    {
     "name": "stdout",
     "output_type": "stream",
     "text": [
      "[2.66870829]\n"
     ]
    },
    {
     "name": "stderr",
     "output_type": "stream",
     "text": [
      "/var/folders/zj/ynn451w51tl8mfxzn0g716qr0000gn/T/ipykernel_24527/1752430825.py:11: DeprecationWarning: Conversion of an array with ndim > 0 to a scalar is deprecated, and will error in future. Ensure you extract a single element from your array before performing this operation. (Deprecated NumPy 1.25.)\n",
      "  return 5*m.log10(Dc(hubble_function,z,OmegaM,OmegaR,w,H0)*(1+z)*10**5)\n"
     ]
    }
   ],
   "source": [
    "op_z=Operations(distance_modulus_z)\n",
    "z_der=1.0\n",
    "print(op_z.differentiate(z_der))"
   ]
  },
  {
   "cell_type": "markdown",
   "metadata": {},
   "source": [
    "**Hubble constant**"
   ]
  },
  {
   "cell_type": "code",
   "execution_count": 27,
   "metadata": {},
   "outputs": [
    {
     "name": "stdout",
     "output_type": "stream",
     "text": [
      "[-0.03241001]\n"
     ]
    }
   ],
   "source": [
    "op_H0=Operations(distance_modulus_H0)\n",
    "H0_der=67\n",
    "print(op_H0.differentiate(H0_der))"
   ]
  }
 ],
 "metadata": {
  "kernelspec": {
   "display_name": "acc-env",
   "language": "python",
   "name": "python3"
  },
  "language_info": {
   "codemirror_mode": {
    "name": "ipython",
    "version": 3
   },
   "file_extension": ".py",
   "mimetype": "text/x-python",
   "name": "python",
   "nbconvert_exporter": "python",
   "pygments_lexer": "ipython3",
   "version": "3.9.18"
  }
 },
 "nbformat": 4,
 "nbformat_minor": 2
}
