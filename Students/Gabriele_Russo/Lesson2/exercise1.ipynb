{
 "cells": [
  {
   "cell_type": "code",
   "execution_count": 1,
   "metadata": {},
   "outputs": [],
   "source": [
    "import sys\n",
    "sys.path.append(\"../\")\n",
    "\n",
    "import numpy as np\n",
    "import matplotlib.pyplot as plt\n",
    "plt.rcParams.update({\n",
    "    \"text.usetex\": False,\n",
    "    \"font.family\": \"serif\",})\n",
    "\n",
    "# Import pyACC logger\n",
    "from pyACC.helpers import Logger\n",
    "\n",
    "# Set the logger\n",
    "print = Logger(\"IMF computation\")\n",
    "\n",
    "# Import your integration methods\n",
    "from pyACC.Calculus import trapezoid"
   ]
  },
  {
   "cell_type": "markdown",
   "metadata": {},
   "source": [
    "**INITIAL MASS FUNCTION (IMF)**\n",
    "\n",
    "The IMF is a key concept in stellar populations. It defines how star mass is distributed in a single formation event of a stellar population (SSP).\n",
    "\n",
    "This quantity is at the core of many astrophysical studies, from star clusters (open/globular) to galaxies, and it's fundamental to explain observational properties of the object in study.\n",
    "\n",
    "There are different assumptions for this distribution in literature. The more traditional is a power-law (Salpeter 1955):\n",
    "$$\n",
    "\\xi\\left(M\\right)= \\xi _0 M^{-\\alpha}\n",
    "$$\n",
    "where M is the mass in solar masses unit, $\\xi _0$\n",
    "is a normalisation constant and $\\alpha$ is the power-law exponent. A common assumption is $\\alpha=2.35$.\n",
    "Other, more recent definitions for the IMF are Kroupa (2002) (double power-law) and Chabrier (2003).\n",
    "Starting from the IMF, we will compute some key quantities of the stellar population."
   ]
  },
  {
   "cell_type": "code",
   "execution_count": 2,
   "metadata": {},
   "outputs": [],
   "source": [
    "# Definition of the IMS python function\n",
    "def get_IMF(M, alpha, xi_0):\n",
    "    \"\"\"\n",
    "    Generic function for the IMF\n",
    "\n",
    "    Parameters\n",
    "    ----------\n",
    "\n",
    "    M : float\n",
    "        Mass of the star\n",
    "    alpha : float\n",
    "        Power of the IMF\n",
    "    xi_0 : float    \n",
    "        Normalization factor\n",
    "    \n",
    "    Returns\n",
    "    -------\n",
    "    IMF : float\n",
    "        The value of the IMF at mass M\n",
    "    \"\"\"\n",
    "    return xi_0*M**(-alpha)"
   ]
  },
  {
   "cell_type": "code",
   "execution_count": 3,
   "metadata": {},
   "outputs": [
    {
     "data": {
      "text/plain": [
       "Text(0, 0.5, '$\\\\xi(M)$')"
      ]
     },
     "execution_count": 3,
     "metadata": {},
     "output_type": "execute_result"
    },
    {
     "data": {
      "image/png": "[encoded data removed]",
      "text/plain": [
       "<Figure size 640x480 with 1 Axes>"
      ]
     },
     "metadata": {},
     "output_type": "display_data"
    }
   ],
   "source": [
    "# Minimum and maximum mass size in solar masses unit\n",
    "mass_min = 0.1\n",
    "mass_max = 100\n",
    "\n",
    "# Power of the IMF\n",
    "alpha = 2.35\n",
    "# Normalisation of the IMF: to find xi_0 is necessary to integrate the Salpeter law and imposing the result being equal to 1\n",
    "#xi_0 = (1-alpha) * (mass_max**(-alpha + 1) - mass_min**(-alpha+1))**(-1)\n",
    "xi_0 = 10 #I just want a parameter to find\n",
    "\n",
    "# Create the mass vector\n",
    "mass = np.logspace(np.log10(mass_min), np.log10(mass_max), 100)\n",
    "\n",
    "# Plot in log scale\n",
    "plt.loglog(mass, get_IMF(mass, alpha, xi_0), lw=3, color=\"k\", ls=\"--\")\n",
    "plt.xlabel(r\"$M  [M_{\\odot}]$\")\n",
    "plt.ylabel(r\"$\\xi(M)$\")"
   ]
  },
  {
   "cell_type": "markdown",
   "metadata": {},
   "source": [
    "**Total number of stars**\n",
    "\n",
    "You can obtain the total number of stars by integrating the IMF over the mass range. The total number of stars is given by:\n",
    "$$\n",
    "N=\\int_{M_{min}}^{M_{max}}{\\xi \\left(M\\right)dM}\n",
    "$$\n",
    "\n",
    "To perform this integration:"
   ]
  },
  {
   "cell_type": "code",
   "execution_count": 4,
   "metadata": {},
   "outputs": [
    {
     "name": "stdout",
     "output_type": "stream",
     "text": [
      "2024-03-11 09:15:12.265899 :: \u001b[32mIMF computation \u001b[0m :: The total number of stars is 203\n"
     ]
    }
   ],
   "source": [
    "# Get the total number of stars\n",
    "\n",
    "# Create the integration object\n",
    "#def Salpeter(x):\n",
    "#    return xi_0*x**(-alpha)\n",
    "\n",
    "\n",
    "# Call your integration method to obtain the number of stars\n",
    "N = trapezoid(lambda M : get_IMF(M, alpha, xi_0), mass_min, mass_max, 0.1)\n",
    "\n",
    "# Print the result\n",
    "print(f\"The total number of stars is {N:.0f}\")"
   ]
  },
  {
   "cell_type": "markdown",
   "metadata": {},
   "source": [
    "**Average star mass**\n",
    "\n",
    "The average star mass can be compute quite strightforwardly:\n",
    "$$\n",
    "\\hat{M} = \\frac{\\int_{M_{min}}^{M_{max}}M \\xi \\left(M\\right)dM}{\\int_{M_{min}}^{M_{max}}\\xi \\left(M\\right)dM}\n",
    "$$\n",
    "\n"
   ]
  },
  {
   "cell_type": "code",
   "execution_count": 5,
   "metadata": {},
   "outputs": [
    {
     "name": "stdout",
     "output_type": "stream",
     "text": [
      "2024-03-11 09:15:12.288476 :: \u001b[32mIMF computation \u001b[0m :: The average star mass is: 2.98e-01 solar masses\n"
     ]
    }
   ],
   "source": [
    "# Compute the average star mass\n",
    "\n",
    "M_hat = trapezoid(lambda M : M*get_IMF(M, alpha, xi_0), mass_min, mass_max, 0.1)/N\n",
    "\n",
    "print(f\"The average star mass is: {M_hat:.2e} solar masses\")"
   ]
  },
  {
   "cell_type": "markdown",
   "metadata": {},
   "source": [
    "It seems like the Sun has a mass 3 to 4 times the average star ??????????"
   ]
  },
  {
   "cell_type": "code",
   "execution_count": 6,
   "metadata": {},
   "outputs": [],
   "source": [
    "#Star luminosity\n",
    "''' \n",
    "def get_star_luminosity(M):\n",
    "    \"\"\"\n",
    "    Get the star luminosity using the mass-luminosity\n",
    "    relation\n",
    "\n",
    "    Parameters\n",
    "    ----------\n",
    "    M : float\n",
    "        Mass of the star\n",
    "    \n",
    "    Returns\n",
    "    -------\n",
    "    L : float\n",
    "        Luminosity of the star\n",
    "    \"\"\"\n",
    "\n",
    "    if M < 0.43:\n",
    "        L = 0.23 * M**2.3\n",
    "    elif 0.43 < M < 2:\n",
    "        L = M**4\n",
    "    elif 2 < M < 20:\n",
    "        L = 1.5 * M**3.5\n",
    "    elif M > 20:\n",
    "        L = 3200 * M\n",
    "    \n",
    "    return L\n",
    "    '''\n",
    "def get_star_luminosity(M):\n",
    "    \"\"\"\n",
    "    Get the star luminosity using the mass-luminosity relation\n",
    "    \"\"\"\n",
    "    L = np.where(M < 0.43, 0.23 * M**2.3,\n",
    "                 np.where((M >= 0.43) & (M <= 2), M**4,\n",
    "                          np.where((M > 2) & (M <= 20), 1.5 * M**3.5,\n",
    "                                   np.where(M > 20, 3200 * M, np.nan))))\n",
    "    return L\n"
   ]
  },
  {
   "cell_type": "code",
   "execution_count": 7,
   "metadata": {},
   "outputs": [
    {
     "name": "stdout",
     "output_type": "stream",
     "text": [
      "2024-03-11 09:15:12.486516 :: \u001b[32mIMF computation \u001b[0m :: The average star mass is: 4.41e-01 solar luminosity\n"
     ]
    }
   ],
   "source": [
    "# Compute average luminosity in analogy to average mass\n",
    "L_hat = trapezoid(lambda M: (get_star_luminosity(M)*get_IMF(M, alpha, xi_0))/N, mass_min, mass_max, 0.1)/N\n",
    "\n",
    "print(f\"The average star mass is: {L_hat:.2e} solar luminosity\")"
   ]
  },
  {
   "cell_type": "markdown",
   "metadata": {},
   "source": [
    "73 luminosità solari!!!!!!!!!!!!!!!!!!!!!!!!!!!!!!!!!!!!!!!!! Non vedo l'errore..."
   ]
  },
  {
   "cell_type": "code",
   "execution_count": 8,
   "metadata": {},
   "outputs": [
    {
     "data": {
      "text/plain": [
       "Text(0, 0.5, '$L(M) [L_{\\\\odot}]$')"
      ]
     },
     "execution_count": 8,
     "metadata": {},
     "output_type": "execute_result"
    },
    {
     "data": {
      "image/png": "[encoded data removed]",
      "text/plain": [
       "<Figure size 640x480 with 1 Axes>"
      ]
     },
     "metadata": {},
     "output_type": "display_data"
    }
   ],
   "source": [
    "# Plot luminosity\n",
    "plt.plot(np.log10(mass), np.log10([get_star_luminosity(m) for m in mass]), lw=3, color=\"k\", ls=\"--\")\n",
    "plt.axhline(np.log10(L_hat), color=\"r\", lw=3, ls=\"--\", label=\"Average luminosity\")\n",
    "plt.xlabel(r\"$M  [M_{\\odot}]$\")\n",
    "plt.ylabel(r\"$L(M) [L_{\\odot}]$\")"
   ]
  }
 ],
 "metadata": {
  "kernelspec": {
   "display_name": "acc-env",
   "language": "python",
   "name": "python3"
  },
  "language_info": {
   "codemirror_mode": {
    "name": "ipython",
    "version": 3
   },
   "file_extension": ".py",
   "mimetype": "text/x-python",
   "name": "python",
   "nbconvert_exporter": "python",
   "pygments_lexer": "ipython3",
   "version": "3.9.18"
  }
 },
 "nbformat": 4,
 "nbformat_minor": 2
}
