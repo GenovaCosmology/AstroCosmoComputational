{
 "cells": [
  {
   "cell_type": "code",
   "execution_count": 1,
   "id": "6e899e9c-abdd-42c2-8802-231672be8eda",
   "metadata": {},
   "outputs": [],
   "source": [
    "import scipy\n",
    "import scipy.integrate as integrate\n",
    "import scipy.interpolate as interpolate\n",
    "#from scipy import interpolate\n",
    "import matplotlib.pyplot as plt\n",
    "import numpy as np\n",
    "import sys\n",
    "from sympy import *\n",
    "sys.path.append(\"../\")\n",
    "from pyACC.calculus import *\n",
    "from pyACC.cosmology import *"
   ]
  },
  {
   "cell_type": "markdown",
   "id": "27064d47-dcf2-4aba-8f86-0237a2a46d1a",
   "metadata": {},
   "source": [
    "For a fixed cosmological model create a linear interpolator"
   ]
  },
  {
   "cell_type": "code",
   "execution_count": 2,
   "id": "77b457a8-65a9-4870-9672-3aabd0e1f2da",
   "metadata": {},
   "outputs": [],
   "source": [
    "z_f = 1\n",
    "redshift = np.linspace(0,z_f,100)\n",
    "Dc_t = [Dc(z) for z in redshift]"
   ]
  },
  {
   "cell_type": "code",
   "execution_count": 3,
   "id": "22eb75a8-77c5-436f-93cc-e6c2290d84a3",
   "metadata": {},
   "outputs": [
    {
     "ename": "AttributeError",
     "evalue": "'function' object has no attribute 'interp1d'",
     "output_type": "error",
     "traceback": [
      "\u001b[0;31m---------------------------------------------------------------------------\u001b[0m",
      "\u001b[0;31mAttributeError\u001b[0m                            Traceback (most recent call last)",
      "Cell \u001b[0;32mIn[3], line 5\u001b[0m\n\u001b[1;32m      3\u001b[0m y \u001b[38;5;241m=\u001b[39m [Dc(z) \u001b[38;5;28;01mfor\u001b[39;00m z \u001b[38;5;129;01min\u001b[39;00m x]\n\u001b[1;32m      4\u001b[0m temp \u001b[38;5;241m=\u001b[39m \u001b[38;5;28;01mlambda\u001b[39;00m z : Dc(z)\n\u001b[0;32m----> 5\u001b[0m Dc_i \u001b[38;5;241m=\u001b[39m \u001b[43minterpolate\u001b[49m\u001b[38;5;241;43m.\u001b[39;49m\u001b[43minterp1d\u001b[49m(x,y)\n",
      "\u001b[0;31mAttributeError\u001b[0m: 'function' object has no attribute 'interp1d'"
     ]
    }
   ],
   "source": [
    "#10 is the number of bins. In the future is better to increase it\n",
    "x = np.linspace(0,z_f,10)\n",
    "y = [Dc(z) for z in x]\n",
    "temp = lambda z : Dc(z)\n",
    "Dc_i = interpolate.interp1d(x,y)"
   ]
  },
  {
   "cell_type": "code",
   "execution_count": null,
   "id": "70b56973-b256-4603-86d4-115c89905771",
   "metadata": {},
   "outputs": [],
   "source": [
    "plt.plot(redshift,Dc_t)\n",
    "plt.plot(x,Dc_i(x),'--g')\n",
    "plt.xlabel('redshift')\n",
    "plt.title('Comoving Distance')\n",
    "plt.legend(['theoretical', 'interpolated'])"
   ]
  },
  {
   "cell_type": "code",
   "execution_count": null,
   "id": "124dc188-4ef5-4e86-a48b-e7b50d272d6e",
   "metadata": {},
   "outputs": [],
   "source": []
  },
  {
   "cell_type": "code",
   "execution_count": null,
   "id": "e1aa7591-ec36-4061-89ad-51f8e7bb9a54",
   "metadata": {},
   "outputs": [],
   "source": []
  },
  {
   "cell_type": "markdown",
   "id": "b8d27774-e319-4a49-bc6e-2e16449e6dab",
   "metadata": {},
   "source": [
    "Compute residuals and compare with the theoretical error"
   ]
  },
  {
   "cell_type": "code",
   "execution_count": null,
   "id": "41963e2d-ac27-4182-af79-385927eb3412",
   "metadata": {},
   "outputs": [],
   "source": [
    "x_err = np.linspace(0,1,100)\n",
    "temp_t = [Dc(z) for z in x_err]\n",
    "deltad = np.abs(Dc_i(x_err) - temp_t)\n",
    "plt.plot(x_err,deltad)\n",
    "plt.xlabel('redshift')\n",
    "plt.title('Residuals')"
   ]
  },
  {
   "cell_type": "code",
   "execution_count": null,
   "id": "61923963-e284-4f54-9f20-9272f15a40d7",
   "metadata": {},
   "outputs": [],
   "source": [
    "err_t = []\n",
    "for i in range (0,100):\n",
    "    temp = lambda z : Dc(z)\n",
    "    temp1 = lambda z : np.abs(diff(temp,z,2)) #absolute value of the second derivative of Dc\n",
    "    x_temp = np.arange(x_err[i],x_err[i+1],0.001)\n",
    "    temp2 = [temp1(z) for z in x_temp]\n",
    "    max = np.max(temp2)\n",
    "    err_t = np.append(err_t, max*(x_err[i+1]-x_err[i])**2/8)\n",
    "\n",
    "plt.plot(x_err,err_t)"
   ]
  },
  {
   "cell_type": "code",
   "execution_count": null,
   "id": "57963660-bf89-4d29-8a96-ad09f649b74a",
   "metadata": {},
   "outputs": [],
   "source": [
    "temp = lambda z : Dc(z)\n",
    "temp1 = lambda z : np.abs(diff(temp,z,2)) #absolute value of the second derivative of Dc"
   ]
  },
  {
   "cell_type": "code",
   "execution_count": null,
   "id": "7a62b5c5-9ba8-4899-a5b1-7b229da6cd46",
   "metadata": {},
   "outputs": [],
   "source": []
  },
  {
   "cell_type": "code",
   "execution_count": null,
   "id": "ff7d8ada-25bb-496a-ba68-cb56afb7e3ae",
   "metadata": {},
   "outputs": [],
   "source": []
  },
  {
   "cell_type": "code",
   "execution_count": null,
   "id": "0db5a8e4-8d43-4d54-a195-68de8c91f347",
   "metadata": {},
   "outputs": [],
   "source": []
  },
  {
   "cell_type": "code",
   "execution_count": null,
   "id": "4c2a6001-beee-48c4-b137-5a0cdc5ed207",
   "metadata": {},
   "outputs": [],
   "source": []
  },
  {
   "cell_type": "code",
   "execution_count": null,
   "id": "8a856d9c-1b75-48c8-97c5-f8b6f67066e7",
   "metadata": {},
   "outputs": [],
   "source": []
  },
  {
   "cell_type": "code",
   "execution_count": null,
   "id": "1bd757db-2e69-4c79-bb71-40657669e94d",
   "metadata": {},
   "outputs": [],
   "source": []
  },
  {
   "cell_type": "code",
   "execution_count": null,
   "id": "4dbe265a-d679-49f6-9b15-370f125c18e3",
   "metadata": {},
   "outputs": [],
   "source": []
  },
  {
   "cell_type": "code",
   "execution_count": null,
   "id": "a08e3ac8-9f73-406a-8945-a693f6f6dc03",
   "metadata": {},
   "outputs": [],
   "source": []
  },
  {
   "cell_type": "code",
   "execution_count": null,
   "id": "479bfb7b-a2de-4035-873b-aac003703187",
   "metadata": {},
   "outputs": [],
   "source": []
  },
  {
   "cell_type": "code",
   "execution_count": null,
   "id": "8ba9ddce-a167-4594-8b36-62859cf32809",
   "metadata": {},
   "outputs": [],
   "source": []
  }
 ],
 "metadata": {
  "kernelspec": {
   "display_name": "Python 3 (ipykernel)",
   "language": "python",
   "name": "python3"
  },
  "language_info": {
   "codemirror_mode": {
    "name": "ipython",
    "version": 3
   },
   "file_extension": ".py",
   "mimetype": "text/x-python",
   "name": "python",
   "nbconvert_exporter": "python",
   "pygments_lexer": "ipython3",
   "version": "3.8.10"
  }
 },
 "nbformat": 4,
 "nbformat_minor": 5
}
