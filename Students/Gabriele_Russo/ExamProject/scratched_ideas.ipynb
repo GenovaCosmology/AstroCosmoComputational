{
 "cells": [
  {
   "cell_type": "code",
   "execution_count": null,
   "metadata": {},
   "outputs": [],
   "source": [
    "#**********************#\n",
    "# PLOTTING THE RESULTS #\n",
    "#**********************#\n",
    "\n",
    "# 1st rung: Cepheids in anchor galaxies (NGC 4258, LMC, M31)\n",
    "\n",
    "mu_M31 = Q_best[40] # obtained from lstsq method\n",
    "e_mu_M31 = np.sqrt(C_Q[40, 40]) # obtained from lstsq method\n",
    "\n",
    "mu_LMC = 18.477 # obtained from the article\n",
    "e_mu_LMC = 0.0263 # obtained from the article\n",
    "\n",
    "mu_NGC4258 = 29.397 # obtained from the article \"Absolute Calibration of Cepheid Period-Luminosity Relations in NGC 4258\", \n",
    "                    # Wenlong Yuan et al., 2022, https://arxiv.org/pdf/2203.06681.pdf\n",
    "e_mu_NGC4258 = 0.032 # obtained from the article \"Absolute Calibration of Cepheid Period-Luminosity Relations in NGC 4258\",\n",
    "                    # Wenlong Yuan et al., 2022, https://arxiv.org/pdf/2203.06681.pdf\n",
    "\n",
    "M = Q_best[38] # obtained from lstsq method, reference Cepheids magnitude\n",
    "eM = np.sqrt(C_Q[38, 38]) # obtained from lstsq method, reference Cepheids magnitude error\n",
    "\n",
    "mM_M31 = np.sum(y[2593:2648]-M)/55 # magnitude mean on the Cepheids with respect to reference \n",
    "emM_M31 = np.sqrt(np.sum(np.diag(C)[2593:2648]))/55 # magnitude error mean on the Cepheids with respect to reference\n",
    "print('mM_M31:', mM_M31)\n",
    "print('emM_M31:', emM_M31)\n",
    "\n",
    "mM_LMC = np.sum(y[2649:3131]+mu_LMC-M)/482 # magnitude mean on the Cepheids with respect to reference\n",
    "emM_LMC = np.sqrt(np.sum(np.diag(C)[2649:3131] + e_mu_LMC**2)) / 482 # magnitude error mean on the Cepheids \n",
    "                                                                     # with respect to reference and with propagated error\n",
    "print('mM_LMC:', mM_LMC)\n",
    "print('emM_LMC:', emM_LMC)\n",
    "\n",
    "mM_NGC4258 = np.sum(y[2151:2593]+mu_NGC4258-M)/443 # magnitude mean on the Cepheids with respect to reference\n",
    "emM_NGC4258 = np.sqrt(np.sum(np.diag(C)[2151:2593] + e_mu_NGC4258**2)) / 443 # magnitude error mean on the Cepheids \n",
    "                                                                             # with respect to reference and with propagated error\n",
    "print('mM_NGC4258:', mM_NGC4258)\n",
    "print('emM_NGC4258:', emM_NGC4258)\n",
    "\n",
    "# Defining the 3 points of the 1st rung as tuples\n",
    "points_rung1 = [(mu_LMC, mM_LMC), (mu_M31, mM_M31), (mu_NGC4258, mM_NGC4258)]\n",
    "error_rung1 = [(e_mu_LMC, emM_LMC), (e_mu_M31, emM_M31), (e_mu_NGC4258, emM_NGC4258)]"
   ]
  },
  {
   "cell_type": "code",
   "execution_count": null,
   "metadata": {},
   "outputs": [
    {
     "name": "stdout",
     "output_type": "stream",
     "text": [
      "[]\n"
     ]
    }
   ],
   "source": [
    "# 2nd rung: SN Ia in Cepheid host galaxies\n",
    "# **WARNING**: 77 datasets used even if only 42 events, the selection is arbitrary\n",
    "\n",
    "events = [] # list of accepted events\n",
    "events_errors = [] # list of accepted events errors\n",
    "indices = [] # list of indices of the accepted events\n",
    "\n",
    "for i in range(77):\n",
    "    e1 = y[3130+i]\n",
    "    e2 = y[3130+i+1]\n",
    "    ee1 = np.sqrt(C[3130+i, 3130+i])\n",
    "    ee2 = np.sqrt(C[3130+i+1, 3130+i+1])\n",
    "    if e1-e2 > 0.15 or e1-e2 < -0.1:\n",
    "        events.append(e1)\n",
    "        events_errors.append(ee1)\n",
    "    if len(events) == 42:\n",
    "        break\n",
    "    else: \n",
    "        continue\n",
    "print(indices)\n",
    "M_SN = Q_best[42] # obtained from lstsq method, reference magnitude for SN Ia\n",
    "eM_SN2 = C_Q[42, 42] # obtained from lstsq method, reference magnitude for SN Ia error\n",
    "\n",
    "mM_SN = events - M_SN\n",
    "#emM_SN = np.sqrt(events_errors**2 + eM_SN2)\n",
    "\n",
    "#mu_SN = Q_best[indices]\n",
    "\n",
    "#mM_ch = y[3130:3172]+mu_SN-M_SN # magnitude on the Cepheids with respect to reference"
   ]
  }
 ],
 "metadata": {
  "language_info": {
   "name": "python"
  }
 },
 "nbformat": 4,
 "nbformat_minor": 2
}
