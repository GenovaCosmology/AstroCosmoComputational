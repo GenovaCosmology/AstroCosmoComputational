{
 "cells": [
  {
   "cell_type": "code",
   "execution_count": 1,
   "metadata": {},
   "outputs": [],
   "source": [
    "import sys\n",
    "sys.path.append(\"/home/edo/Software/TESI/AstroCosmoComputational/Students/Martinelli_Edoardo/\")\n",
    "import numpy as np\n",
    "import matplotlib.pyplot as plt\n",
    "plt.rcParams.update({\n",
    "    \"text.usetex\": False,\n",
    "    \"font.family\": \"serif\",})\n",
    "# Import distances class\n",
    "from pyACC.cosmology import *\n",
    "# Import integration class\n",
    "from pyACC.Calculus import *\n",
    "from pyACC.clustering import *\n",
    "import scipy as sp"
   ]
  },
  {
   "cell_type": "code",
   "execution_count": 2,
   "metadata": {},
   "outputs": [
    {
     "name": "stdout",
     "output_type": "stream",
     "text": [
      "Function object created, you've inserted a  <class 'function'>  function with  3  variables\n",
      "0.9999999999999848\n"
     ]
    }
   ],
   "source": [
    "L=20\n",
    "mean=L/2\n",
    "cov=1\n",
    "gauss= lambda x,y,z: (1/(2*np.pi*cov)**1.5)*np.exp(-((x-mean)**2+(y-mean)**2+(z-mean)**2)/(2*cov**2))\n",
    "extI=np.array([0,0,0])\n",
    "extF=np.array([L,L,L])\n",
    "GAUSS=Funct(gauss)\n",
    "norm=GAUSS.Int(extI,extF)\n",
    "print( norm)"
   ]
  }
 ],
 "metadata": {
  "kernelspec": {
   "display_name": "acc-env",
   "language": "python",
   "name": "python3"
  },
  "language_info": {
   "codemirror_mode": {
    "name": "ipython",
    "version": 3
   },
   "file_extension": ".py",
   "mimetype": "text/x-python",
   "name": "python",
   "nbconvert_exporter": "python",
   "pygments_lexer": "ipython3",
   "version": "3.9.19"
  }
 },
 "nbformat": 4,
 "nbformat_minor": 2
}
