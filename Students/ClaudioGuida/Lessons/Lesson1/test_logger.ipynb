{
 "cells": [
  {
   "cell_type": "markdown",
   "metadata": {},
   "source": [
    "# Exercise #1\n",
    "\n",
    "This exercise is focused on doing the first steps with Python, Python notebooks and Python modules\n",
    "This notebook, that you have to fill, simply override the default ´print´ Python function with\n",
    "a customized logger. \n",
    "\n",
    "The goal of the exercise is extremely simple:\n",
    "\n",
    "1) Adjust your imports \n",
    "2) Customize your logger to print your name/whatever alias\n",
    "3) Play with source code to understand structure, add functionalities, whatever.\n"
   ]
  },
  {
   "cell_type": "markdown",
   "metadata": {},
   "source": [
    "## Imports"
   ]
  },
  {
   "cell_type": "code",
   "execution_count": 5,
   "metadata": {},
   "outputs": [],
   "source": [
    "import sys\n",
    "\n",
    "# Complete with appropriate path\n",
    "sys.path.append(\"../\")\n",
    "\n",
    "# Complete with appropriate object to import\n",
    "from pyACC.helpers import Logger\n",
    "from pyACC.calculus import Integrate\n",
    "import numpy as np"
   ]
  },
  {
   "cell_type": "markdown",
   "metadata": {},
   "source": [
    "## Function usage"
   ]
  },
  {
   "cell_type": "code",
   "execution_count": null,
   "metadata": {},
   "outputs": [],
   "source": [
    "print(\"Say Goodbye to the old print function...\")"
   ]
  },
  {
   "cell_type": "code",
   "execution_count": null,
   "metadata": {},
   "outputs": [],
   "source": [
    "# Instatiate the logger entity - this will be used to print the output instead of the print function\n",
    "print = Logger('Put your alias here')"
   ]
  },
  {
   "cell_type": "code",
   "execution_count": null,
   "metadata": {},
   "outputs": [],
   "source": [
    "print('Your message here')"
   ]
  },
  {
   "cell_type": "code",
   "execution_count": 7,
   "metadata": {},
   "outputs": [
    {
     "name": "stdout",
     "output_type": "stream",
     "text": [
      "45609.401455989995\n",
      "45005.297822295375\n",
      "45005.29782478671\n"
     ]
    }
   ],
   "source": [
    "fx = lambda x: x*2*np.cos(x)**2\n",
    "print(Integrate.simpson(fx, 2, 300))\n",
    "print(Integrate.trapezoid(fx, 2, 300,delta=0.001))\n",
    "print(Integrate.adaptive_quadrature(fx, 2, 300))"
   ]
  },
  {
   "cell_type": "code",
   "execution_count": null,
   "metadata": {},
   "outputs": [],
   "source": [
    "import numpy as np\n",
    "\n",
    "a=[1,2,3,4,5,6]\n",
    "np.sum(a[0:-1])\n",
    "a[0:]"
   ]
  }
 ],
 "metadata": {
  "kernelspec": {
   "display_name": "acc-env",
   "language": "python",
   "name": "python3"
  },
  "language_info": {
   "codemirror_mode": {
    "name": "ipython",
    "version": 3
   },
   "file_extension": ".py",
   "mimetype": "text/x-python",
   "name": "python",
   "nbconvert_exporter": "python",
   "pygments_lexer": "ipython3",
   "version": "3.9.18"
  }
 },
 "nbformat": 4,
 "nbformat_minor": 2
}
