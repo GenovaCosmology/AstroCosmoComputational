{
 "cells": [
  {
   "cell_type": "markdown",
   "metadata": {},
   "source": [
    "# N BODIES SIMULATION\n"
   ]
  },
  {
   "cell_type": "markdown",
   "metadata": {},
   "source": [
    "Lesson to be reviewed, since no tools to performe."
   ]
  },
  {
   "cell_type": "markdown",
   "metadata": {},
   "source": [
    "Codice best è gadget in C++, ma molto complesso.\n",
    "Pacchetto più facile concept, i.e. cosmological n body code in python. \n",
    "Sul laptop ci mette tanto.\n",
    "Va scaricato ed installato da github.\n",
    "MOd migliore usare Docker, container dentro computer, specie di macchina virtuale, sfrutta hardware ma altro sys operativo.\n",
    "Va quindi installato docker ed usare il comando online."
   ]
  },
  {
   "cell_type": "markdown",
   "metadata": {},
   "source": [
    "Lui gira su macchina in remoto.\n"
   ]
  },
  {
   "cell_type": "markdown",
   "metadata": {},
   "source": [
    "Softwarre è un eseguibile che esegue operazioni a seconda parametri di partenza."
   ]
  },
  {
   "cell_type": "markdown",
   "metadata": {},
   "source": [
    "Sono equaizoni differenziali, devo dare condizioni iniziali: campo iniziale a z alto e campo di velocità, poi calcolerà gravità ad ogni timestep e darà evoluzione fino z_stop. Condizioni iniziali in ipotesi non non Gauss primordiali sono gaussiane. "
   ]
  },
  {
   "cell_type": "markdown",
   "metadata": {},
   "source": [
    "First simulation: parametri per evoluzione della simulazione."
   ]
  },
  {
   "cell_type": "markdown",
   "metadata": {},
   "source": [
    "Per far evolvere il campo, opzione in più rispetto precedente comando."
   ]
  },
  {
   "cell_type": "markdown",
   "metadata": {},
   "source": [
    "La simulazione N body può funzionare spostando fisicamente delle particelle o griglia che descriva cmapo di densità e velocità. Simulazione di radiazione per esempio è fondo con suo potenziale.\n",
    "Materia la tratto come particella, la radiazione come campo continuo.\n"
   ]
  },
  {
   "cell_type": "markdown",
   "metadata": {},
   "source": [
    "Vi sono 3 modi per calcolare il potenziale. POtenziale dipende dalla separazione, dalla coppia, devo contare tutte le coppie di particelle. Metodo PP, i.e. particle particle, inapplicabile se troppo numero di particelle, altrimenti troppo tempo di computazione (propto N^2).\n",
    "Alternativa PM, i.e. particle, ma per conto potenziale non sommo su tutte le particelle, ma su tutti i punti griglia:\n",
    "da \n",
    "$$\n",
    "\\Phi_i=\\sum_{i=0}^{N_p}\\Phi(\\vec{r}_i,\\vec{r}_j)\n",
    "$$\n",
    "a calcolo potenziale sui centri di una griglia in cui divido simulazione.\n",
    "Il meglio è P^3M ovvero PP per piccole scale e calcola esattamente potenziale tra le particelle, per grande scale Particle Mesh, ovvero guarda una griglia nuovamente, una densità di particelle di background.\n",
    "Il codice di default gira in P^3M."
   ]
  },
  {
   "cell_type": "markdown",
   "metadata": {},
   "source": [
    "_size parametro che controlla, N particelle genrate N=_size^3, la dimensione della griglia L=4*_size, griglia del potenziale \\Phi=2*_size.\n",
    "Allora densità particelle sarà 1/64 (bassa densità media).\n",
    "Simulazioni si distinguono per la risoluzione, i. e. quante particelle in densità media (sempre potenze di 8 per le ottimizzazioni implemnetate nel codice).O aumento particelle o diminuisco scala: primo caso per ambito cosmologico, secondo diventa problema più locale.\n",
    "Spesso si ha N = 256^3 \\sim 16 milioni e L\\sim 1Gpc/h. "
   ]
  },
  {
   "cell_type": "markdown",
   "metadata": {},
   "source": [
    "Notare che input standard sono anche parametri cosmologia di background."
   ]
  }
 ],
 "metadata": {
  "language_info": {
   "name": "python"
  }
 },
 "nbformat": 4,
 "nbformat_minor": 2
}
