{
 "cells": [
  {
   "cell_type": "markdown",
   "metadata": {},
   "source": [
    "This is the test file of the class Funct that I've implemented"
   ]
  },
  {
   "cell_type": "code",
   "execution_count": 5,
   "metadata": {},
   "outputs": [],
   "source": [
    "import sys\n",
    "sys.path.append(\"/home/edo/Software/TESI/AstroCosmoComputational/Students/Martinelli_Edoardo/\")\n",
    "import numpy as np\n",
    "import matplotlib.pyplot as plt\n",
    "from pylab import figure, cm\n",
    "plt.rcParams.update({\n",
    "    \"text.usetex\": False,\n",
    "    \"font.family\": \"serif\",})\n",
    "# Import distances class\n",
    "from pyACC.cosmology import *\n",
    "# Import integration class\n",
    "from pyACC.Calculus import *\n",
    "import scipy as sp\n",
    "import scipy.integrate as integrate\n",
    "import sympy as sym"
   ]
  },
  {
   "cell_type": "code",
   "execution_count": 6,
   "metadata": {},
   "outputs": [
    {
     "name": "stdout",
     "output_type": "stream",
     "text": [
      "Function object created, you've inserted a  <class 'function'>  function with  1  variables\n",
      "Function object created, you've inserted a  <class 'function'>  function with  2  variables\n",
      "Function object created, you've inserted a  <class 'sympy.core.power.Pow'>  function with  1  variables\n",
      "Function object created, you've inserted a  <class 'sympy.core.mul.Mul'>  function with  2  variables\n"
     ]
    }
   ],
   "source": [
    "# lambda functions\n",
    "F=lambda x:np.sqrt(x)\n",
    "F2=lambda x,y: np.cos(x)*np.sin(y)\n",
    "\n",
    "# sympy functions\n",
    "x,y = sym.symbols('x y')\n",
    "X = sym.symbols('X')\n",
    "F3=sym.sqrt(X)\n",
    "F4=sym.cos(x)*sym.sin(y)\n",
    "\n",
    "# creating class objects\n",
    "func=Funct(F)\n",
    "func2=Funct(F2)\n",
    "func3=Funct(F3)\n",
    "func4=Funct(F4)"
   ]
  },
  {
   "cell_type": "code",
   "execution_count": 7,
   "metadata": {},
   "outputs": [
    {
     "name": "stdout",
     "output_type": "stream",
     "text": [
      "---------------------------------------------\n",
      "Evaluation of  sqrt(X)  in x =  3  :\n",
      "Lambda function:  1.7320508075688772\n",
      "Sympy function:  1.7320508075688772\n",
      "---------------------------------------------\n",
      "Evaluation of  sin(y)*cos(x)  in this values: \n",
      "x:  [ 1.  2.  3.  4.  5.  6.  7.  8.  9. 10.]\n",
      "y:  [ 1.  2.  3.  4.  5.  6.  7.  8.  9. 10.]\n",
      "Lambda function:  [ 0.45464871 -0.37840125 -0.13970775  0.49467912 -0.27201056 -0.26828646\n",
      "  0.49530368 -0.14395166 -0.37549362  0.45647263]\n",
      "Sympy function:  [ 0.45464871 -0.37840125 -0.13970775  0.49467912 -0.27201056 -0.26828646\n",
      "  0.49530368 -0.14395166 -0.37549362  0.45647263]\n",
      "---------------------------------------------\n"
     ]
    }
   ],
   "source": [
    "# evaluation test\n",
    "\n",
    "point=3\n",
    "test_arrX=np.linspace(1,10,10)\n",
    "test_arrY=np.linspace(1,10,10)\n",
    "Test_arr=np.array([test_arrX,test_arrY])\n",
    "\n",
    "print ('---------------------------------------------')\n",
    "print (\"Evaluation of \", F3, ' in x = ', point,' :')\n",
    "print ('Lambda function: ',func.Val(point))\n",
    "print ('Sympy function: ',func3.Val(point))\n",
    "print ('---------------------------------------------')\n",
    "print ('Evaluation of ', F4, ' in this values: ')\n",
    "print ('x: ', test_arrX)\n",
    "print ('y: ', test_arrY)\n",
    "print ('Lambda function: ',func2.Val(Test_arr))\n",
    "print ('Sympy function: ',func4.Val(Test_arr))\n",
    "print ('---------------------------------------------')\n"
   ]
  },
  {
   "cell_type": "code",
   "execution_count": 8,
   "metadata": {},
   "outputs": [
    {
     "name": "stdout",
     "output_type": "stream",
     "text": [
      "---------------------------------------------\n",
      "Integration of  sqrt(X)  from xin =  1  to xfin =  2  :\n",
      "Lambda function:  1.21895141649746\n",
      "Sympy function:  1.2189514164974602\n",
      "---------------------------------------------\n",
      "Integration of  sin(y)*cos(x)  . x goes from :  1  to  2  and y goes from :  2  to  3  :\n",
      "Lambda function:  0.03892190938876303\n",
      "Sympy function: Not implemented the multi-variable integration for sympy objects yet, but for lambda functions works perfectly!\n",
      "---------------------------------------------\n"
     ]
    }
   ],
   "source": [
    "# Integration test\n",
    "xin=1\n",
    "xfin=2\n",
    "Xin=np.array([1,2])\n",
    "Xfin=np.array([2,3])\n",
    "\n",
    "print ('---------------------------------------------')\n",
    "print (\"Integration of \", F3, ' from xin = ', xin,' to xfin = ', xfin,' :')\n",
    "print ('Lambda function: ',func.Int(xin,xfin))\n",
    "print ('Sympy function: ',func3.Int(xin,xfin))\n",
    "print ('---------------------------------------------')\n",
    "print ('Integration of ', F4, ' . x goes from : ', Xin[0], ' to ', Xin[1], ' and y goes from : ', Xfin[0], ' to ', Xfin[1], ' :')\n",
    "print ('Lambda function: ',func2.Int(Xin,Xfin))\n",
    "print ('Sympy function: Not implemented the multi-variable integration for sympy objects yet, but for lambda functions works perfectly!')\n",
    "print ('---------------------------------------------')"
   ]
  },
  {
   "cell_type": "code",
   "execution_count": 18,
   "metadata": {},
   "outputs": [
    {
     "name": "stdout",
     "output_type": "stream",
     "text": [
      "---------------------------------------------\n",
      "Derivative of  sqrt(X)  evaluated in x =  3  :\n",
      "Lambda function:  0.28867513460761884\n",
      "The derived function is:  1/(2*sqrt(X))\n",
      "Sympy function:  0.2886751345948129\n",
      "---------------------------------------------\n",
      "Derivative of  sin(y)*cos(x)  where x is derived  2  times and y is derived  1  times. \n",
      "Then x is evaluated in  2.5  and y in  1.3  :\n",
      "Lambda function: The function must be a multi-variable sympy object to use the method Ive implemented!\n",
      "------------------------------------------------------------------\n",
      "I read the variables of the function are:  [y, x]  ; IN THIS ORDER!\n",
      "------------------------------------------------------------------\n",
      "You have inserted the function:  sin(y)*cos(x)\n",
      "------------------------------------------------------------------\n",
      "You want it to be derived with respect to the variable  y  ,  1  times.\n",
      "You want then the derivative to be computed at the point  y = 1.3\n",
      "After this derivation the function is:  cos(x)*cos(y)\n",
      "------------------------------------------------------------------\n",
      "------------------------------------------------------------------\n",
      "You want it to be derived with respect to the variable  x  ,  2  times.\n",
      "You want then the derivative to be computed at the point  x = 2.5\n",
      "After this derivation the function is:  -cos(x)*cos(y)\n",
      "------------------------------------------------------------------\n",
      "Sympy function:  0.2143049787188715\n"
     ]
    }
   ],
   "source": [
    "# Derivative test\n",
    "point=3\n",
    "points=np.array([1.3,2.5])\n",
    "der_times=np.array([1,2])\n",
    "print ('---------------------------------------------')\n",
    "print (\"Derivative of \", F3, ' evaluated in x = ', point,' :')\n",
    "print ('Lambda function: ',func.Der(point))\n",
    "print ('Sympy function: ',func3.Der(point,analytEval=True))\n",
    "print ('---------------------------------------------')\n",
    "print ('Derivative of ', F4, ' where x is derived ', der_times[1], ' times and y is derived ', der_times[0], ' times. ')\n",
    "print ('Then x is evaluated in ', points[1], ' and y in ', points[0], ' :')\n",
    "print ('Lambda function: The function must be a multi-variable sympy object to use the method Ive implemented!')\n",
    "print ('Sympy function: ', func4.DerN(points,der_times))\n"
   ]
  }
 ],
 "metadata": {
  "kernelspec": {
   "display_name": "acc-env",
   "language": "python",
   "name": "python3"
  },
  "language_info": {
   "codemirror_mode": {
    "name": "ipython",
    "version": 3
   },
   "file_extension": ".py",
   "mimetype": "text/x-python",
   "name": "python",
   "nbconvert_exporter": "python",
   "pygments_lexer": "ipython3",
   "version": "3.9.18"
  }
 },
 "nbformat": 4,
 "nbformat_minor": 2
}
