{
 "cells": [
  {
   "cell_type": "markdown",
   "metadata": {},
   "source": [
    "# Notebook to test the class *Operations*\n",
    "**The class includes the methods:**\n",
    "- evaluate;\n",
    "- integrate;\n",
    "- differentiate."
   ]
  },
  {
   "cell_type": "markdown",
   "metadata": {},
   "source": [
    "## Notes (13/03/2024)"
   ]
  },
  {
   "cell_type": "markdown",
   "metadata": {},
   "source": [
    "*•Differenza \"in avanti\":*\n",
    "- errore totale = errore di troncamento + errore di approssimazione (dipende da come definisco i numeri);\n",
    "- devo scegliere il time step opportuno per minimizzare l'errore\n",
    "\n",
    "*•Differenza centrale:*\n",
    "- l'errore è proporzionale ad h^3;\n",
    "- problema: non posso ottenere la derivata in tutti i punti della griglia, perchè mi servono le condizioni al contorno\n",
    "\n",
    "*Attenzione: se h è troppo piccolo potrei avere un errore grande*"
   ]
  },
  {
   "cell_type": "code",
   "execution_count": 8,
   "metadata": {},
   "outputs": [],
   "source": [
    "import sys\n",
    "sys.path.append(\"../../\")\n",
    "from pyACC.calculus import Operations\n",
    "\n",
    "import math as m\n",
    "import numpy as np"
   ]
  },
  {
   "cell_type": "markdown",
   "metadata": {},
   "source": [
    "## Evaluate"
   ]
  },
  {
   "cell_type": "code",
   "execution_count": 9,
   "metadata": {},
   "outputs": [
    {
     "name": "stdout",
     "output_type": "stream",
     "text": [
      "Sin(pi)=0\n",
      "Sin(pi/2)= 1.0\n"
     ]
    }
   ],
   "source": [
    "#sin(pi)\n",
    "sin=Operations(m.sin)\n",
    "if m.isclose(sin.evaluate(m.pi),0,abs_tol=1e-15):\n",
    "    print(\"Sin(pi)=0\")\n",
    "else:\n",
    "    print(\"Sin(pi)=\",sin.evaluate(m.pi))\n",
    "\n",
    "#sin(pi/2)\n",
    "sin=Operations(m.sin)\n",
    "print(\"Sin(pi/2)=\",sin.evaluate(m.pi/2))"
   ]
  },
  {
   "cell_type": "markdown",
   "metadata": {},
   "source": [
    "## Integrate"
   ]
  },
  {
   "cell_type": "code",
   "execution_count": 11,
   "metadata": {},
   "outputs": [
    {
     "name": "stdout",
     "output_type": "stream",
     "text": [
      "Integral of x^2 between  0  and  1 : 0.3333333333333333\n"
     ]
    }
   ],
   "source": [
    "#x^2\n",
    "def quad(x):\n",
    "    return x**2\n",
    "x_quad=Operations(quad)\n",
    "limits=[(0,1)]\n",
    "print(\"Integral of x^2 between \",limits[0][0],\" and \",limits[0][1],\":\",x_quad.integrate(limits))"
   ]
  },
  {
   "cell_type": "code",
   "execution_count": 14,
   "metadata": {},
   "outputs": [
    {
     "data": {
      "text/plain": [
       "0.6666666666666667"
      ]
     },
     "execution_count": 14,
     "metadata": {},
     "output_type": "execute_result"
    }
   ],
   "source": [
    "#2D function: x^2+y^2\n",
    "def fun_2D(x,y):\n",
    "    return x**2+y**2\n",
    "\n",
    "int_2D=Operations(fun_2D)\n",
    "limits_2D=[(0,1),(0,1)]\n",
    "int_2D.integrate(limits_2D)"
   ]
  },
  {
   "cell_type": "markdown",
   "metadata": {},
   "source": [
    "## Differentiate"
   ]
  },
  {
   "cell_type": "code",
   "execution_count": 15,
   "metadata": {},
   "outputs": [
    {
     "name": "stdout",
     "output_type": "stream",
     "text": [
      "The derivative at  [1.0]  is  [2.]\n",
      "The jacobian at [1.0, 2.0] is [[2. 4.]\n",
      " [4. 2.]]\n",
      "The value of f=x^2 at [1.0] is 1.0\n",
      "The value of f=[x^2+y^2,2xy] at [1.0, 2.0] is [5.0, 4.0]\n"
     ]
    }
   ],
   "source": [
    "def function(x):\n",
    "    if len(x)==1:\n",
    "        return x[0]**2\n",
    "    else:\n",
    "        return [x[0]**2+x[1]**2,2*x[0]*x[1]]\n",
    "op=Operations(function)\n",
    "\n",
    "#scalar\n",
    "x_0=[1.0] #This creates a list containing the single element 1.0. It's done this way to ensure that x_0 is iterable, which is often necessary when dealing with functions that expect input in list format\n",
    "gradient=op.differentiate(x_0)\n",
    "print(\"The derivative at \",x_0,\" is \",gradient)\n",
    "\n",
    "#vector\n",
    "x_0v=[1.0,2.0]\n",
    "jacobian=op.differentiate(x_0v)\n",
    "print(\"The jacobian at {} is {}\".format(x_0v,np.array(jacobian)))\n",
    "\n",
    "#to verify the evaluate method in more dimensions\n",
    "def function(x):\n",
    "    if len(x)==1:\n",
    "        return x[0]**2\n",
    "    else:\n",
    "        return [x[0]**2+x[1]**2,2*x[0]*x[1]]\n",
    "f=Operations(function)\n",
    "x_0=[1.0]\n",
    "print(\"The value of f=x^2 at {} is {}\".format(x_0,f.evaluate(x_0)))\n",
    "\n",
    "x_0v=[1.0,2.0]\n",
    "print(\"The value of f=[x^2+y^2,2xy] at {} is {}\".format(x_0v,f.evaluate(x_0v)))"
   ]
  }
 ],
 "metadata": {
  "kernelspec": {
   "display_name": "acc-env",
   "language": "python",
   "name": "python3"
  },
  "language_info": {
   "codemirror_mode": {
    "name": "ipython",
    "version": 3
   },
   "file_extension": ".py",
   "mimetype": "text/x-python",
   "name": "python",
   "nbconvert_exporter": "python",
   "pygments_lexer": "ipython3",
   "version": "3.9.18"
  }
 },
 "nbformat": 4,
 "nbformat_minor": 2
}
