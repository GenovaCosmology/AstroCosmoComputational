{
 "cells": [
  {
   "cell_type": "code",
   "execution_count": 1,
   "metadata": {},
   "outputs": [],
   "source": [
    "import numpy as np\n",
    "import matplotlib.pyplot as plt"
   ]
  },
  {
   "cell_type": "code",
   "execution_count": 2,
   "metadata": {},
   "outputs": [],
   "source": [
    "import camb as camb\n",
    "from scipy.interpolate import interp1d"
   ]
  },
  {
   "cell_type": "code",
   "execution_count": 3,
   "metadata": {},
   "outputs": [],
   "source": [
    "side = 500\n",
    "spacing = 5\n",
    "n_cells = side // spacing \n",
    "\n",
    "Volume = side**3"
   ]
  },
  {
   "cell_type": "code",
   "execution_count": 4,
   "metadata": {},
   "outputs": [],
   "source": [
    "knorm = []\n",
    "for i in range(n_cells):\n",
    "    kx = i if i <= n_cells //2 else i-n_cells       ## this is due to the ordering in kx, ky: positive k first, then negative\n",
    "    kx *= 2*np.pi/side\n",
    "    for j in range(n_cells):\n",
    "        ky = j if j<= n_cells // 2 else j-n_cells\n",
    "        ky *= 2*np.pi/side\n",
    "        for k in range(n_cells//2+1):               ## by construction z contains only positive values of k\n",
    "            kz = k * 2*np.pi/side\n",
    "            knorm.append(np.sqrt(kx**2+ky**2+kz**2))"
   ]
  },
  {
   "cell_type": "code",
   "execution_count": 5,
   "metadata": {},
   "outputs": [],
   "source": [
    "kx = np.fft.fftfreq(n_cells, spacing) * 2*np.pi\n",
    "ky = np.fft.fftfreq(n_cells, spacing) * 2*np.pi\n",
    "kz = np.fft.rfftfreq(n_cells, spacing) * 2*np.pi\n",
    "\n",
    "kxx, kyy, kzz = np.meshgrid(kx, ky, kz, indexing='ij')\n",
    "\n",
    "KNORM = np.sqrt(kxx**2 + kyy**2 + kzz**2)"
   ]
  },
  {
   "cell_type": "code",
   "execution_count": 6,
   "metadata": {},
   "outputs": [
    {
     "data": {
      "text/plain": [
       "array([ True,  True,  True, ...,  True,  True,  True])"
      ]
     },
     "execution_count": 6,
     "metadata": {},
     "output_type": "execute_result"
    }
   ],
   "source": [
    "KNORM.flatten()==np.array(knorm)"
   ]
  },
  {
   "cell_type": "code",
   "execution_count": 7,
   "metadata": {},
   "outputs": [],
   "source": [
    "Omega_b= 0.05\n",
    "Omega_c = 0.25\n",
    "\n",
    "h=0.7\n",
    "As = 2.1e-09\n",
    "ns = 0.96\n",
    "\n",
    "pars = camb.CAMBparams()\n",
    "pars.set_cosmology(H0=100*h, ombh2=Omega_b*h**2, omch2=Omega_c*h**2)\n",
    "pars.InitPower.set_params(As=As, ns=ns)\n",
    "\n",
    "pars.set_matter_power(redshifts=[10.], kmax=10.)\n",
    "result = camb.get_results(pars)\n",
    "\n",
    "kh, z, pk = result.get_matter_power_spectrum(minkh=1.e-4, maxkh=10, npoints=512)\n",
    "\n",
    "pk_interpolate = interp1d(kh, pk[0], kind='cubic', fill_value=\"extrapolate\")"
   ]
  },
  {
   "cell_type": "code",
   "execution_count": 8,
   "metadata": {},
   "outputs": [
    {
     "data": {
      "text/plain": [
       "array([ True,  True,  True, ...,  True,  True,  True])"
      ]
     },
     "execution_count": 8,
     "metadata": {},
     "output_type": "execute_result"
    }
   ],
   "source": [
    "pk_interpolate(KNORM.flatten())==pk_interpolate(knorm)"
   ]
  },
  {
   "cell_type": "code",
   "execution_count": 9,
   "metadata": {},
   "outputs": [
    {
     "data": {
      "text/plain": [
       "array([[[ True,  True,  True, ...,  True,  True,  True],\n",
       "        [ True,  True,  True, ...,  True,  True,  True],\n",
       "        [ True,  True,  True, ...,  True,  True,  True],\n",
       "        ...,\n",
       "        [ True,  True,  True, ...,  True,  True,  True],\n",
       "        [ True,  True,  True, ...,  True,  True,  True],\n",
       "        [ True,  True,  True, ...,  True,  True,  True]],\n",
       "\n",
       "       [[ True,  True,  True, ...,  True,  True,  True],\n",
       "        [ True,  True,  True, ...,  True,  True,  True],\n",
       "        [ True,  True,  True, ...,  True,  True,  True],\n",
       "        ...,\n",
       "        [ True,  True,  True, ...,  True,  True,  True],\n",
       "        [ True,  True,  True, ...,  True,  True,  True],\n",
       "        [ True,  True,  True, ...,  True,  True,  True]],\n",
       "\n",
       "       [[ True,  True,  True, ...,  True,  True,  True],\n",
       "        [ True,  True,  True, ...,  True,  True,  True],\n",
       "        [ True,  True,  True, ...,  True,  True,  True],\n",
       "        ...,\n",
       "        [ True,  True,  True, ...,  True,  True,  True],\n",
       "        [ True,  True,  True, ...,  True,  True,  True],\n",
       "        [ True,  True,  True, ...,  True,  True,  True]],\n",
       "\n",
       "       ...,\n",
       "\n",
       "       [[ True,  True,  True, ...,  True,  True,  True],\n",
       "        [ True,  True,  True, ...,  True,  True,  True],\n",
       "        [ True,  True,  True, ...,  True,  True,  True],\n",
       "        ...,\n",
       "        [ True,  True,  True, ...,  True,  True,  True],\n",
       "        [ True,  True,  True, ...,  True,  True,  True],\n",
       "        [ True,  True,  True, ...,  True,  True,  True]],\n",
       "\n",
       "       [[ True,  True,  True, ...,  True,  True,  True],\n",
       "        [ True,  True,  True, ...,  True,  True,  True],\n",
       "        [ True,  True,  True, ...,  True,  True,  True],\n",
       "        ...,\n",
       "        [ True,  True,  True, ...,  True,  True,  True],\n",
       "        [ True,  True,  True, ...,  True,  True,  True],\n",
       "        [ True,  True,  True, ...,  True,  True,  True]],\n",
       "\n",
       "       [[ True,  True,  True, ...,  True,  True,  True],\n",
       "        [ True,  True,  True, ...,  True,  True,  True],\n",
       "        [ True,  True,  True, ...,  True,  True,  True],\n",
       "        ...,\n",
       "        [ True,  True,  True, ...,  True,  True,  True],\n",
       "        [ True,  True,  True, ...,  True,  True,  True],\n",
       "        [ True,  True,  True, ...,  True,  True,  True]]])"
      ]
     },
     "execution_count": 9,
     "metadata": {},
     "output_type": "execute_result"
    }
   ],
   "source": [
    "pk_interpolate(knorm).reshape(n_cells, n_cells, n_cells//2+1)==pk_interpolate(KNORM)"
   ]
  },
  {
   "cell_type": "code",
   "execution_count": 10,
   "metadata": {},
   "outputs": [],
   "source": [
    "pks = pk_interpolate(KNORM)#.reshape(n_cells, n_cells, n_cells//2+1)\n",
    "xi = np.fft.irfftn(pks) / spacing**3\n",
    "\n",
    "if np.any(xi <= -1):\n",
    "    raise ValueError(\"Invalid input: xi contains elements <= -1\")\n",
    "# generate gaussian 2PCF\n",
    "\n",
    "xi.shape\n",
    "\n",
    "# generate gaussian 2PCF\n",
    "xi_g = np.log(1+xi)\n",
    "\n",
    "# get PS from xi_g\n",
    "\n",
    "pk_g = np.fft.rfftn(xi_g) * spacing**3\n",
    "\n",
    "phase = np.random.uniform(size=pks.shape)*2*np.pi\n",
    "G_k_norm = np.random.normal(size=pks.shape)*np.sqrt(pk_g*Volume)\n",
    "G_k_norm[0,0,0] = 0\n",
    "\n",
    "G_k = G_k_norm *(np.cos(phase)+1j*np.sin(phase))\n",
    "\n",
    "G_x = np.fft.irfftn(G_k, norm='backward')/spacing**3\n",
    "\n",
    "# get delta from G_x using lognormal transform\n",
    "var_G = np.var(G_x)\n",
    "delta_x = np.exp(G_x-var_G)-1"
   ]
  },
  {
   "cell_type": "code",
   "execution_count": 11,
   "metadata": {},
   "outputs": [
    {
     "data": {
      "text/plain": [
       "Text(0.5, 1.0, 'G(x)')"
      ]
     },
     "execution_count": 11,
     "metadata": {},
     "output_type": "execute_result"
    },
    {
     "data": {
      "image/png": "[encoded data removed]",
      "text/plain": [
       "<Figure size 640x480 with 1 Axes>"
      ]
     },
     "metadata": {},
     "output_type": "display_data"
    }
   ],
   "source": [
    "plt.hist(G_x.flatten(), histtype=\"bar\", bins=50)\n",
    "plt.title('G(x)')"
   ]
  },
  {
   "cell_type": "code",
   "execution_count": 12,
   "metadata": {},
   "outputs": [
    {
     "data": {
      "text/plain": [
       "<matplotlib.legend.Legend at 0x150630070>"
      ]
     },
     "execution_count": 12,
     "metadata": {},
     "output_type": "execute_result"
    },
    {
     "data": {
      "image/png": "[encoded data removed]",
      "text/plain": [
       "<Figure size 640x480 with 1 Axes>"
      ]
     },
     "metadata": {},
     "output_type": "display_data"
    }
   ],
   "source": [
    "plt.hist(delta_x.flatten(), histtype=\"bar\", bins=50, label='$\\delta(x)$')\n",
    "plt.hist(G_x.flatten(), histtype=\"bar\", bins=50, alpha=0.5, label='$G(x)$')\n",
    "plt.legend()"
   ]
  },
  {
   "cell_type": "code",
   "execution_count": null,
   "metadata": {},
   "outputs": [],
   "source": []
  }
 ],
 "metadata": {
  "kernelspec": {
   "display_name": "acc-env",
   "language": "python",
   "name": "python3"
  },
  "language_info": {
   "codemirror_mode": {
    "name": "ipython",
    "version": 3
   },
   "file_extension": ".py",
   "mimetype": "text/x-python",
   "name": "python",
   "nbconvert_exporter": "python",
   "pygments_lexer": "ipython3",
   "version": "3.9.18"
  }
 },
 "nbformat": 4,
 "nbformat_minor": 2
}
