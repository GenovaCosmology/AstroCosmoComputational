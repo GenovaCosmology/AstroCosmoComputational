{
 "cells": [
  {
   "cell_type": "code",
   "execution_count": 54,
   "metadata": {},
   "outputs": [],
   "source": [
    "import numpy as np\n",
    "import matplotlib.pyplot as plt\n",
    "import camb # per sepettro di potenza\n",
    "from scipy.interpolate import interp1d"
   ]
  },
  {
   "cell_type": "code",
   "execution_count": 55,
   "metadata": {},
   "outputs": [
    {
     "data": {
      "text/plain": [
       "class: <InitialPowerLaw>\n",
       " tensor_parameterization = tensor_param_rpivot\n",
       " ns = 0.96\n",
       " nrun = 0.0\n",
       " nrunrun = 0.0\n",
       " nt = -0.0\n",
       " ntrun = -0.0\n",
       " r = 0.0\n",
       " pivot_scalar = 0.05\n",
       " pivot_tensor = 0.05\n",
       " As = 2.1e-09\n",
       " At = 1.0\n",
       " "
      ]
     },
     "execution_count": 55,
     "metadata": {},
     "output_type": "execute_result"
    }
   ],
   "source": [
    "#Parametri per generare spettro\n",
    "Omega_b = 0.05\n",
    "Omega_c = 0.25\n",
    "\n",
    "h = 0.7\n",
    "As = 2.1e-9\n",
    "ns = 0.96\n",
    "\n",
    "pars = camb.CAMBparams()\n",
    "pars.set_cosmology(H0=100*h, ombh2=Omega_b*h**2, omch2=Omega_c*h**2)\n",
    "pars.InitPower.set_params(As=As, ns=ns)"
   ]
  },
  {
   "cell_type": "code",
   "execution_count": 56,
   "metadata": {},
   "outputs": [],
   "source": [
    "pars.set_matter_power(redshifts=[10.], kmax= 100)\n",
    "results=camb.get_results(pars)"
   ]
  },
  {
   "cell_type": "code",
   "execution_count": 57,
   "metadata": {},
   "outputs": [],
   "source": [
    "kh, z, pk = results.get_matter_power_spectrum(minkh=1.e-4, maxkh=100, npoints=512)"
   ]
  },
  {
   "cell_type": "code",
   "execution_count": 58,
   "metadata": {},
   "outputs": [
    {
     "data": {
      "text/plain": [
       "Text(0, 0.5, 'P(k)')"
      ]
     },
     "execution_count": 58,
     "metadata": {},
     "output_type": "execute_result"
    },
    {
     "data": {
      "image/png": "[encoded data removed]",
      "text/plain": [
       "<Figure size 640x480 with 1 Axes>"
      ]
     },
     "metadata": {},
     "output_type": "display_data"
    }
   ],
   "source": [
    "plt.loglog(kh, pk[0], label=\"Theory\")\n",
    "plt.legend(loc='best')\n",
    "plt.xlabel('k')\n",
    "plt.ylabel('P(k)')"
   ]
  },
  {
   "cell_type": "code",
   "execution_count": 59,
   "metadata": {},
   "outputs": [],
   "source": [
    "#Intepol\n",
    "pk_interpolate = interp1d(kh, pk[0], kind='cubic', fill_value=0)"
   ]
  },
  {
   "cell_type": "markdown",
   "metadata": {},
   "source": [
    "**Create the grid:**"
   ]
  },
  {
   "cell_type": "code",
   "execution_count": 60,
   "metadata": {},
   "outputs": [
    {
     "name": "stdout",
     "output_type": "stream",
     "text": [
      "5.0\n"
     ]
    }
   ],
   "source": [
    "side = 500\n",
    "Volume = side**3\n",
    "\n",
    "n_cells = 100 # divido in 100 al cubo cellette\n",
    "spacing = side/n_cells\n",
    "\n",
    "print(spacing) #griglia di 5 Mpc tutto quello sotto lo perdo"
   ]
  },
  {
   "cell_type": "code",
   "execution_count": 61,
   "metadata": {},
   "outputs": [
    {
     "name": "stdout",
     "output_type": "stream",
     "text": [
      "0.012566370614359173 h/Mpc 1.2566370614359172 h/Mpc\n"
     ]
    }
   ],
   "source": [
    "kF = 2*np.pi/side # frequenza fondamentale\n",
    "kN = 2*np.pi/spacing # Nyquist di campionamento\n",
    "\n",
    "print(kF, 'h/Mpc', kN, 'h/Mpc')"
   ]
  },
  {
   "cell_type": "code",
   "execution_count": 62,
   "metadata": {},
   "outputs": [
    {
     "name": "stdout",
     "output_type": "stream",
     "text": [
      "(100,) (100,) (51,)\n"
     ]
    }
   ],
   "source": [
    "#Lavoriamo nella griglia in k \n",
    "kx = np.fft.fftfreq(n_cells, spacing)*np.pi*2 # dato celle e risoluzione dà valore di k\n",
    "ky = np.fft.fftfreq(n_cells, spacing)*np.pi*2 # dato celle e risoluzione dà valore di k\n",
    "kz = np.fft.rfftfreq(n_cells, spacing)*np.pi*2 # dato celle e risoluzione dà valore di k\n",
    "#metto r in z perchè sono io che so che la griglia è data da un campo con trasformata reale; 100*100*51 è metà punti 100^3\n",
    "\n",
    "print(kx.shape, ky.shape, kz.shape)"
   ]
  },
  {
   "cell_type": "code",
   "execution_count": 63,
   "metadata": {},
   "outputs": [
    {
     "data": {
      "text/plain": [
       "array([ 0.        ,  0.01256637,  0.02513274,  0.03769911,  0.05026548,\n",
       "        0.06283185,  0.07539822,  0.08796459,  0.10053096,  0.11309734,\n",
       "        0.12566371,  0.13823008,  0.15079645,  0.16336282,  0.17592919,\n",
       "        0.18849556,  0.20106193,  0.2136283 ,  0.22619467,  0.23876104,\n",
       "        0.25132741,  0.26389378,  0.27646015,  0.28902652,  0.30159289,\n",
       "        0.31415927,  0.32672564,  0.33929201,  0.35185838,  0.36442475,\n",
       "        0.37699112,  0.38955749,  0.40212386,  0.41469023,  0.4272566 ,\n",
       "        0.43982297,  0.45238934,  0.46495571,  0.47752208,  0.49008845,\n",
       "        0.50265482,  0.5152212 ,  0.52778757,  0.54035394,  0.55292031,\n",
       "        0.56548668,  0.57805305,  0.59061942,  0.60318579,  0.61575216,\n",
       "       -0.62831853, -0.61575216, -0.60318579, -0.59061942, -0.57805305,\n",
       "       -0.56548668, -0.55292031, -0.54035394, -0.52778757, -0.5152212 ,\n",
       "       -0.50265482, -0.49008845, -0.47752208, -0.46495571, -0.45238934,\n",
       "       -0.43982297, -0.4272566 , -0.41469023, -0.40212386, -0.38955749,\n",
       "       -0.37699112, -0.36442475, -0.35185838, -0.33929201, -0.32672564,\n",
       "       -0.31415927, -0.30159289, -0.28902652, -0.27646015, -0.26389378,\n",
       "       -0.25132741, -0.23876104, -0.22619467, -0.2136283 , -0.20106193,\n",
       "       -0.18849556, -0.17592919, -0.16336282, -0.15079645, -0.13823008,\n",
       "       -0.12566371, -0.11309734, -0.10053096, -0.08796459, -0.07539822,\n",
       "       -0.06283185, -0.05026548, -0.03769911, -0.02513274, -0.01256637])"
      ]
     },
     "execution_count": 63,
     "metadata": {},
     "output_type": "execute_result"
    }
   ],
   "source": [
    "kx"
   ]
  },
  {
   "cell_type": "code",
   "execution_count": 64,
   "metadata": {},
   "outputs": [],
   "source": [
    "kx=np.fft.fftshift(kx) # li mette dal più piccolo al più grande\n",
    "ky=np.fft.fftshift(ky)\n",
    "#non per kz perchè solo con valori positivi e parte già da zero"
   ]
  },
  {
   "cell_type": "code",
   "execution_count": 65,
   "metadata": {},
   "outputs": [
    {
     "data": {
      "text/plain": [
       "array([-0.62831853, -0.61575216, -0.60318579, -0.59061942, -0.57805305,\n",
       "       -0.56548668, -0.55292031, -0.54035394, -0.52778757, -0.5152212 ,\n",
       "       -0.50265482, -0.49008845, -0.47752208, -0.46495571, -0.45238934,\n",
       "       -0.43982297, -0.4272566 , -0.41469023, -0.40212386, -0.38955749,\n",
       "       -0.37699112, -0.36442475, -0.35185838, -0.33929201, -0.32672564,\n",
       "       -0.31415927, -0.30159289, -0.28902652, -0.27646015, -0.26389378,\n",
       "       -0.25132741, -0.23876104, -0.22619467, -0.2136283 , -0.20106193,\n",
       "       -0.18849556, -0.17592919, -0.16336282, -0.15079645, -0.13823008,\n",
       "       -0.12566371, -0.11309734, -0.10053096, -0.08796459, -0.07539822,\n",
       "       -0.06283185, -0.05026548, -0.03769911, -0.02513274, -0.01256637,\n",
       "        0.        ,  0.01256637,  0.02513274,  0.03769911,  0.05026548,\n",
       "        0.06283185,  0.07539822,  0.08796459,  0.10053096,  0.11309734,\n",
       "        0.12566371,  0.13823008,  0.15079645,  0.16336282,  0.17592919,\n",
       "        0.18849556,  0.20106193,  0.2136283 ,  0.22619467,  0.23876104,\n",
       "        0.25132741,  0.26389378,  0.27646015,  0.28902652,  0.30159289,\n",
       "        0.31415927,  0.32672564,  0.33929201,  0.35185838,  0.36442475,\n",
       "        0.37699112,  0.38955749,  0.40212386,  0.41469023,  0.4272566 ,\n",
       "        0.43982297,  0.45238934,  0.46495571,  0.47752208,  0.49008845,\n",
       "        0.50265482,  0.5152212 ,  0.52778757,  0.54035394,  0.55292031,\n",
       "        0.56548668,  0.57805305,  0.59061942,  0.60318579,  0.61575216])"
      ]
     },
     "execution_count": 65,
     "metadata": {},
     "output_type": "execute_result"
    }
   ],
   "source": [
    "kx\n"
   ]
  },
  {
   "cell_type": "code",
   "execution_count": 66,
   "metadata": {},
   "outputs": [],
   "source": [
    "#Per ogni kx,y,z devo trovare mosdulo k, ...\n",
    "#Generate Random FIeld in Fourier SPace\n"
   ]
  },
  {
   "cell_type": "code",
   "execution_count": 67,
   "metadata": {},
   "outputs": [
    {
     "data": {
      "text/plain": [
       "(100, 100, 51)"
      ]
     },
     "execution_count": 67,
     "metadata": {},
     "output_type": "execute_result"
    }
   ],
   "source": [
    "pks = np.zeros((n_cells, n_cells, n_cells//2+1))\n",
    "pks.shape"
   ]
  },
  {
   "cell_type": "code",
   "execution_count": 68,
   "metadata": {},
   "outputs": [],
   "source": [
    "for i in range(n_cells): #ciclo sulla grigia \n",
    "    kx = i if i<n_cells // 2 else i-n_cells\n",
    "    kx += 2*np.pi/side\n",
    "    for j in range(n_cells):\n",
    "        ky = j if j<= n_cells // 2 else j-n_cells\n",
    "        ky += 2*np.pi/side\n",
    "        for k in range(n_cells//2+1):\n",
    "            kz=k*2*np.pi/side\n",
    "            knorm=np.sqrt(kx**2+ky**2+kz**2)\n",
    "\n",
    "            pks[i,j,k] = pk_interpolate(knorm)\n",
    "    \n",
    "pks[0,0,0]=0"
   ]
  },
  {
   "cell_type": "code",
   "execution_count": 69,
   "metadata": {},
   "outputs": [],
   "source": [
    "#Dobbiamo generare numeri complessi perchè nello spazio di Fourier con norma e fase\n",
    "# Fase numero random tra 0 e 2pi mentre la  norma è numero estratto da un Gauss(0,1) moltiplicata per\n",
    "# sqrt(Volume*P(k)/2)"
   ]
  },
  {
   "cell_type": "markdown",
   "metadata": {},
   "source": [
    "Se scrivo:\n",
    "$$\n",
    "\\delta(\\hat{k})=\\sqrt{VP(k)/2}(\\theta_r+i\\theta_i)\n",
    "$$"
   ]
  },
  {
   "cell_type": "code",
   "execution_count": 70,
   "metadata": {},
   "outputs": [
    {
     "data": {
      "text/plain": [
       "(100, 100, 51)"
      ]
     },
     "execution_count": 70,
     "metadata": {},
     "output_type": "execute_result"
    }
   ],
   "source": [
    "phase = np.random.uniform(size=pks.shape)*2*np.pi\n",
    "phase.shape"
   ]
  },
  {
   "cell_type": "code",
   "execution_count": 71,
   "metadata": {},
   "outputs": [],
   "source": [
    "#for i in range(len(pks.flatten())):\n",
    " #   if pks.flatten()[i]<0:\n",
    "  #      print(pks.flatten()[i])"
   ]
  },
  {
   "cell_type": "code",
   "execution_count": 72,
   "metadata": {},
   "outputs": [],
   "source": [
    "delta_k_norm = np.random.normal(size=pks.shape)*np.sqrt(pks*Volume/2)"
   ]
  },
  {
   "cell_type": "code",
   "execution_count": 73,
   "metadata": {},
   "outputs": [],
   "source": [
    "delta_k=delta_k_norm*(np.cos(phase)+1j*np.sin(phase))\n"
   ]
  },
  {
   "cell_type": "code",
   "execution_count": 74,
   "metadata": {},
   "outputs": [
    {
     "data": {
      "text/plain": [
       "<matplotlib.image.AxesImage at 0x7f74de8d8790>"
      ]
     },
     "execution_count": 74,
     "metadata": {},
     "output_type": "execute_result"
    },
    {
     "data": {
      "image/png": "[encoded data removed]",
      "text/plain": [
       "<Figure size 640x480 with 1 Axes>"
      ]
     },
     "metadata": {},
     "output_type": "display_data"
    }
   ],
   "source": [
    "plt.imshow(delta_k_norm[:,:,2])"
   ]
  },
  {
   "cell_type": "code",
   "execution_count": 75,
   "metadata": {},
   "outputs": [],
   "source": [
    "delta_x = np.fft.irfftn(delta_k, norm='backward')/spacing**3"
   ]
  },
  {
   "cell_type": "code",
   "execution_count": 76,
   "metadata": {},
   "outputs": [
    {
     "data": {
      "text/plain": [
       "<matplotlib.image.AxesImage at 0x7f74de8a6910>"
      ]
     },
     "execution_count": 76,
     "metadata": {},
     "output_type": "execute_result"
    },
    {
     "data": {
      "image/png": "[encoded data removed]",
      "text/plain": [
       "<Figure size 640x480 with 1 Axes>"
      ]
     },
     "metadata": {},
     "output_type": "display_data"
    }
   ],
   "source": [
    "plt.imshow(delta_k_norm[:,:,2])\n"
   ]
  },
  {
   "cell_type": "code",
   "execution_count": 77,
   "metadata": {},
   "outputs": [
    {
     "data": {
      "text/plain": [
       "(array([  1191.,  18553.,  98431., 232590., 263560., 228751., 122988.,\n",
       "         29449.,   4184.,    303.]),\n",
       " array([0.98494462, 0.98822355, 0.99150248, 0.9947814 , 0.99806033,\n",
       "        1.00133926, 1.00461819, 1.00789712, 1.01117605, 1.01445497,\n",
       "        1.0177339 ]),\n",
       " <BarContainer object of 10 artists>)"
      ]
     },
     "execution_count": 77,
     "metadata": {},
     "output_type": "execute_result"
    },
    {
     "data": {
      "image/png": "[encoded data removed]",
      "text/plain": [
       "<Figure size 640x480 with 1 Axes>"
      ]
     },
     "metadata": {},
     "output_type": "display_data"
    }
   ],
   "source": [
    "plt.hist(1+delta_x.flatten())"
   ]
  },
  {
   "cell_type": "code",
   "execution_count": 78,
   "metadata": {},
   "outputs": [],
   "source": [
    "#posso cambiare redshift e rifare tutto e va fino a delta negativ; problema campi gaussinai è che possono divergere o violare anche forte bias che densità si apositivo\n",
    "#gauss usati solo come inizio simulaioni "
   ]
  },
  {
   "cell_type": "code",
   "execution_count": 79,
   "metadata": {},
   "outputs": [
    {
     "data": {
      "text/plain": [
       "-3.615163723935666e-21"
      ]
     },
     "execution_count": 79,
     "metadata": {},
     "output_type": "execute_result"
    }
   ],
   "source": [
    "np.mean(delta_x)\n"
   ]
  },
  {
   "cell_type": "code",
   "execution_count": 80,
   "metadata": {},
   "outputs": [
    {
     "data": {
      "text/plain": [
       "0.004372667927164012"
      ]
     },
     "execution_count": 80,
     "metadata": {},
     "output_type": "execute_result"
    }
   ],
   "source": [
    "np.std(delta_x)"
   ]
  },
  {
   "cell_type": "code",
   "execution_count": 82,
   "metadata": {},
   "outputs": [
    {
     "ename": "AttributeError",
     "evalue": "module 'numpy' has no attribute 'rfft'",
     "output_type": "error",
     "traceback": [
      "\u001b[0;31m---------------------------------------------------------------------------\u001b[0m",
      "\u001b[0;31mAttributeError\u001b[0m                            Traceback (most recent call last)",
      "Cell \u001b[0;32mIn[82], line 4\u001b[0m\n\u001b[1;32m      2\u001b[0m kx \u001b[38;5;241m=\u001b[39m np\u001b[38;5;241m.\u001b[39mfft\u001b[38;5;241m.\u001b[39mfftfreq(n_cells, spacing)\u001b[38;5;241m*\u001b[39mnp\u001b[38;5;241m.\u001b[39mpi\u001b[38;5;241m*\u001b[39m\u001b[38;5;241m2\u001b[39m\n\u001b[1;32m      3\u001b[0m ky \u001b[38;5;241m=\u001b[39m np\u001b[38;5;241m.\u001b[39mfft\u001b[38;5;241m.\u001b[39mfftfreq(n_cells, spacing)\u001b[38;5;241m*\u001b[39mnp\u001b[38;5;241m.\u001b[39mpi\u001b[38;5;241m*\u001b[39m\u001b[38;5;241m2\u001b[39m\n\u001b[0;32m----> 4\u001b[0m kz \u001b[38;5;241m=\u001b[39m \u001b[43mnp\u001b[49m\u001b[38;5;241;43m.\u001b[39;49m\u001b[43mrfft\u001b[49m\u001b[38;5;241m.\u001b[39mfftfreq(n_cells, spacing\u001b[38;5;241m/\u001b[39m\u001b[38;5;241m/\u001b[39m\u001b[38;5;241m2\u001b[39m\u001b[38;5;241m+\u001b[39m\u001b[38;5;241m1\u001b[39m)\u001b[38;5;241m*\u001b[39mnp\u001b[38;5;241m.\u001b[39mpi\u001b[38;5;241m*\u001b[39m\u001b[38;5;241m2\u001b[39m\n",
      "File \u001b[0;32m~/anaconda3/envs/acc-env/lib/python3.9/site-packages/numpy/__init__.py:333\u001b[0m, in \u001b[0;36m__getattr__\u001b[0;34m(attr)\u001b[0m\n\u001b[1;32m    330\u001b[0m     \u001b[38;5;124m\"\u001b[39m\u001b[38;5;124mRemoved in NumPy 1.25.0\u001b[39m\u001b[38;5;124m\"\u001b[39m\n\u001b[1;32m    331\u001b[0m     \u001b[38;5;28;01mraise\u001b[39;00m \u001b[38;5;167;01mRuntimeError\u001b[39;00m(\u001b[38;5;124m\"\u001b[39m\u001b[38;5;124mTester was removed in NumPy 1.25.\u001b[39m\u001b[38;5;124m\"\u001b[39m)\n\u001b[0;32m--> 333\u001b[0m \u001b[38;5;28;01mraise\u001b[39;00m \u001b[38;5;167;01mAttributeError\u001b[39;00m(\u001b[38;5;124m\"\u001b[39m\u001b[38;5;124mmodule \u001b[39m\u001b[38;5;132;01m{!r}\u001b[39;00m\u001b[38;5;124m has no attribute \u001b[39m\u001b[38;5;124m\"\u001b[39m\n\u001b[1;32m    334\u001b[0m                      \u001b[38;5;124m\"\u001b[39m\u001b[38;5;132;01m{!r}\u001b[39;00m\u001b[38;5;124m\"\u001b[39m\u001b[38;5;241m.\u001b[39mformat(\u001b[38;5;18m__name__\u001b[39m, attr))\n",
      "\u001b[0;31mAttributeError\u001b[0m: module 'numpy' has no attribute 'rfft'"
     ]
    }
   ],
   "source": [
    "#Extract Power spectrum:\n",
    "kx = np.fft.fftfreq(n_cells, spacing)*np.pi*2\n",
    "ky = np.fft.fftfreq(n_cells, spacing)*np.pi*2\n",
    "kz = np.rfft.fftfreq(n_cells, spacing//2+1)*np.pi*2\n"
   ]
  },
  {
   "cell_type": "code",
   "execution_count": 83,
   "metadata": {},
   "outputs": [],
   "source": [
    "knorm = []\n",
    "for i in range(n_cells): #ciclo sulla grigia \n",
    "    kx = i if i<n_cells // 2 else i-n_cells\n",
    "    kx += 2*np.pi/side\n",
    "    for j in range(n_cells):\n",
    "        ky = j if j<= n_cells // 2 else j-n_cells\n",
    "        ky += 2*np.pi/side\n",
    "        for k in range(n_cells//2+1):\n",
    "            kz=k*2*np.pi/side\n",
    "            knorm.append(np.sqrt(kx**2+ky**2+kz**2))"
   ]
  },
  {
   "cell_type": "code",
   "execution_count": 84,
   "metadata": {},
   "outputs": [],
   "source": [
    "delta_k_sq = np.abs(delta_k)**2"
   ]
  },
  {
   "cell_type": "code",
   "execution_count": 85,
   "metadata": {},
   "outputs": [],
   "source": [
    "pks = delta_k_sq.flatten()/Volume"
   ]
  },
  {
   "cell_type": "code",
   "execution_count": null,
   "metadata": {},
   "outputs": [],
   "source": [
    "#plt.loglog(knorm, pks, )"
   ]
  },
  {
   "cell_type": "code",
   "execution_count": 86,
   "metadata": {},
   "outputs": [],
   "source": [
    "edges =np.arange(kF,kN,kF)"
   ]
  },
  {
   "cell_type": "code",
   "execution_count": 87,
   "metadata": {},
   "outputs": [
    {
     "data": {
      "text/plain": [
       "array([0.01256637, 0.02513274, 0.03769911, 0.05026548, 0.06283185,\n",
       "       0.07539822, 0.08796459, 0.10053096, 0.11309734, 0.12566371,\n",
       "       0.13823008, 0.15079645, 0.16336282, 0.17592919, 0.18849556,\n",
       "       0.20106193, 0.2136283 , 0.22619467, 0.23876104, 0.25132741,\n",
       "       0.26389378, 0.27646015, 0.28902652, 0.30159289, 0.31415927,\n",
       "       0.32672564, 0.33929201, 0.35185838, 0.36442475, 0.37699112,\n",
       "       0.38955749, 0.40212386, 0.41469023, 0.4272566 , 0.43982297,\n",
       "       0.45238934, 0.46495571, 0.47752208, 0.49008845, 0.50265482,\n",
       "       0.5152212 , 0.52778757, 0.54035394, 0.55292031, 0.56548668,\n",
       "       0.57805305, 0.59061942, 0.60318579, 0.61575216, 0.62831853,\n",
       "       0.6408849 , 0.65345127, 0.66601764, 0.67858401, 0.69115038,\n",
       "       0.70371675, 0.71628313, 0.7288495 , 0.74141587, 0.75398224,\n",
       "       0.76654861, 0.77911498, 0.79168135, 0.80424772, 0.81681409,\n",
       "       0.82938046, 0.84194683, 0.8545132 , 0.86707957, 0.87964594,\n",
       "       0.89221231, 0.90477868, 0.91734505, 0.92991143, 0.9424778 ,\n",
       "       0.95504417, 0.96761054, 0.98017691, 0.99274328, 1.00530965,\n",
       "       1.01787602, 1.03044239, 1.04300876, 1.05557513, 1.0681415 ,\n",
       "       1.08070787, 1.09327424, 1.10584061, 1.11840698, 1.13097336,\n",
       "       1.14353973, 1.1561061 , 1.16867247, 1.18123884, 1.19380521,\n",
       "       1.20637158, 1.21893795, 1.23150432, 1.24407069])"
      ]
     },
     "execution_count": 87,
     "metadata": {},
     "output_type": "execute_result"
    }
   ],
   "source": [
    "edges"
   ]
  },
  {
   "cell_type": "code",
   "execution_count": 88,
   "metadata": {},
   "outputs": [],
   "source": [
    "pk_meas = np.zeros(len(edges)-1)\n",
    "k_bin = (edges[1:]+edges[0:-1])/2"
   ]
  },
  {
   "cell_type": "code",
   "execution_count": 89,
   "metadata": {},
   "outputs": [
    {
     "name": "stderr",
     "output_type": "stream",
     "text": [
      "/home/git/anaconda3/envs/acc-env/lib/python3.9/site-packages/numpy/core/fromnumeric.py:3504: RuntimeWarning: Mean of empty slice.\n",
      "  return _methods._mean(a, axis=axis, dtype=dtype,\n",
      "/home/git/anaconda3/envs/acc-env/lib/python3.9/site-packages/numpy/core/_methods.py:129: RuntimeWarning: invalid value encountered in scalar divide\n",
      "  ret = ret.dtype.type(ret / rcount)\n"
     ]
    }
   ],
   "source": [
    "for i in range(len(k_bin)):\n",
    "    k_selection = np.where((knorm>edges[i])&(knorm<edges[i+1]))[0]\n",
    "    pk_meas[i]= np.mean(pks[k_selection])"
   ]
  },
  {
   "cell_type": "code",
   "execution_count": 92,
   "metadata": {},
   "outputs": [
    {
     "data": {
      "text/plain": [
       "[<matplotlib.lines.Line2D at 0x7f74cf8dc490>]"
      ]
     },
     "execution_count": 92,
     "metadata": {},
     "output_type": "execute_result"
    },
    {
     "data": {
      "image/png": "[encoded data removed]",
      "text/plain": [
       "<Figure size 640x480 with 1 Axes>"
      ]
     },
     "metadata": {},
     "output_type": "display_data"
    }
   ],
   "source": [
    "plt.loglog(knorm, pks, '.', label='Data')\n",
    "plt.loglog(k_bin, pk_meas, '-', label='Measure', color='r', lw=3)\n",
    "#plt.loglog(kh[])"
   ]
  },
  {
   "cell_type": "code",
   "execution_count": null,
   "metadata": {},
   "outputs": [],
   "source": []
  }
 ],
 "metadata": {
  "kernelspec": {
   "display_name": "acc-env",
   "language": "python",
   "name": "python3"
  },
  "language_info": {
   "codemirror_mode": {
    "name": "ipython",
    "version": 3
   },
   "file_extension": ".py",
   "mimetype": "text/x-python",
   "name": "python",
   "nbconvert_exporter": "python",
   "pygments_lexer": "ipython3",
   "version": "3.9.18"
  }
 },
 "nbformat": 4,
 "nbformat_minor": 2
}
