{
 "cells": [
  {
   "cell_type": "code",
   "execution_count": null,
   "metadata": {},
   "outputs": [
    {
     "name": "stdout",
     "output_type": "stream",
     "text": [
      "[]\n"
     ]
    }
   ],
   "source": [
    "# 2nd rung: SN Ia in Cepheid host galaxies\n",
    "# **WARNING**: 77 datasets used even if only 42 events, the selection is arbitrary\n",
    "\n",
    "events = [] # list of accepted events\n",
    "events_errors = [] # list of accepted events errors\n",
    "indices = [] # list of indices of the accepted events\n",
    "\n",
    "for i in range(77):\n",
    "    e1 = y[3130+i]\n",
    "    e2 = y[3130+i+1]\n",
    "    ee1 = np.sqrt(C[3130+i, 3130+i])\n",
    "    ee2 = np.sqrt(C[3130+i+1, 3130+i+1])\n",
    "    if e1-e2 > 0.15 or e1-e2 < -0.1:\n",
    "        events.append(e1)\n",
    "        events_errors.append(ee1)\n",
    "    if len(events) == 42:\n",
    "        break\n",
    "    else: \n",
    "        continue\n",
    "print(indices)\n",
    "M_SN = Q_best[42] # obtained from lstsq method, reference magnitude for SN Ia\n",
    "eM_SN2 = C_Q[42, 42] # obtained from lstsq method, reference magnitude for SN Ia error\n",
    "\n",
    "mM_SN = events - M_SN\n",
    "#emM_SN = np.sqrt(events_errors**2 + eM_SN2)\n",
    "\n",
    "#mu_SN = Q_best[indices]\n",
    "\n",
    "#mM_ch = y[3130:3172]+mu_SN-M_SN # magnitude on the Cepheids with respect to reference"
   ]
  }
 ],
 "metadata": {
  "language_info": {
   "name": "python"
  }
 },
 "nbformat": 4,
 "nbformat_minor": 2
}
