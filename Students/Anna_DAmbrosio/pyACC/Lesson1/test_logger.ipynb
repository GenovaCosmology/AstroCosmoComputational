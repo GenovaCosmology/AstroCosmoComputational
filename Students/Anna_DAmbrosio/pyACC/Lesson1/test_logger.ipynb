{
 "cells": [
  {
   "cell_type": "markdown",
   "metadata": {},
   "source": [
    "# Exercise #1\n",
    "\n",
    "This exercise is focused on doing the first steps with Python, Python notebooks and Python modules\n",
    "This notebook, that you have to fill, simply override the default ´print´ Python function with\n",
    "a customized logger. \n",
    "\n",
    "The goal of the exercise is extremely simple:\n",
    "\n",
    "1) Adjust your imports \n",
    "2) Customize your logger to print your name/whatever alias\n",
    "3) Play with source code to understand structure, add functionalities, whatever.\n"
   ]
  },
  {
   "cell_type": "markdown",
   "metadata": {},
   "source": [
    "## Imports"
   ]
  },
  {
   "cell_type": "code",
   "execution_count": null,
   "metadata": {},
   "outputs": [],
   "source": [
    "import sys\n",
    "\n",
    "# Complete with appropriate path\n",
    "sys.path.append(\"...\")\n",
    "\n",
    "# Complete with appropriate object to import\n",
    "from pyACC.helpers import ..."
   ]
  },
  {
   "cell_type": "markdown",
   "metadata": {},
   "source": [
    "## Function usage"
   ]
  },
  {
   "cell_type": "code",
   "execution_count": null,
   "metadata": {},
   "outputs": [],
   "source": [
    "print(\"Say Goodbye to the old print function...\")"
   ]
  },
  {
   "cell_type": "code",
   "execution_count": null,
   "metadata": {},
   "outputs": [],
   "source": [
    "# Instatiate the logger entity - this will be used to print the output instead of the print function\n",
    "print = Logger('Put your alias here')"
   ]
  },
  {
   "cell_type": "code",
   "execution_count": null,
   "metadata": {},
   "outputs": [],
   "source": [
    "print('Your message here')"
   ]
  }
 ],
 "metadata": {
  "kernelspec": {
   "display_name": "acc-env",
   "language": "python",
   "name": "python3"
  },
  "language_info": {
   "codemirror_mode": {
    "name": "ipython",
    "version": 3
   },
   "file_extension": ".py",
   "mimetype": "text/x-python",
   "name": "python",
   "nbconvert_exporter": "python",
   "pygments_lexer": "ipython3",
   "version": "3.9.18"
  }
 },
 "nbformat": 4,
 "nbformat_minor": 2
}
