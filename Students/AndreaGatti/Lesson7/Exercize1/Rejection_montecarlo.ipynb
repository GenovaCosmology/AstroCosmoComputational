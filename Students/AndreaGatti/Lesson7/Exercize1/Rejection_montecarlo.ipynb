{
 "cells": [
  {
   "cell_type": "code",
   "execution_count": 6,
   "metadata": {},
   "outputs": [],
   "source": [
    "import sys\n",
    "sys.path.append(\"../../\")\n",
    "import math as m\n",
    "import random\n",
    "import matplotlib.pyplot as plt\n",
    "import numpy as np"
   ]
  },
  {
   "cell_type": "code",
   "execution_count": 54,
   "metadata": {},
   "outputs": [
    {
     "name": "stdout",
     "output_type": "stream",
     "text": [
      "0.172\n"
     ]
    },
    {
     "ename": "TypeError",
     "evalue": "'list' object is not callable",
     "output_type": "error",
     "traceback": [
      "\u001b[0;31m---------------------------------------------------------------------------\u001b[0m",
      "\u001b[0;31mTypeError\u001b[0m                                 Traceback (most recent call last)",
      "Cell \u001b[0;32mIn[54], line 75\u001b[0m\n\u001b[1;32m     73\u001b[0m integral_estimate, vector_x, vector_y \u001b[38;5;241m=\u001b[39m rejection_monte_carlo_flat(num_points,x,y,gaussian_function)\n\u001b[1;32m     74\u001b[0m \u001b[38;5;28mprint\u001b[39m(integral_estimate)\n\u001b[0;32m---> 75\u001b[0m integral_estimate_gauss, vec_x, vec_y \u001b[38;5;241m=\u001b[39m \u001b[43mrejection_monte_carlo_gauss\u001b[49m\u001b[43m(\u001b[49m\u001b[43mnum_points\u001b[49m\u001b[43m,\u001b[49m\u001b[43mx\u001b[49m\u001b[43m,\u001b[49m\u001b[38;5;241;43m4\u001b[39;49m\u001b[43m,\u001b[49m\u001b[38;5;241;43m0\u001b[39;49m\u001b[43m)\u001b[49m\n\u001b[1;32m     77\u001b[0m fig, ax \u001b[38;5;241m=\u001b[39m plt\u001b[38;5;241m.\u001b[39msubplots()\n\u001b[1;32m     79\u001b[0m \u001b[38;5;66;03m#ax.plot(x, y) #label='Flat function'\u001b[39;00m\n",
      "Cell \u001b[0;32mIn[54], line 60\u001b[0m, in \u001b[0;36mrejection_monte_carlo_gauss\u001b[0;34m(n, x, sigma, mu)\u001b[0m\n\u001b[1;32m     57\u001b[0m n_y \u001b[38;5;241m=\u001b[39m random\u001b[38;5;241m.\u001b[39muniform(\u001b[38;5;241m0\u001b[39m, \u001b[38;5;28mmax\u001b[39m(y))  \u001b[38;5;66;03m# Generate a random y-coordinate\u001b[39;00m\n\u001b[1;32m     58\u001b[0m \u001b[38;5;66;03m#print(n_y)\u001b[39;00m\n\u001b[0;32m---> 60\u001b[0m \u001b[38;5;28;01mif\u001b[39;00m n_y \u001b[38;5;241m<\u001b[39m\u001b[38;5;241m=\u001b[39m \u001b[43mpdf\u001b[49m\u001b[43m(\u001b[49m\u001b[43mn_x\u001b[49m\u001b[43m)\u001b[49m:\n\u001b[1;32m     61\u001b[0m     count_within_region \u001b[38;5;241m+\u001b[39m\u001b[38;5;241m=\u001b[39m \u001b[38;5;241m1\u001b[39m\n\u001b[1;32m     62\u001b[0m     vector_x\u001b[38;5;241m.\u001b[39mappend(n_x)\n",
      "\u001b[0;31mTypeError\u001b[0m: 'list' object is not callable"
     ]
    }
   ],
   "source": [
    "#create a proposed distribuction:\n",
    "#Case: FLAT FUNCTION\n",
    "const = [1,2]\n",
    "#y = flat_function\n",
    "#in x axis:\n",
    "x = np.linspace(-4,4,100)\n",
    "y = np.full(100,1.2)\n",
    "\n",
    "\n",
    "\n",
    "#Function that I want to compute rejection montecarlo\n",
    "#Case: GAUSSIAN FUNCTION\n",
    "def gaussian_function(x):\n",
    "    return np.exp(-x**2)\n",
    "pdf=[]\n",
    "for i in range(len(x)):\n",
    "    pdf.append(gaussian_function(x[i]))\n",
    "\n",
    "\n",
    "#compute integral with rejection montecarlo:\n",
    "\n",
    "#x e y define the box which i use to generate random numbers\n",
    "#pdf is the function which i want to calculate the integral\n",
    "def rejection_monte_carlo_flat(n,x,y,pdf): \n",
    "    count_within_region = 0\n",
    "    vector_x = []\n",
    "    vector_y = []\n",
    "    for _ in range(n):\n",
    "        n_x = random.uniform(min(x), max(x))  # Generate a random x-coordinate\n",
    "        n_y = random.uniform(0, max(y))  # Generate a random y-coordinate\n",
    "        #print(n_y)\n",
    "\n",
    "        if n_y <= pdf(n_x):\n",
    "            count_within_region += 1\n",
    "            vector_x.append(n_x)\n",
    "            vector_y.append(n_y)\n",
    "            #print(n_x,n_y)\n",
    "\n",
    "    integral_estimate = count_within_region / n\n",
    "    return integral_estimate, vector_x, vector_y\n",
    "\n",
    "def rejection_monte_carlo_gauss(n,x,sigma,mu):\n",
    "    count_within_region = 0\n",
    "    vector_x = []\n",
    "    vector_y = []\n",
    "    # Define parameters\n",
    "    #mu = 0  # Mean\n",
    "    #sigma = 1  # Standard deviation\n",
    "\n",
    "    # Generate data points for x-axis\n",
    "    #x = np.linspace(mu - 3*sigma, mu + 3*sigma, 100)\n",
    "\n",
    "    # Calculate the probability density function (PDF) values for the given parameters\n",
    "    y = np.exp(-0.5 * ((x - mu) / sigma)**2) #(1/(sigma * np.sqrt(2 * np.pi))) * \n",
    "    for _ in range(n):\n",
    "        n_x = random.uniform(min(x), max(x))  # Generate a random x-coordinate\n",
    "        n_y = random.uniform(0, max(y))  # Generate a random y-coordinate\n",
    "        #print(n_y)\n",
    "\n",
    "        if n_y <= pdf(n_x):\n",
    "            count_within_region += 1\n",
    "            vector_x.append(n_x)\n",
    "            vector_y.append(n_y)\n",
    "            #print(n_x,n_y)\n",
    "\n",
    "    integral_estimate = count_within_region / n\n",
    "    return integral_estimate, vector_x, vector_y\n",
    "\n",
    "# Number of random points to generate\n",
    "num_points = 1000\n",
    "\n",
    "# Estimate the volume under the surface defined by pdf in the region R\n",
    "integral_estimate, vector_x, vector_y = rejection_monte_carlo_flat(num_points,x,y,gaussian_function)\n",
    "print(integral_estimate)\n",
    "integral_estimate_gauss, vec_x, vec_y = rejection_monte_carlo_gauss(num_points,x,4,0)\n",
    "\n",
    "fig, ax = plt.subplots()\n",
    "\n",
    "#ax.plot(x, y) #label='Flat function'\n",
    "ax.plot(x, pdf) #label='Gaussian distribuction'\n",
    "plt.scatter(vector_x, vector_y, color='green',marker='o')\n",
    "#ax.legend()\n",
    "plt.show()\n",
    "\n",
    "\n"
   ]
  }
 ],
 "metadata": {
  "kernelspec": {
   "display_name": "acc-env",
   "language": "python",
   "name": "python3"
  },
  "language_info": {
   "codemirror_mode": {
    "name": "ipython",
    "version": 3
   },
   "file_extension": ".py",
   "mimetype": "text/x-python",
   "name": "python",
   "nbconvert_exporter": "python",
   "pygments_lexer": "ipython3",
   "version": "3.9.18"
  }
 },
 "nbformat": 4,
 "nbformat_minor": 2
}
