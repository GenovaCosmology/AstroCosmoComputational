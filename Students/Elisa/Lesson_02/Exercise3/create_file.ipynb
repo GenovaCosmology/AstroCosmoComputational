{
 "cells": [
  {
   "cell_type": "code",
   "execution_count": 1,
   "id": "16db9dea-ebc6-4b47-b136-8b7c9b777fc3",
   "metadata": {},
   "outputs": [],
   "source": [
    "import sys\n",
    "import matplotlib.pyplot as plt\n",
    "import numpy as np\n",
    "\n",
    "sys.path.append(\"../\")\n",
    "#from pyACC.Calculus import *\n",
    "from pyACC.Cosmology import *"
   ]
  },
  {
   "cell_type": "code",
   "execution_count": 2,
   "id": "3da7d6b5-1b7c-4cde-93fb-2d5c0c524af0",
   "metadata": {},
   "outputs": [],
   "source": [
    "z_f = 2\n",
    "deltaz = 0.01\n",
    "#redshift = np.linspace(0,z_f,1000)\n",
    "redshift = np.arange(0,z_f,deltaz)+0.01/2"
   ]
  },
  {
   "cell_type": "code",
   "execution_count": 3,
   "id": "e90c5196-ecbc-4259-a377-8de86751b8f7",
   "metadata": {},
   "outputs": [],
   "source": [
    "w1 = -1\n",
    "w2 = -1.1"
   ]
  },
  {
   "cell_type": "code",
   "execution_count": 4,
   "id": "23987197-2e81-4ca5-ab04-64884481cf1b",
   "metadata": {},
   "outputs": [
    {
     "name": "stdout",
     "output_type": "stream",
     "text": [
      "The comoving distance for the LCMD model is  5274.771599303065 Mpc\n",
      "The comoving distance for the wCMD model is  5365.265709830666 Mpc\n"
     ]
    }
   ],
   "source": [
    "print ('The comoving distance for the LCMD model is ', Dc(z_f=z_f, w_de=w1), 'Mpc')\n",
    "print ('The comoving distance for the wCMD model is ', Dc(z_f=z_f, w_de=w2), 'Mpc')"
   ]
  },
  {
   "cell_type": "code",
   "execution_count": 10,
   "id": "5c44fa8f-8c11-454f-865a-3816bc41db37",
   "metadata": {},
   "outputs": [
    {
     "data": {
      "text/plain": [
       "21"
      ]
     },
     "execution_count": 10,
     "metadata": {},
     "output_type": "execute_result"
    }
   ],
   "source": [
    "file = open('distances.txt',\"w\")\n",
    "file.write(\"z   Dc_LCDM   Dc_wCDM\")"
   ]
  },
  {
   "cell_type": "code",
   "execution_count": 11,
   "id": "7e831155-5904-48f8-bd67-f41bce0e5ec9",
   "metadata": {},
   "outputs": [],
   "source": [
    "Dc1 = []\n",
    "Dc2 = []\n",
    "\n",
    "for z in redshift:\n",
    "    temp1 = str(Dc(z_f=z, w_de=w1))\n",
    "    temp2 = str(Dc(z_f=z, w_de=w2))\n",
    "    temp = str(z)\n",
    "    #riga = temp temp1 temp2 \\n #% (z temp1 temp2)\n",
    "    file.write(\"\\n\")\n",
    "    file.write(temp )\n",
    "    file.write(\"   \" )\n",
    "    file.write(temp1)\n",
    "    file.write(\"   \" )\n",
    "    file.write( temp2)\n",
    "    #Dc1 = np.append(Dc1, Dc(z_f=z, w_de=w1))\n",
    "    #Dc2 = np.append(Dc2, Dc(z_f=z, w_de=w2))\n",
    "    \n",
    "\n",
    "file.close()"
   ]
  },
  {
   "cell_type": "code",
   "execution_count": null,
   "id": "7344a9c5-b665-45ec-99d7-493af83e3bda",
   "metadata": {},
   "outputs": [],
   "source": []
  },
  {
   "cell_type": "code",
   "execution_count": null,
   "id": "7954b794-b857-4d11-90c0-fe21f01a5254",
   "metadata": {},
   "outputs": [],
   "source": []
  }
 ],
 "metadata": {
  "kernelspec": {
   "display_name": "Python 3 (ipykernel)",
   "language": "python",
   "name": "python3"
  },
  "language_info": {
   "codemirror_mode": {
    "name": "ipython",
    "version": 3
   },
   "file_extension": ".py",
   "mimetype": "text/x-python",
   "name": "python",
   "nbconvert_exporter": "python",
   "pygments_lexer": "ipython3",
   "version": "3.8.10"
  }
 },
 "nbformat": 4,
 "nbformat_minor": 5
}
