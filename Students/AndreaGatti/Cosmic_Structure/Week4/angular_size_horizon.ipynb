{
 "cells": [
  {
   "cell_type": "markdown",
   "metadata": {},
   "source": [
    "## Week4"
   ]
  },
  {
   "cell_type": "markdown",
   "metadata": {},
   "source": [
    "* Exercize 2:\n",
    "Angular size of the horizon at a given redshift"
   ]
  },
  {
   "cell_type": "code",
   "execution_count": 1,
   "metadata": {},
   "outputs": [],
   "source": [
    "import matplotlib\n",
    "from matplotlib import pyplot as plt\n",
    "import camb"
   ]
  },
  {
   "cell_type": "code",
   "execution_count": 2,
   "metadata": {},
   "outputs": [
    {
     "name": "stdout",
     "output_type": "stream",
     "text": [
      "The comoving distance at redshift z = 1100 is:  8336.052487083643  Mpc\n"
     ]
    }
   ],
   "source": [
    "#Now I compute the particle horizon at a given redshift\n",
    "#before to do I define the cosmological parameters:\n",
    "#In matter domination and in radiation domination i can use the Einstein-de Sitter model\n",
    "#Now, I compute the comoving distance at a given redshift\n",
    "\n",
    "#I define the cosmological parameters:\n",
    "pars = camb.CAMBparams()\n",
    "#pars.set_cosmology(H0=67.5, ombh2=0.022, omch2=0.122)\n",
    "pars.set_cosmology(H0=67.5, ombh2=1*0.7**2, omch2=0.)\n",
    "#pars.InitPower.set_params(ns=0.965)\n",
    "results = camb.get_background(pars)\n",
    "z = 1100\n",
    "#I compute the comoving distance at a given redshift\n",
    "comoving_distance = results.comoving_radial_distance(z)\n",
    "print(\"The comoving distance at redshift z = 1100 is: \", comoving_distance, \" Mpc\")"
   ]
  },
  {
   "cell_type": "code",
   "execution_count": 3,
   "metadata": {},
   "outputs": [
    {
     "name": "stdout",
     "output_type": "stream",
     "text": [
      "The angular diameter distance at redshift z = 1100 is:  7.571346491447451  Mpc\n"
     ]
    }
   ],
   "source": [
    "#Now I compute angular diameter distance at a given redshift\n",
    "angular_diameter_distance = results.angular_diameter_distance(z)\n",
    "print(\"The angular diameter distance at redshift z = 1100 is: \", angular_diameter_distance, \" Mpc\")"
   ]
  },
  {
   "cell_type": "code",
   "execution_count": 4,
   "metadata": {},
   "outputs": [
    {
     "name": "stdout",
     "output_type": "stream",
     "text": [
      "The particle horizon at redshift z = 1100 is:  7.580735600272019  Mpc\n"
     ]
    }
   ],
   "source": [
    "#To compute the particle horizon at a given redshift I use the formula:\n",
    "#d_H = a(t)*\\int_{0}^{t} dt'/a(t')\n",
    "#where a(t) is the scale factor and t is the time\n",
    "#I can use the formula: a(t) = 1/(1+z)\n",
    "#Then the particle horizon is:\n",
    "#d_H = \\int_{0}^{t} dt'*(1+z)\n",
    "\n",
    "#I compute the particle horizon at redshift z = 1100\n",
    "particle_horizon = 0\n",
    "for i in range(0, z):\n",
    "    particle_horizon += 1/(1+i)\n",
    "print(\"The particle horizon at redshift z = 1100 is: \", particle_horizon, \" Mpc\")\n"
   ]
  },
  {
   "cell_type": "code",
   "execution_count": 5,
   "metadata": {},
   "outputs": [
    {
     "name": "stdout",
     "output_type": "stream",
     "text": [
      "The angular size of the particle horizon at redshift z = 1100 is:  1101.0  degrees\n"
     ]
    }
   ],
   "source": [
    "#Now I can compute angular size of the particle horizon at the last scattering surface\n",
    "#The angular size of the particle horizon is given by:\n",
    "#theta = d_H/d_A\n",
    "#where d_A is the angular diameter distance at redshift z = 1100 and d_H is the particle horizon at redshift z = 1100\n",
    "\n",
    "#angular_size = particle_horizon/angular_diameter_distance\n",
    "angular_size = comoving_distance/angular_diameter_distance\n",
    "print(\"The angular size of the particle horizon at redshift z = 1100 is: \", angular_size, \" degrees\")\n"
   ]
  },
  {
   "cell_type": "code",
   "execution_count": null,
   "metadata": {},
   "outputs": [],
   "source": []
  }
 ],
 "metadata": {
  "kernelspec": {
   "display_name": "acc-env",
   "language": "python",
   "name": "python3"
  },
  "language_info": {
   "codemirror_mode": {
    "name": "ipython",
    "version": 3
   },
   "file_extension": ".py",
   "mimetype": "text/x-python",
   "name": "python",
   "nbconvert_exporter": "python",
   "pygments_lexer": "ipython3",
   "version": "3.9.19"
  }
 },
 "nbformat": 4,
 "nbformat_minor": 2
}
