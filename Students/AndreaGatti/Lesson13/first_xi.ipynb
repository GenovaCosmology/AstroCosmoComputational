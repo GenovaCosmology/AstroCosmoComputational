{
 "cells": [
  {
   "cell_type": "code",
   "execution_count": null,
   "metadata": {},
   "outputs": [],
   "source": []
  },
  {
   "cell_type": "code",
   "execution_count": null,
   "metadata": {},
   "outputs": [],
   "source": [
    "side = 500 \n",
    "data = np.random.uniform(0, side, (1000, 3))\n",
    "\n",
    "tree = cKDTree(data)\n",
    "\n",
    "plt.plot(data[:, 0], data[:, 1], 'o')\n",
    "plt.plot(data[77,0], data[77,1], 'ro')\n",
    "\n",
    "neighbours = tree.query_ball_point(data[77], 50)\n",
    "plt.plot(data[neighbours, 0], data[neighbours, 1], 'ro', alpha=0.1)"
   ]
  },
  {
   "cell_type": "code",
   "execution_count": null,
   "metadata": {},
   "outputs": [],
   "source": [
    "#conto le coppie\n",
    "r_edges = np.linspace(0, 55, 11)\n",
    "pairs = count_pairs(data, r_edges)\n",
    "\n",
    "#tqdm mi fa uscire la barra"
   ]
  },
  {
   "cell_type": "code",
   "execution_count": 1,
   "metadata": {},
   "outputs": [],
   "source": [
    "#plot\n",
    "r_bins = 0.5 * (r_edges[1:] + r_edges[:-1])\n",
    "plt.plot(r_bins, pairs)"
   ]
  },
  {
   "cell_type": "code",
   "execution_count": null,
   "metadata": {},
   "outputs": [],
   "source": []
  }
 ],
 "metadata": {
  "kernelspec": {
   "display_name": "acc-env",
   "language": "python",
   "name": "python3"
  },
  "language_info": {
   "codemirror_mode": {
    "name": "ipython",
    "version": 3
   },
   "file_extension": ".py",
   "mimetype": "text/x-python",
   "name": "python",
   "nbconvert_exporter": "python",
   "pygments_lexer": "ipython3",
   "version": "3.9.19"
  }
 },
 "nbformat": 4,
 "nbformat_minor": 2
}
