{
 "cells": [
  {
   "cell_type": "markdown",
   "metadata": {},
   "source": [
    "# Basic Probability Calculations"
   ]
  },
  {
   "cell_type": "code",
   "execution_count": 10,
   "metadata": {},
   "outputs": [
    {
     "name": "stdout",
     "output_type": "stream",
     "text": [
      "The autoreload extension is already loaded. To reload it, use:\n",
      "  %reload_ext autoreload\n"
     ]
    }
   ],
   "source": [
    "%matplotlib inline\n",
    "%config InlineBackend.figure_format = 'retina'\n",
    "%load_ext autoreload\n",
    "%autoreload 2\n",
    "# import libraries:\n",
    "import sys, os\n",
    "#sys.path.insert(0,os.path.realpath(os.path.join(os.getcwd(),'../..')))\n",
    "from getdist import plots, MCSamples\n",
    "from getdist.gaussian_mixtures import MixtureND\n",
    "#import getdist\n",
    "#getdist.chains.print_load_details = False\n",
    "import numpy as np\n",
    "import scipy\n",
    "import matplotlib.pyplot as plt"
   ]
  },
  {
   "cell_type": "code",
   "execution_count": 13,
   "metadata": {},
   "outputs": [
    {
     "data": {
      "text/plain": [
       "getdist.gaussian_mixtures.MixtureND"
      ]
     },
     "execution_count": 13,
     "metadata": {},
     "output_type": "execute_result"
    }
   ],
   "source": [
    "# define a function that would give you a 2D distribution. Do not pick a Gaussian.\n",
    "means_2D = [\n",
    "            [0., 0.],\n",
    "            [0.2, 0.5],\n",
    "            ]\n",
    "\n",
    "_s1 = 0.08\n",
    "_s2 = 0.08\n",
    "_r2 = -0.5\n",
    "\n",
    "covs_2D = [\n",
    "           # 1 mode:\n",
    "           [[0.2**2, 0.0],\n",
    "            [0.0, 0.2**2],],\n",
    "           # 2 mode:\n",
    "           [[_s1**2, _r2*_s1*_s2],\n",
    "            [_r2*_s1*_s2, _s2**2],],\n",
    "            ]\n",
    "\n",
    "weights_2D = [2., 0.5]\n",
    "\n",
    "# define a prior box:\n",
    "prior = {\n",
    "         'theta_1': [-0.5, 0.5],\n",
    "         'theta_2': [-1., 1.],\n",
    "         }\n",
    "\n",
    "num_samples_2D = 10000\n",
    "\n",
    "distribution_2D = MixtureND(means_2D, covs_2D, weights_2D,\n",
    "                            lims=list(prior.values()),\n",
    "                            names=['theta_1', 'theta_2'],\n",
    "                            labels=['\\\\theta_1', '\\\\theta_2'],\n",
    "                            label='Mixture')\n",
    "type(distribution_2D)"
   ]
  },
  {
   "cell_type": "code",
   "execution_count": 12,
   "metadata": {},
   "outputs": [],
   "source": [
    "# sample your reference probability on a 2D regular grid in the prior box\n",
    "\n",
    "# Generate regular grid points within the prior box\n",
    "theta_1_values = np.linspace(prior['theta_1'][0], prior['theta_1'][1], num_samples_2D)\n",
    "theta_2_values = np.linspace(prior['theta_2'][0], prior['theta_2'][1], num_samples_2D)\n",
    "\n",
    "# Create meshgrid from theta values\n",
    "theta_1_grid, theta_2_grid = np.meshgrid(theta_1_values, theta_2_values)\n",
    "\n",
    "#def evaluate_pdf_2D_regular_grid(samples, means, covs, weights):\n",
    "pdf_values = np.zeros(len(num_samples_2D**2))\n",
    "\n",
    "# Iterate over each mode in the mixture distribution\n",
    "for mean, cov, weight in zip(means_2D, covs_2D, weights_2D):\n",
    "    # Evaluate the PDF of the Gaussian component at each sample point\n",
    "    pdf_values += weight * multivariate_normal(mean=mean, cov=cov).pdf(samples)\n",
    "\n",
    "return pdf_values\n",
    "\n",
    "    "
   ]
  },
  {
   "cell_type": "code",
   "execution_count": null,
   "metadata": {},
   "outputs": [],
   "source": [
    "# normalize the pdf"
   ]
  },
  {
   "cell_type": "code",
   "execution_count": null,
   "metadata": {},
   "outputs": [],
   "source": [
    "# contour plot the distribution (on generic iso-contours, the default ones work)"
   ]
  },
  {
   "cell_type": "code",
   "execution_count": null,
   "metadata": {},
   "outputs": [],
   "source": [
    "# marginalize the distribution and get two 1D distributions. Plot them. (INTEGRALI TRAPEZOIDE)"
   ]
  },
  {
   "cell_type": "code",
   "execution_count": null,
   "metadata": {},
   "outputs": [],
   "source": [
    "# check that marginalization does not alter the normalization of the pdf."
   ]
  },
  {
   "cell_type": "code",
   "execution_count": null,
   "metadata": {},
   "outputs": [],
   "source": [
    "# calculate the cumulative distribution function of the 1D distribution. Plot it."
   ]
  },
  {
   "cell_type": "code",
   "execution_count": null,
   "metadata": {},
   "outputs": [],
   "source": [
    "# calculate the mean, median and mode. Add them to the plot."
   ]
  },
  {
   "cell_type": "code",
   "execution_count": null,
   "metadata": {},
   "outputs": [],
   "source": [
    "# calculate the variance of the 1D distribution. Add to the plot the Gaussian approximation of your distribution."
   ]
  },
  {
   "cell_type": "code",
   "execution_count": null,
   "metadata": {},
   "outputs": [],
   "source": [
    "# calculate and plot the 68% HPD region for the 1D distribution. Plot it."
   ]
  },
  {
   "cell_type": "code",
   "execution_count": null,
   "metadata": {},
   "outputs": [],
   "source": [
    "# make a 2D contour plot of the 2D 68% HPD region. How does it relate to the 1D region?"
   ]
  }
 ],
 "metadata": {
  "kernelspec": {
   "display_name": "acc-env",
   "language": "python",
   "name": "python3"
  },
  "language_info": {
   "codemirror_mode": {
    "name": "ipython",
    "version": 3
   },
   "file_extension": ".py",
   "mimetype": "text/x-python",
   "name": "python",
   "nbconvert_exporter": "python",
   "pygments_lexer": "ipython3",
   "version": "3.9.18"
  }
 },
 "nbformat": 4,
 "nbformat_minor": 2
}
