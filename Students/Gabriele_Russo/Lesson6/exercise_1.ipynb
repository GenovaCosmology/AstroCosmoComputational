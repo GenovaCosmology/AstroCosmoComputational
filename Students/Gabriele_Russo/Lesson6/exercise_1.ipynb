{
 "cells": [
  {
   "cell_type": "code",
   "execution_count": null,
   "metadata": {},
   "outputs": [],
   "source": [
    "# define a function that would give you a 2D distribution. Do not pick a Gaussian.\n",
    "\n",
    "# define a prior box:"
   ]
  }
 ],
 "metadata": {
  "language_info": {
   "name": "python"
  }
 },
 "nbformat": 4,
 "nbformat_minor": 2
}
