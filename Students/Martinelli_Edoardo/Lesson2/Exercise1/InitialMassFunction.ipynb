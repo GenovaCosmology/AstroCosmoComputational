{
 "cells": [
  {
   "cell_type": "code",
   "execution_count": 5,
   "metadata": {},
   "outputs": [],
   "source": [
    "import sys\n",
    "sys.path.append(\"/home/edo/Software/TESI/AstroCosmoComputational/Students/Martinelli_Edoardo/\")\n",
    "\n",
    "import numpy as np\n",
    "import matplotlib.pyplot as plt\n",
    "plt.rcParams.update({\n",
    "    \"text.usetex\": False,\n",
    "    \"font.family\": \"serif\",})\n",
    "\n",
    "# Import pyACC logger\n",
    "from pyACC.helpers import Logger\n",
    "\n",
    "# Set the logger\n",
    "print = Logger(\"IMF computation\")\n",
    "\n",
    "# Import your integration methods\n",
    "from pyACC.Calculus import integrate_f"
   ]
  },
  {
   "cell_type": "markdown",
   "metadata": {},
   "source": [
    "# Initial Mass function\n",
    "\n",
    "In this exercise we will play with the Initial Mass function (IMF).\n",
    "\n",
    "The IMF is a key concept in stellar populations. It the defines how star mass is distributed \n",
    "in a single formation event of a stellar population (SSP). \n",
    "\n",
    "This quantity is at the core of many astrophysical studies, from star clusters (open/globular)\n",
    "to galaxies, and it's fundamental to explain observational properties of the object in study.\n",
    "\n",
    "You will find different assumptions for this distribution in literature. \n",
    "The more traditional is a power-law (Salpeter 1955):\n",
    "\n",
    "$$ \\xi(M) = \\xi_0 M^{-\\alpha}; $$\n",
    "\n",
    "where M is the mass in solar masses unit, $\\xi_0$ is a normalisation \n",
    "constant and $\\alpha$ is power-law exponent A common assumption is $\\alpha=2.35$.\n",
    "Other, more recent definitions for the IMF are Kroupa (2002) (double power-law) and Chabrier (2003)\n",
    "\n",
    "Starting from the IMF, we will compute some key quantities of the stellar population."
   ]
  },
  {
   "cell_type": "code",
   "execution_count": 6,
   "metadata": {},
   "outputs": [],
   "source": [
    "# Let's define the python function for the IMF\n",
    "def get_IMF(M, alpha, xi_0):\n",
    "    \"\"\"\n",
    "    Generic function for the IMF\n",
    "\n",
    "    Parameters\n",
    "    ----------\n",
    "\n",
    "    M : float\n",
    "        Mass of the star\n",
    "    alpha : float\n",
    "        Power of the IMF\n",
    "    xi_0 : float    \n",
    "        Normalization factor\n",
    "    \n",
    "    Returns\n",
    "    -------\n",
    "    IMF : float\n",
    "        The value of the IMF at mass M\n",
    "    \"\"\"\n",
    "\n",
    "    # Implement the Salpeter IMF\n",
    "    return xi_0 * M**(-alpha)"
   ]
  },
  {
   "cell_type": "code",
   "execution_count": 7,
   "metadata": {},
   "outputs": [
    {
     "name": "stdout",
     "output_type": "stream",
     "text": [
      "---\n",
      "-->  2024-03-06 11:25:28.805487\n",
      "---\n",
      "I'm integrating over a function, I used the quad method from scipy.\n",
      "2024-03-06 11:25:28.805899 :: \u001b[32mIMF computation \u001b[0m :: Normalization is: xi_0= 0.0001043665095820665\n"
     ]
    },
    {
     "data": {
      "text/plain": [
       "Text(0, 0.5, '$\\\\xi(M)$')"
      ]
     },
     "execution_count": 7,
     "metadata": {},
     "output_type": "execute_result"
    },
    {
     "data": {
      "image/png": "[encoded data removed]",
      "text/plain": [
       "<Figure size 640x480 with 1 Axes>"
      ]
     },
     "metadata": {},
     "output_type": "display_data"
    }
   ],
   "source": [
    "# Minimum and maximum mass size in solar masses unit\n",
    "mass_min = 1e-2\n",
    "mass_max = 1e2\n",
    "\n",
    "# Power of the IMF\n",
    "alpha = 2.35\n",
    "\n",
    "# Create the mass vector\n",
    "mass = np.logspace(np.log10(mass_min), np.log10(mass_max), 100)\n",
    "\n",
    "\n",
    "# Normalisation of the IMF\n",
    "\n",
    "\n",
    "#  ? IS THIS A RIGHT METHOD TO NORMALIZE THE IMF ?\n",
    "norm_func = lambda M: get_IMF(M, alpha, 1)\n",
    "xi_0 = 1/(integrate_f(norm_func, 9*1e-4,1e3)[0])\n",
    "\n",
    "'''\n",
    "mass_norm =np.logspace(np.log10(1e-2), np.log10(1e2), 10000)\n",
    "xi_0 = 1/(integrate_f(get_IMF(mass_norm, alpha, 1)))\n",
    "'''\n",
    "\n",
    "print(\"Normalization is: xi_0=\",xi_0)\n",
    "\n",
    "\n",
    "\n",
    "\n",
    "# Plot in log scale\n",
    "plt.loglog(mass, get_IMF(mass, alpha, xi_0), lw=3, color=\"k\", ls=\"--\")\n",
    "plt.xlabel(r\"$M  [M_{\\odot}]$\")\n",
    "plt.ylabel(r\"$\\xi(M)$\")\n",
    "\n",
    "\n"
   ]
  },
  {
   "cell_type": "markdown",
   "metadata": {},
   "source": [
    "## Total number of stars\n",
    "\n",
    "You can obtain the total number of stars by integrating the IMF over the mass range. The total number of stars is given by\n",
    "\n",
    "$$ N = \\int_{M_{\\text{min}}}^{M_{\\text{max}}} \\xi(M) dM. $$\n",
    "\n",
    "Try to perform this integration."
   ]
  },
  {
   "cell_type": "code",
   "execution_count": 8,
   "metadata": {},
   "outputs": [
    {
     "name": "stdout",
     "output_type": "stream",
     "text": [
      "---\n",
      "-->  2024-03-06 11:25:29.249388\n",
      "---\n",
      "I'm integrating over a sample, I used the trapezoid method from scipy.\n",
      "2024-03-06 11:25:29.249612 :: \u001b[32mIMF computation \u001b[0m :: The total number of stars is 24\n"
     ]
    }
   ],
   "source": [
    "# Get the total number of stars\n",
    "\n",
    "# Create the integration object\n",
    "# Call your integration method to obtain the number of stars\n",
    "N = integrate_f(get_IMF(mass,alpha,xi_0), mass_min, mass_max)\n",
    "# Print the result\n",
    "print(f\"The total number of stars is {N:.0f}\")"
   ]
  },
  {
   "cell_type": "markdown",
   "metadata": {},
   "source": [
    "## Average star mass\n",
    "\n",
    "The average star mass can be compute quit strightforwardly:\n",
    "\n",
    "$$ \\hat{M} = \\frac{\\int_{M_{\\text{min}}}^{M_{\\text{max}}} M\\xi(M) dM}{\\int_{M_{\\text{min}}}^{M_{\\text{max}}} \\xi(M) dM.}$$\n",
    "\n",
    "After obtaining this number, what can we conclude?"
   ]
  },
  {
   "cell_type": "code",
   "execution_count": 9,
   "metadata": {},
   "outputs": [
    {
     "name": "stdout",
     "output_type": "stream",
     "text": [
      "---\n",
      "-->  2024-03-06 11:25:29.274626\n",
      "---\n",
      "I'm integrating over a sample, I used the trapezoid method from scipy.\n",
      "---\n",
      "-->  2024-03-06 11:25:29.274903\n",
      "---\n",
      "I'm integrating over a sample, I used the trapezoid method from scipy.\n",
      "2024-03-06 11:25:29.275168 :: \u001b[32mIMF computation \u001b[0m :: The average star mass is: 1.74e-02 solar masses\n"
     ]
    }
   ],
   "source": [
    "# Compute the average star mass\n",
    "\n",
    "M_hat = integrate_f(mass*get_IMF(mass,alpha,xi_0), mass_min, mass_max)/integrate_f(get_IMF(mass,alpha,xi_0), mass_min, mass_max)\n",
    "\n",
    "print(f\"The average star mass is: {M_hat:.2e} solar masses\")"
   ]
  },
  {
   "cell_type": "code",
   "execution_count": 10,
   "metadata": {},
   "outputs": [],
   "source": [
    "def get_star_luminosity(M):\n",
    "    \"\"\"\n",
    "    Get the star luminosity using the mass-luminosity\n",
    "    relation\n",
    "\n",
    "    Parameters\n",
    "    ----------\n",
    "    M : float\n",
    "        Mass of the star\n",
    "    \n",
    "    Returns\n",
    "    -------\n",
    "    L : float\n",
    "        Luminosity of the star\n",
    "    \"\"\"\n",
    "    if M < 0.43:\n",
    "        L = 0.23 * M**2.3\n",
    "    elif 0.43 < M < 2:\n",
    "        L = M**4\n",
    "    elif 2 < M < 20:\n",
    "        L = 1.5 * M**3.5\n",
    "    elif M > 20:\n",
    "        L = 3200 * M\n",
    "    \n",
    "    return L"
   ]
  },
  {
   "cell_type": "code",
   "execution_count": 11,
   "metadata": {},
   "outputs": [
    {
     "name": "stdout",
     "output_type": "stream",
     "text": [
      "---\n",
      "-->  2024-03-06 11:25:29.325401\n",
      "---\n",
      "I'm integrating over a sample, I used the trapezoid method from scipy.\n",
      "---\n",
      "-->  2024-03-06 11:25:29.325584\n",
      "---\n",
      "I'm integrating over a sample, I used the trapezoid method from scipy.\n",
      "2024-03-06 11:25:29.325733 :: \u001b[32mIMF computation \u001b[0m :: The average star luminosity is: 3.63e-03 solar luminosity\n"
     ]
    }
   ],
   "source": [
    "# Compute average luminosity\n",
    "\n",
    "#Lfunc=lambda M: get_star_luminosity(M)*get_IMF(M,alpha,xi_0)\n",
    "L = np.zeros(mass.size)\n",
    "for i,mi in enumerate (mass):\n",
    "    L[i]=get_star_luminosity(mi)\n",
    "\n",
    "L_hat = integrate_f(L*get_IMF(mass,alpha,xi_0), mass_min, mass_max)/integrate_f(get_IMF(mass,alpha,xi_0), mass_min, mass_max)\n",
    "\n",
    "print(f\"The average star luminosity is: {L_hat:.2e} solar luminosity\")"
   ]
  },
  {
   "cell_type": "code",
   "execution_count": 12,
   "metadata": {},
   "outputs": [
    {
     "data": {
      "text/plain": [
       "Text(0, 0.5, '$L(M) [L_{\\\\odot}]$')"
      ]
     },
     "execution_count": 12,
     "metadata": {},
     "output_type": "execute_result"
    },
    {
     "data": {
      "image/png": "[encoded data removed]",
      "text/plain": [
       "<Figure size 640x480 with 1 Axes>"
      ]
     },
     "metadata": {},
     "output_type": "display_data"
    }
   ],
   "source": [
    "# Plot luminosity\n",
    "\n",
    "plt.plot(np.log10(mass), np.log10([get_star_luminosity(m) for m in mass]), lw=3, color=\"k\", ls=\"--\")\n",
    "plt.axhline(np.log10(L_hat), color=\"r\", lw=3, ls=\"--\", label=\"Average luminosity\")\n",
    "plt.xlabel(r\"$M  [M_{\\odot}]$\")\n",
    "plt.ylabel(r\"$L(M) [L_{\\odot}]$\")\n"
   ]
  }
 ],
 "metadata": {
  "kernelspec": {
   "display_name": "acc-env",
   "language": "python",
   "name": "python3"
  },
  "language_info": {
   "codemirror_mode": {
    "name": "ipython",
    "version": 3
   },
   "file_extension": ".py",
   "mimetype": "text/x-python",
   "name": "python",
   "nbconvert_exporter": "python",
   "pygments_lexer": "ipython3",
   "version": "3.9.18"
  }
 },
 "nbformat": 4,
 "nbformat_minor": 2
}
