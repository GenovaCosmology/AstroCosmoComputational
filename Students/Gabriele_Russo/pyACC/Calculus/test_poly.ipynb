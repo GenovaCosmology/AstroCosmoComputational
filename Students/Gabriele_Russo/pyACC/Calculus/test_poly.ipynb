{
 "cells": [
  {
   "cell_type": "code",
   "execution_count": 12,
   "metadata": {},
   "outputs": [],
   "source": [
    "##Only for test programm\n",
    "import sys\n",
    "sys.path.append(\"../\")\n",
    "from Polyfunctions import *\n",
    "import numpy as np\n",
    "import matplotlib.pyplot as plt\n",
    "plt.rcParams.update({\n",
    "    \"text.usetex\": False,\n",
    "    \"font.family\": \"serif\",})\n"
   ]
  },
  {
   "cell_type": "code",
   "execution_count": 14,
   "metadata": {},
   "outputs": [
    {
     "ename": "TypeError",
     "evalue": "__init__() missing 1 required positional argument: 'function'",
     "output_type": "error",
     "traceback": [
      "\u001b[0;31m---------------------------------------------------------------------------\u001b[0m",
      "\u001b[0;31mTypeError\u001b[0m                                 Traceback (most recent call last)",
      "Cell \u001b[0;32mIn[14], line 6\u001b[0m\n\u001b[1;32m      3\u001b[0m     \u001b[38;5;28;01mreturn\u001b[39;00m x\u001b[38;5;241m*\u001b[39mx\n\u001b[1;32m      5\u001b[0m fun  \u001b[38;5;241m=\u001b[39m Polyfunctions(prova)\n\u001b[0;32m----> 6\u001b[0m fun2 \u001b[38;5;241m=\u001b[39m \u001b[43mPolyfunctions\u001b[49m\u001b[43m(\u001b[49m\u001b[43m)\u001b[49m\n\u001b[1;32m      8\u001b[0m x_list     \u001b[38;5;241m=\u001b[39m np\u001b[38;5;241m.\u001b[39marange(\u001b[38;5;241m0\u001b[39m, \u001b[38;5;241m100\u001b[39m, \u001b[38;5;241m2\u001b[39m)\n\u001b[1;32m      9\u001b[0m x_list_new \u001b[38;5;241m=\u001b[39m np\u001b[38;5;241m.\u001b[39marange(\u001b[38;5;241m0\u001b[39m, \u001b[38;5;241m99\u001b[39m, \u001b[38;5;241m1\u001b[39m)\n",
      "\u001b[0;31mTypeError\u001b[0m: __init__() missing 1 required positional argument: 'function'"
     ]
    }
   ],
   "source": [
    "##TEST\n",
    "def prova(x):\n",
    "    return x*x\n",
    "    \n",
    "fun  = Polyfunctions(prova)\n",
    "fun2 = Polyfunctions()\n",
    "\n",
    "x_list     = np.arange(0, 100, 2)\n",
    "x_list_new = np.arange(0, 99, 1)\n",
    "y_list     = np.arange(0, 100, 2)\n",
    "\n",
    "result  = fun.evaluate(5)\n",
    "result2 = fun.integrate_function_trapezoid(0,1,0.1) \n",
    "result5 = fun.integrate_function_simpson_rule(0,1,100)\n",
    "result3 = fun.forward_difference_derivative(1,0.1)\n",
    "result4 = fun.central_difference_derivative(1,0.1)\n",
    "result6 = fun.central_difference_2_derivative(1,0.1)\n",
    "result7 = fun2.my_interpol1d(x_list, y_list)\n",
    "y_list_new = result7(x_list_new) \n",
    "print(result)\n",
    "print(result2)\n",
    "print(result5)\n",
    "print(result3)\n",
    "print(result4)\n",
    "print(result6)\n",
    "\n",
    "plt.plot(x_list, y_list, 'o', x_list_new, y_list_new, '-')\n",
    "plt.xlabel('Valori di x')\n",
    "plt.ylabel('Valori di y')\n",
    "plt.title('Result7 Plotting')\n",
    "plt.show()"
   ]
  }
 ],
 "metadata": {
  "kernelspec": {
   "display_name": "acc-env",
   "language": "python",
   "name": "python3"
  },
  "language_info": {
   "codemirror_mode": {
    "name": "ipython",
    "version": 3
   },
   "file_extension": ".py",
   "mimetype": "text/x-python",
   "name": "python",
   "nbconvert_exporter": "python",
   "pygments_lexer": "ipython3",
   "version": "3.9.18"
  }
 },
 "nbformat": 4,
 "nbformat_minor": 2
}
