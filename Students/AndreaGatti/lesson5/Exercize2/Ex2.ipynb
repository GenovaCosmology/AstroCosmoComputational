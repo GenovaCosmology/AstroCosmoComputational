{
 "cells": [
  {
   "cell_type": "code",
   "execution_count": 10,
   "metadata": {},
   "outputs": [],
   "source": [
    "import sys\n",
    "sys.path.append(\"../../\")\n",
    "\n",
    "from sympy import symbols, diff, integrate, log\n",
    "import math as m\n",
    "#from pyACC.Cosmology.distances import Dc\n",
    "from pyACC.Calculus import trapezi\n",
    "from pyACC.Calculus.Function import MyFunction\n",
    "\n",
    "\n",
    "#I define the hubble function\n",
    "def H(z,omega_mat,w,H0):\n",
    "    return H0*m.sqrt(omega_mat*(1+z)**3 + (1 - omega_mat)*(1+z)**(3*(1+w)))\n",
    "\n",
    "#function of comoving distance:\n",
    "z, H0,omega_mat,omega_rad,w = symbols('z H0 omega_mat omega_rad w')\n",
    "c = 3*10**5\n",
    "#now i can do the real exercize:\n",
    "func_Hubble = H0*(omega_mat*(1+z)**3 + omega_rad*(1+z)**4 + (1 - omega_mat - omega_rad)*(1+z)**(3*(1+w)))**0.5\n",
    "#print(func_Hubble)\n",
    "com_dist = integrate(c/func_Hubble,z)\n",
    "mu = 5*log(10**5 * (1+z)*com_dist) #distance_modulus\n",
    "dmu_dH0 = diff(mu,H0)\n",
    "dmu_domega_mat = diff(mu,omega_mat)\n",
    "dmu_dw = diff(mu,w)\n",
    "\n",
    "\n",
    "#slide\n",
    "#envirnoment\n",
    "#altri es\n",
    "#per fare i comandi devo prima fare push e devo essere in AndreaGatti\n",
    "#per l'environment devo essere su AstroCosmoComputational\n"
   ]
  }
 ],
 "metadata": {
  "kernelspec": {
   "display_name": "acc-env",
   "language": "python",
   "name": "python3"
  },
  "language_info": {
   "codemirror_mode": {
    "name": "ipython",
    "version": 3
   },
   "file_extension": ".py",
   "mimetype": "text/x-python",
   "name": "python",
   "nbconvert_exporter": "python",
   "pygments_lexer": "ipython3",
   "version": "3.9.18"
  }
 },
 "nbformat": 4,
 "nbformat_minor": 2
}
