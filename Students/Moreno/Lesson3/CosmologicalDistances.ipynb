{
 "cells": [
  {
   "cell_type": "code",
   "execution_count": 1,
   "metadata": {},
   "outputs": [],
   "source": [
    "import sys\n",
    "sys.path.append(\"/home/git/AstroCosmoComputational/Students/Moreno\")\n",
    "\n",
    "import numpy as np\n",
    "import matplotlib.pyplot as plt\n",
    "plt.rcParams.update({\n",
    "    \"text.usetex\": True,\n",
    "    \"font.family\": \"serif\",})\n",
    "\n",
    "# Import pyACC logger\n",
    "from pyACC.helpers import Logger\n",
    "\n",
    "# Set the logger\n",
    "print = Logger(\"pyACC.CosmologicalDistances\")\n",
    "\n",
    "# Import integration class\n",
    "from pyACC.Calculus.integrate import trapezoid\n",
    "from pyACC.Cosmology.distances import Dc\n",
    "\n",
    "# Import pandas\n",
    "# import pandas as pd"
   ]
  },
  {
   "cell_type": "markdown",
   "metadata": {},
   "source": [
    "# Compute cosmological distances\n",
    "\n",
    "In this exercise you will keep practicing integration in a cosmological context.\n",
    "In particular you will compute cosmological distances.\n",
    "\n",
    "The basis to compute distances is the Hubble function $H(z)$, which describes the evolution of the backgroud.\n",
    "\n",
    "for flat $\\Lambda$ CDM cosmology it reads:\n",
    "\n",
    "$$ D_c(z) = \\int_0^z \\frac{\\mathrm{d} z' c}{H(z')} $$\n",
    "\n",
    "Implement this function, or try your favourite cosmological model!"
   ]
  },
  {
   "cell_type": "code",
   "execution_count": 2,
   "metadata": {},
   "outputs": [],
   "source": [
    "# Implement your favourite Hubble function\n",
    "def H(z, Omega_mat, H0):\n",
    "    \n",
    "    return H0*(Omega_mat*(1+z)**3+1-Omega_mat)**0.5"
   ]
  },
  {
   "cell_type": "code",
   "execution_count": 13,
   "metadata": {},
   "outputs": [],
   "source": [
    "# Now use the function you've implemented to compute cosmological distances\n",
    "# Use the class you've implemented\n",
    "z=1\n",
    "delta_z=0.0001\n",
    "Omega_mat=0.3\n",
    "H0=72\n",
    "get_distances = Dc(H, z, Omega_mat, H0, delta_z)"
   ]
  },
  {
   "cell_type": "code",
   "execution_count": 14,
   "metadata": {},
   "outputs": [
    {
     "name": "stdout",
     "output_type": "stream",
     "text": [
      "2024-03-12 16:35:50.401147 :: \u001b[32mpyACC.CosmologicalDistances \u001b[0m :: 3214.042786231598 Mpc\n"
     ]
    }
   ],
   "source": [
    "# Comoving distance at z=1\n",
    "print(get_distances, \"Mpc\")"
   ]
  },
  {
   "cell_type": "code",
   "execution_count": null,
   "metadata": {},
   "outputs": [],
   "source": [
    "# array of redshifts\n",
    "z_list = np.linspace(0.0001, 2.5, 100)\n",
    "\n",
    "# Calculate the comoving distance at each redshift in z_list\n",
    "comoving_distance = ...\n",
    "\n",
    "# Calculate the angular diameter distance at each redshift in z_list\n",
    "angular_diameter_distance = ...\n",
    "\n",
    "# Calculate the luminosity distance at each redshift in z_list\n",
    "luminosity_distance = ...\n",
    "\n",
    "# Calculate the distance modulus at each redshift in z_list\n",
    "distance_modulus = ..."
   ]
  },
  {
   "cell_type": "code",
   "execution_count": null,
   "metadata": {},
   "outputs": [],
   "source": [
    "plt.plot(z_list, comoving_distance, lw=3, color=\"k\", label=\"Comoving distance\")\n",
    "\n",
    "plt.legend()\n",
    "plt.xlabel(\"Redshift\")\n",
    "plt.ylabel(\"Distance [Mpc]\");"
   ]
  },
  {
   "cell_type": "code",
   "execution_count": null,
   "metadata": {},
   "outputs": [],
   "source": [
    "plt.plot(z_list, distance_modulus, lw=3, color=\"k\", label=\"Distance modulus\")\n",
    "plt.legend()\n",
    "plt.xlabel(\"Redshift\")\n",
    "plt.ylabel(\"$\\mu$ [mag]\");"
   ]
  },
  {
   "cell_type": "markdown",
   "metadata": {},
   "source": [
    "## Compare against experimental data\n",
    "\n",
    "\n",
    "Let's plot the SNIa distance moduli from Pantheon+ analysis against your favourite cosmological model.\n",
    "\n",
    "Check out the [paper](https://arxiv.org/abs/2112.03863). \n",
    "Data are stored [here](https://github.com/PantheonPlusSH0ES/PantheonPlusSH0ES.github.io).\n",
    "Try to understand which table you should use for the plot."
   ]
  },
  {
   "cell_type": "code",
   "execution_count": null,
   "metadata": {},
   "outputs": [],
   "source": [
    "# Read the data from Pantheon+ set. \n",
    "# Suggestion #1: pandas\n",
    "# Suggestion #2: read the documentation to understand which column you should pick"
   ]
  },
  {
   "cell_type": "code",
   "execution_count": null,
   "metadata": {},
   "outputs": [],
   "source": [
    "plt.plot(z_list, distance_modulus, lw=2, color=\"k\", label=\"LCDM - Distance modulus\", zorder=1000)\n",
    "plt.errorbar(.., ..., ..., fmt=\"o\", color=\"0.5\", alpha=0.5, label=\"Pantheon+\")\n",
    "\n",
    "plt.grid(True, color=\"0.9\", ls=\"--\")\n",
    "plt.legend(loc=\"lower right\")\n",
    "plt.xlabel(\"Redshift\")\n",
    "plt.ylabel(\"$\\mu$ [mag]\")"
   ]
  }
 ],
 "metadata": {
  "kernelspec": {
   "display_name": "acc-env",
   "language": "python",
   "name": "python3"
  },
  "language_info": {
   "codemirror_mode": {
    "name": "ipython",
    "version": 3
   },
   "file_extension": ".py",
   "mimetype": "text/x-python",
   "name": "python",
   "nbconvert_exporter": "python",
   "pygments_lexer": "ipython3",
   "version": "3.9.18"
  }
 },
 "nbformat": 4,
 "nbformat_minor": 2
}
