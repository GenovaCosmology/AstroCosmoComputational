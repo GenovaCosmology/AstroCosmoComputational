{
 "cells": [
  {
   "cell_type": "code",
   "execution_count": 1,
   "id": "55d7da24-2dd3-4450-8625-290d51bfebcc",
   "metadata": {},
   "outputs": [],
   "source": [
    "import matplotlib.pyplot as plt\n",
    "import numpy as np\n",
    "import sys\n",
    "sys.path.append(\"../\")\n",
    "from pyACC.calculus import *\n",
    "from pyACC.cosmology import *"
   ]
  },
  {
   "cell_type": "code",
   "execution_count": 2,
   "id": "88807648-ddac-44c8-b8f0-29a046be9698",
   "metadata": {},
   "outputs": [],
   "source": [
    "\n",
    "def myfunc(x):\n",
    "    return x**2\n"
   ]
  },
  {
   "cell_type": "code",
   "execution_count": 3,
   "id": "3b735aad-6737-4924-a5f4-cce669030cf3",
   "metadata": {},
   "outputs": [],
   "source": [
    "func = Operations(myfunc)"
   ]
  },
  {
   "cell_type": "code",
   "execution_count": 4,
   "id": "7faf5b20-4bdd-4bbf-bf68-cc044411a1c4",
   "metadata": {},
   "outputs": [],
   "source": [
    "x0 = 2\n",
    "x_min = 0\n",
    "x_max = 5"
   ]
  },
  {
   "cell_type": "code",
   "execution_count": 5,
   "id": "eaea107d-d54e-46a6-a02b-3d49cf9ce375",
   "metadata": {},
   "outputs": [
    {
     "name": "stdout",
     "output_type": "stream",
     "text": [
      "4\n"
     ]
    }
   ],
   "source": [
    "print(func.point(x0))"
   ]
  },
  {
   "cell_type": "code",
   "execution_count": 6,
   "id": "c2fe58a6-0814-4039-a721-2734c670648c",
   "metadata": {},
   "outputs": [
    {
     "ename": "TypeError",
     "evalue": "integration() takes 2 positional arguments but 3 were given",
     "output_type": "error",
     "traceback": [
      "\u001b[0;31m---------------------------------------------------------------------------\u001b[0m",
      "\u001b[0;31mTypeError\u001b[0m                                 Traceback (most recent call last)",
      "Cell \u001b[0;32mIn[6], line 1\u001b[0m\n\u001b[0;32m----> 1\u001b[0m \u001b[38;5;28mprint\u001b[39m(\u001b[43mfunc\u001b[49m\u001b[38;5;241;43m.\u001b[39;49m\u001b[43mintegration\u001b[49m\u001b[43m(\u001b[49m\u001b[43mx_min\u001b[49m\u001b[43m,\u001b[49m\u001b[43mx_max\u001b[49m\u001b[43m)\u001b[49m)\n",
      "\u001b[0;31mTypeError\u001b[0m: integration() takes 2 positional arguments but 3 were given"
     ]
    }
   ],
   "source": [
    "print(func.integration(x_min,x_max))"
   ]
  },
  {
   "cell_type": "code",
   "execution_count": null,
   "id": "3f843384-292b-4059-8b4e-c38b298e216d",
   "metadata": {},
   "outputs": [],
   "source": []
  },
  {
   "cell_type": "code",
   "execution_count": null,
   "id": "cc0c9071-1bb3-4b0d-8037-9fe7bcc0070b",
   "metadata": {},
   "outputs": [],
   "source": []
  },
  {
   "cell_type": "code",
   "execution_count": 7,
   "id": "508fec0a-2ea6-4964-b7c5-517d1c3b1cf4",
   "metadata": {},
   "outputs": [],
   "source": []
  },
  {
   "cell_type": "code",
   "execution_count": 6,
   "id": "0691bf43-0d0f-4560-8dc2-0bdb1dda4c2f",
   "metadata": {},
   "outputs": [],
   "source": [
    "def myfunc_2(x,y):\n",
    "    return x**2*y**3\n",
    "\n",
    "x, y = symbols('x y')\n",
    "func= Operations(myfunc_2)\n",
    "#func_y = Operations(myfunc,y,x)"
   ]
  },
  {
   "cell_type": "code",
   "execution_count": null,
   "id": "e4a9ca50-0594-41df-b62a-05b3c49cb498",
   "metadata": {},
   "outputs": [],
   "source": []
  },
  {
   "cell_type": "code",
   "execution_count": 7,
   "id": "d7ebc2d5-701b-492b-a612-ff7d94cc306b",
   "metadata": {},
   "outputs": [],
   "source": [
    "x0 = 2\n",
    "x_min = 0\n",
    "x_max = 5\n",
    "y0 = 3\n",
    "y_min = 0 \n",
    "y_max = 5\n"
   ]
  },
  {
   "cell_type": "code",
   "execution_count": 8,
   "id": "38a58afc-9156-4470-b05b-6d3a584ff600",
   "metadata": {},
   "outputs": [
    {
     "name": "stdout",
     "output_type": "stream",
     "text": [
      "108\n"
     ]
    }
   ],
   "source": [
    "print(func.point(x0,y0))"
   ]
  },
  {
   "cell_type": "code",
   "execution_count": 9,
   "id": "e1e2ec62-a4fd-4f2e-8970-745f90390416",
   "metadata": {},
   "outputs": [
    {
     "name": "stdout",
     "output_type": "stream",
     "text": [
      "<function Operations.__init__.<locals>.myfunc.<locals>.<lambda> at 0x7faecdd07f70>\n"
     ]
    }
   ],
   "source": [
    "tempx = func.point(x0,y0)\n",
    "#tempy = func_y.point(y0)\n",
    "print(tempx)"
   ]
  },
  {
   "cell_type": "code",
   "execution_count": 7,
   "id": "ac136929-b9d6-42ce-a960-aec5a2b95120",
   "metadata": {},
   "outputs": [],
   "source": [
    "def temp(y):\n",
    "    return func_x.point(x0)"
   ]
  },
  {
   "cell_type": "code",
   "execution_count": 8,
   "id": "c7f53033-5563-491a-901f-56619497edfd",
   "metadata": {},
   "outputs": [
    {
     "name": "stdout",
     "output_type": "stream",
     "text": [
      "<function Operations.__init__.<locals>.myfunc.<locals>.<lambda> at 0x7f8404faf430>\n"
     ]
    }
   ],
   "source": [
    "func_y = Operations(myfunc,y)\n",
    "tempy = func_y.point(y0)\n",
    "print(tempy)"
   ]
  },
  {
   "cell_type": "code",
   "execution_count": null,
   "id": "d75eacff-f5d2-441c-b110-1ae2677fff30",
   "metadata": {},
   "outputs": [],
   "source": []
  },
  {
   "cell_type": "code",
   "execution_count": null,
   "id": "6c749503-e593-4ab9-bab0-f47267aeabf3",
   "metadata": {},
   "outputs": [],
   "source": []
  },
  {
   "cell_type": "code",
   "execution_count": null,
   "id": "5e3706a3-00ca-4fbd-8d1f-0ca09fba8b4e",
   "metadata": {},
   "outputs": [],
   "source": []
  }
 ],
 "metadata": {
  "kernelspec": {
   "display_name": "Python 3 (ipykernel)",
   "language": "python",
   "name": "python3"
  },
  "language_info": {
   "codemirror_mode": {
    "name": "ipython",
    "version": 3
   },
   "file_extension": ".py",
   "mimetype": "text/x-python",
   "name": "python",
   "nbconvert_exporter": "python",
   "pygments_lexer": "ipython3",
   "version": "3.8.10"
  }
 },
 "nbformat": 4,
 "nbformat_minor": 5
}
