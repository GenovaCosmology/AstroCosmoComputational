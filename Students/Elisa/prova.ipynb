{
 "cells": [
  {
   "cell_type": "code",
   "execution_count": 1,
   "id": "55d7da24-2dd3-4450-8625-290d51bfebcc",
   "metadata": {},
   "outputs": [],
   "source": [
    "import matplotlib.pyplot as plt\n",
    "import numpy as np\n",
    "import sys\n",
    "#sys.path.append(\"../\")\n",
    "from pyACC.calculus import *\n",
    "from pyACC.cosmology import *"
   ]
  },
  {
   "cell_type": "code",
   "execution_count": 2,
   "id": "88807648-ddac-44c8-b8f0-29a046be9698",
   "metadata": {},
   "outputs": [],
   "source": [
    "\n",
    "def myfunc(x):\n",
    "    return x**2\n"
   ]
  },
  {
   "cell_type": "code",
   "execution_count": 3,
   "id": "3b735aad-6737-4924-a5f4-cce669030cf3",
   "metadata": {},
   "outputs": [],
   "source": [
    "func = Function(myfunc)"
   ]
  },
  {
   "cell_type": "code",
   "execution_count": 4,
   "id": "7faf5b20-4bdd-4bbf-bf68-cc044411a1c4",
   "metadata": {},
   "outputs": [],
   "source": [
    "x0 = 2\n",
    "x_min = 0\n",
    "x_max = 5"
   ]
  },
  {
   "cell_type": "code",
   "execution_count": 5,
   "id": "eaea107d-d54e-46a6-a02b-3d49cf9ce375",
   "metadata": {},
   "outputs": [
    {
     "name": "stdout",
     "output_type": "stream",
     "text": [
      "4\n"
     ]
    }
   ],
   "source": [
    "print(func.f(x0))"
   ]
  },
  {
   "cell_type": "code",
   "execution_count": 6,
   "id": "c2fe58a6-0814-4039-a721-2734c670648c",
   "metadata": {},
   "outputs": [
    {
     "name": "stdout",
     "output_type": "stream",
     "text": [
      "41.66666666666666\n"
     ]
    }
   ],
   "source": [
    "print(func.integration(x_min,x_max))"
   ]
  },
  {
   "cell_type": "code",
   "execution_count": null,
   "id": "3f843384-292b-4059-8b4e-c38b298e216d",
   "metadata": {},
   "outputs": [],
   "source": []
  },
  {
   "cell_type": "code",
   "execution_count": null,
   "id": "cc0c9071-1bb3-4b0d-8037-9fe7bcc0070b",
   "metadata": {},
   "outputs": [],
   "source": []
  },
  {
   "cell_type": "code",
   "execution_count": null,
   "id": "508fec0a-2ea6-4964-b7c5-517d1c3b1cf4",
   "metadata": {},
   "outputs": [],
   "source": []
  },
  {
   "cell_type": "code",
   "execution_count": null,
   "id": "0691bf43-0d0f-4560-8dc2-0bdb1dda4c2f",
   "metadata": {},
   "outputs": [],
   "source": []
  },
  {
   "cell_type": "code",
   "execution_count": null,
   "id": "e4a9ca50-0594-41df-b62a-05b3c49cb498",
   "metadata": {},
   "outputs": [],
   "source": []
  },
  {
   "cell_type": "code",
   "execution_count": null,
   "id": "d7ebc2d5-701b-492b-a612-ff7d94cc306b",
   "metadata": {},
   "outputs": [],
   "source": []
  },
  {
   "cell_type": "code",
   "execution_count": null,
   "id": "e1e2ec62-a4fd-4f2e-8970-745f90390416",
   "metadata": {},
   "outputs": [],
   "source": []
  }
 ],
 "metadata": {
  "kernelspec": {
   "display_name": "Python 3 (ipykernel)",
   "language": "python",
   "name": "python3"
  },
  "language_info": {
   "codemirror_mode": {
    "name": "ipython",
    "version": 3
   },
   "file_extension": ".py",
   "mimetype": "text/x-python",
   "name": "python",
   "nbconvert_exporter": "python",
   "pygments_lexer": "ipython3",
   "version": "3.8.10"
  }
 },
 "nbformat": 4,
 "nbformat_minor": 5
}
