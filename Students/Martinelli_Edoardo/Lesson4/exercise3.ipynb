{
 "cells": [
  {
   "cell_type": "code",
   "execution_count": 35,
   "metadata": {},
   "outputs": [],
   "source": [
    "import sys\n",
    "sys.path.append(\"/home/edo/Software/TESI/AstroCosmoComputational/Students/Martinelli_Edoardo/\")\n",
    "\n",
    "import numpy as np\n",
    "import matplotlib.pyplot as plt\n",
    "plt.rcParams.update({\n",
    "    \"text.usetex\": False,\n",
    "    \"font.family\": \"serif\",})\n",
    "# Import distances class\n",
    "from pyACC.cosmology import *\n",
    "# Import integration class\n",
    "from pyACC.Calculus import *\n",
    "import scipy as sp\n",
    "#from scipy.interpolate import LinearNDInterpolator\n",
    "#from scipy.interpolate import RegularGridInterpolator\n",
    "from scipy.interpolate import interpn"
   ]
  },
  {
   "cell_type": "code",
   "execution_count": 36,
   "metadata": {},
   "outputs": [],
   "source": [
    "#D_modulus_func=lambda z,h0,om_m: distance_modulus(z,H0=h0,omegaM=om_m)\n",
    "Nint=10\n",
    "z_grid=np.linspace(0.001,2,Nint)\n",
    "h0_grid=np.linspace(65,75,Nint)\n",
    "om_m_grid=np.linspace(0.25,0.35,Nint)\n",
    "#GRID_Z,GRID_H0,GRID_Om=np.meshgrid(z_grid,h0_grid,om_m_grid)\n"
   ]
  },
  {
   "cell_type": "code",
   "execution_count": 37,
   "metadata": {},
   "outputs": [],
   "source": [
    "def DModulus(z,h0,om_m):\n",
    "    D_modulus=np.zeros((Nint,Nint,Nint))\n",
    "    for z_in,zi in enumerate(z):\n",
    "        for h0_in,H0 in enumerate(h0):\n",
    "            for om_m_in,Om_m in enumerate(om_m):\n",
    "                D_modulus[z_in,h0_in,om_m_in]=distance_modulus(zi.item(),H0,Om_m)\n",
    "    return D_modulus\n",
    "  "
   ]
  },
  {
   "cell_type": "code",
   "execution_count": 38,
   "metadata": {},
   "outputs": [],
   "source": [
    "D_modulus_interp=DModulus(z_grid,h0_grid,om_m_grid)"
   ]
  },
  {
   "cell_type": "code",
   "execution_count": 41,
   "metadata": {},
   "outputs": [],
   "source": [
    "\n",
    "Z=np.linspace(0.001,2,1000)\n",
    "H0=np.linspace(65,75,1000)\n",
    "OM_M=np.linspace(0.25,0.35,1000)\n",
    "Z,H0,OM_M=np.meshgrid(z_grid,h0_grid,om_m_grid)\n",
    "ev_points=np.array([Z,H0,OM_M]).T\n",
    "\n",
    "interp = interpn((z_grid,h0_grid,om_m_grid), D_modulus_interp,ev_points)\n",
    "\n",
    "# inter is the evaluated interpolated function at the points in ev_points"
   ]
  }
 ],
 "metadata": {
  "kernelspec": {
   "display_name": "acc-env",
   "language": "python",
   "name": "python3"
  },
  "language_info": {
   "codemirror_mode": {
    "name": "ipython",
    "version": 3
   },
   "file_extension": ".py",
   "mimetype": "text/x-python",
   "name": "python",
   "nbconvert_exporter": "python",
   "pygments_lexer": "ipython3",
   "version": "3.9.undefined"
  }
 },
 "nbformat": 4,
 "nbformat_minor": 2
}
