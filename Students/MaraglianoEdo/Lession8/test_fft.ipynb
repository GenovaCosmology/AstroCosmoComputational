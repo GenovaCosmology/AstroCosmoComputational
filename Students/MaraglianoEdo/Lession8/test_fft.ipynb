{
 "cells": [
  {
   "cell_type": "code",
   "execution_count": null,
   "metadata": {},
   "outputs": [],
   "source": [
    "import numpy as np"
   ]
  },
  {
   "cell_type": "code",
   "execution_count": null,
   "metadata": {},
   "outputs": [],
   "source": [
    "# Example signal\n",
    "x = np.array([0, 1, 2, 3])"
   ]
  },
  {
   "cell_type": "code",
   "execution_count": 3,
   "metadata": {},
   "outputs": [
    {
     "name": "stdout",
     "output_type": "stream",
     "text": [
      "FFT (default): [ 6.+0.j -2.+2.j -2.+0.j -2.-2.j]\n",
      "IFFT (default): [0.+0.j 1.+0.j 2.+0.j 3.+0.j]\n",
      "FFT (backward): [ 6.+0.j -2.+2.j -2.+0.j -2.-2.j]\n",
      "IFFT (backward): [0.+0.j 1.+0.j 2.+0.j 3.+0.j]\n",
      "FFT (ortho): [ 3.+0.j -1.+1.j -1.+0.j -1.-1.j]\n",
      "IFFT (ortho): [0.+0.j 1.+0.j 2.+0.j 3.+0.j]\n",
      "FFT (forward): [ 1.5+0.j  -0.5+0.5j -0.5+0.j  -0.5-0.5j]\n",
      "IFFT (forward): [0.+0.j 1.+0.j 2.+0.j 3.+0.j]\n"
     ]
    }
   ],
   "source": [
    "# FFT with default normalization (norm=None)\n",
    "fft_default = np.fft.fft(x)\n",
    "ifft_default = np.fft.ifft(fft_default)\n",
    "print(\"FFT (default):\", fft_default)\n",
    "print(\"IFFT (default):\", ifft_default)\n",
    "\n",
    "# FFT with backward normalization (norm='backward')\n",
    "fft_backward = np.fft.fft(x, norm='backward')\n",
    "ifft_backward = np.fft.ifft(fft_backward, norm='backward')\n",
    "print(\"FFT (backward):\", fft_backward)\n",
    "print(\"IFFT (backward):\", ifft_backward)\n",
    "\n",
    "# FFT with orthogonal normalization (norm='ortho')\n",
    "fft_ortho = np.fft.fft(x, norm='ortho')\n",
    "ifft_ortho = np.fft.ifft(fft_ortho, norm='ortho')\n",
    "print(\"FFT (ortho):\", fft_ortho)\n",
    "print(\"IFFT (ortho):\", ifft_ortho)\n",
    "\n",
    "# FFT with forward normalization (norm='forward')\n",
    "fft_forward = np.fft.fft(x, norm='forward')\n",
    "ifft_forward = np.fft.ifft(fft_forward, norm='forward')\n",
    "print(\"FFT (forward):\", fft_forward)\n",
    "print(\"IFFT (forward):\", ifft_forward)\n",
    "\n"
   ]
  },
  {
   "cell_type": "code",
   "execution_count": null,
   "metadata": {},
   "outputs": [],
   "source": []
  }
 ],
 "metadata": {
  "kernelspec": {
   "display_name": "acc-env",
   "language": "python",
   "name": "python3"
  },
  "language_info": {
   "codemirror_mode": {
    "name": "ipython",
    "version": 3
   },
   "file_extension": ".py",
   "mimetype": "text/x-python",
   "name": "python",
   "nbconvert_exporter": "python",
   "pygments_lexer": "ipython3",
   "version": "3.9.18"
  }
 },
 "nbformat": 4,
 "nbformat_minor": 2
}
