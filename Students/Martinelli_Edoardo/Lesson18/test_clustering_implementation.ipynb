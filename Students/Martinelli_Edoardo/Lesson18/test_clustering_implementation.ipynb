{
 "cells": [
  {
   "cell_type": "code",
   "execution_count": null,
   "metadata": {},
   "outputs": [],
   "source": [
    "import sys\n",
    "sys.path.append(\"/home/edo/Software/TESI/AstroCosmoComputational/Students/Martinelli_Edoardo/\")\n",
    "import numpy as np\n",
    "import matplotlib.pyplot as plt\n",
    "plt.rcParams.update({\n",
    "    \"text.usetex\": False,\n",
    "    \"font.family\": \"serif\",})\n",
    "# Import distances class\n",
    "from pyACC.cosmology import *\n",
    "# Import integration class\n",
    "from pyACC.Calculus import *\n",
    "from pyACC.clustering import *\n",
    "import scipy as sp\n",
    "import camb"
   ]
  },
  {
   "cell_type": "code",
   "execution_count": null,
   "metadata": {},
   "outputs": [],
   "source": [
    "Omega_b = 0.05\n",
    "Omega_c = 0.25\n",
    "\n",
    "h = 0.7\n",
    "As = 2.1e-9\n",
    "ns = 0.96\n",
    "\n",
    "pars= camb.CAMBparams()\n",
    "pars.set_cosmology(H0=100*h, ombh2=Omega_b*h**2, omch2=Omega_c*h**2)\n",
    "pars.InitPower.set_params(As=As, ns=ns)\n",
    "\n",
    "pars.set_matter_power(redshifts=[10.], kmax=100.0)\n",
    "result = camb.get_results(pars)\n",
    "\n",
    "kh, z, pk = result.get_matter_power_spectrum(minkh=1e-4, maxkh=100, npoints = 512)\n",
    "\n",
    "pk_func = sp.interpolate.interp1d(kh, pk[0], kind='extrapolate')"
   ]
  },
  {
   "cell_type": "code",
   "execution_count": null,
   "metadata": {},
   "outputs": [],
   "source": [
    "# define the box\n",
    "side = 500 # Mpc/h\n",
    "spacing = 5 # Mpc\n"
   ]
  },
  {
   "cell_type": "code",
   "execution_count": null,
   "metadata": {},
   "outputs": [],
   "source": [
    "# manca un sacco di roba"
   ]
  },
  {
   "cell_type": "code",
   "execution_count": null,
   "metadata": {},
   "outputs": [],
   "source": [
    "# generate points\n",
    "n_mean = 1e-1\n",
    "Volume = side**3\n",
    "N_part = int(n_mean*Volume)"
   ]
  },
  {
   "cell_type": "code",
   "execution_count": null,
   "metadata": {},
   "outputs": [],
   "source": [
    "n_x=n_mean*(1+delta_x)\n",
    "Nobj_x = n_x*spacing**3\n",
    "Npart= np.random.poisson(Nobj_x)"
   ]
  },
  {
   "cell_type": "code",
   "execution_count": null,
   "metadata": {},
   "outputs": [],
   "source": [
    "# let's make it a density field\n",
    "N_mean=n_mean*spacing**3\n",
    "delta_N_x = Npart/N_mean - 1"
   ]
  }
 ],
 "metadata": {
  "kernelspec": {
   "display_name": "acc-env",
   "language": "python",
   "name": "python3"
  },
  "language_info": {
   "codemirror_mode": {
    "name": "ipython",
    "version": 3
   },
   "file_extension": ".py",
   "mimetype": "text/x-python",
   "name": "python",
   "nbconvert_exporter": "python",
   "pygments_lexer": "ipython3",
   "version": "3.9.19"
  }
 },
 "nbformat": 4,
 "nbformat_minor": 2
}
