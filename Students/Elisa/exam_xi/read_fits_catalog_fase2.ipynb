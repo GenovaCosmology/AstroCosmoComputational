{
 "cells": [
  {
   "cell_type": "code",
   "execution_count": 1,
   "metadata": {},
   "outputs": [],
   "source": [
    "from astropy.io import fits\n",
    "import numpy as np\n",
    "from astropy.table import Table\n",
    "import pandas as pd\n",
    "from tqdm.notebook import tqdm\n"
   ]
  },
  {
   "cell_type": "markdown",
   "metadata": {},
   "source": [
    "# random with shuffle "
   ]
  },
  {
   "cell_type": "code",
   "execution_count": 2,
   "metadata": {},
   "outputs": [],
   "source": [
    "filename = '../BOSS_North/random0_DR12v5_CMASSLOWZTOT_North.fits'\n",
    "#filename = '../BOSS_South/random0_DR12v5_CMASSLOWZTOT_South.fits'\n",
    "\n",
    "\n",
    "hdul = fits.open(filename)\n",
    "\n",
    "\n",
    "# Access a specific HDU (Header/Data Unit)\n",
    "data = hdul[1].data  # Assuming the galaxy catalog is in the first extension"
   ]
  },
  {
   "cell_type": "code",
   "execution_count": null,
   "metadata": {},
   "outputs": [],
   "source": [
    "\n",
    "# Print information about the FITS file\n",
    "hdul.info()\n",
    "\n",
    "# Print the column names\n",
    "#print(data.columns)\n",
    "print(data.names)"
   ]
  },
  {
   "cell_type": "code",
   "execution_count": 3,
   "metadata": {},
   "outputs": [],
   "source": [
    "#redshifts binning\n",
    "z1 = 0.2\n",
    "z2 = 0.5\n",
    "z3 = 0.75"
   ]
  },
  {
   "cell_type": "markdown",
   "metadata": {},
   "source": [
    "I split the catalog in two redshifts binning: [0.2,0.5) and [0.5,0.75)"
   ]
  },
  {
   "cell_type": "code",
   "execution_count": 4,
   "metadata": {},
   "outputs": [],
   "source": [
    "data_low = data[(data['Z']>=z1) & (data['Z']<z2)]"
   ]
  },
  {
   "cell_type": "code",
   "execution_count": 5,
   "metadata": {},
   "outputs": [],
   "source": [
    "data_high = data[(data['Z']>=z2) & (data['Z']<z3)]"
   ]
  },
  {
   "cell_type": "code",
   "execution_count": 6,
   "metadata": {},
   "outputs": [],
   "source": [
    "ra_low = data_low['RA']  \n",
    "dec_low = data_low['DEC']  \n",
    "z_low = data_low['Z']\n",
    "w_fkp_low = data_low['WEIGHT_FKP']\n",
    "density_low  = data_low['NZ']"
   ]
  },
  {
   "cell_type": "code",
   "execution_count": 7,
   "metadata": {},
   "outputs": [
    {
     "data": {
      "text/plain": [
       "array([0.48592052, 0.44922829, 0.47437418, ..., 0.25791413, 0.44536167,\n",
       "       0.43715981], dtype='>f8')"
      ]
     },
     "execution_count": 7,
     "metadata": {},
     "output_type": "execute_result"
    }
   ],
   "source": [
    "#check\n",
    "z_low"
   ]
  },
  {
   "cell_type": "code",
   "execution_count": 7,
   "metadata": {},
   "outputs": [],
   "source": [
    "ra_high = data_high['RA']  \n",
    "dec_high = data_high['DEC']  \n",
    "#z = data['REDSHIFT']\n",
    "z_high = data_high['Z']\n",
    "w_fkp_high = data_high['WEIGHT_FKP']\n",
    "density_high  = data_high['NZ']"
   ]
  },
  {
   "cell_type": "markdown",
   "metadata": {},
   "source": [
    "I shuffle both the random catalogs"
   ]
  },
  {
   "cell_type": "code",
   "execution_count": 8,
   "metadata": {},
   "outputs": [
    {
     "name": "stdout",
     "output_type": "stream",
     "text": [
      "[       0        1        2 ... 21653137 21653138 21653139]\n",
      "[ 5610792   781021 14728071 ... 14781700 13160413   267494]\n"
     ]
    }
   ],
   "source": [
    "index= np.arange(0,len(ra_low),1)\n",
    "print(index)\n",
    "np.random.shuffle(index)\n",
    "print(index)\n",
    "ra_low = ra_low[index]\n",
    "dec_low = dec_low[index]\n",
    "z_low = z_low[index]\n",
    "w_fkp_low = w_fkp_low[index]\n",
    "density_low=density_low[index]"
   ]
  },
  {
   "cell_type": "code",
   "execution_count": 10,
   "metadata": {},
   "outputs": [
    {
     "name": "stdout",
     "output_type": "stream",
     "text": [
      "[0.45004764 0.21679512 0.37205508 ... 0.29422539 0.47456196 0.47781506]\n"
     ]
    }
   ],
   "source": [
    "#check\n",
    "print(z_low)"
   ]
  },
  {
   "cell_type": "code",
   "execution_count": 9,
   "metadata": {},
   "outputs": [
    {
     "name": "stdout",
     "output_type": "stream",
     "text": [
      "[       0        1        2 ... 22768145 22768146 22768147]\n",
      "[19527831  5629943 11598522 ... 14575698  7577143   554888]\n"
     ]
    }
   ],
   "source": [
    "index= np.arange(0,len(ra_high),1)\n",
    "print(index)\n",
    "np.random.shuffle(index)\n",
    "print(index)\n",
    "ra_high = ra_high[index]\n",
    "dec_high = dec_high[index]\n",
    "z_high = z_high[index]\n",
    "w_fkp_high = w_fkp_high[index]\n",
    "density_high=density_high[index]"
   ]
  },
  {
   "cell_type": "markdown",
   "metadata": {},
   "source": [
    "fits catalogs file for the xi"
   ]
  },
  {
   "cell_type": "code",
   "execution_count": 10,
   "metadata": {},
   "outputs": [],
   "source": [
    "def write_header(hdu, filename):\n",
    "    hdu.name = 'CATALOG'\n",
    "    hdu.header[\"EXTNAME\"] = 'CATALOG '\n",
    "    hdu.header[\"FILENAME\"] = filename\n",
    "    hdu.header[\"TELESCOP\"] = 'BOSS '\n",
    "    hdu.header[\"INSTRUME\"] = \"BOSS DR12\"\n",
    "    hdu.header[\"CAT_TYPE\"] = 'NOT_PROXY'\n",
    "    hdu.header[\"CAT_NAME\"] = \"\"\n",
    "    hdu.header[\"COORD\"] = \"EQUATORIAL\"\n",
    "    hdu.header[\"ANGLE\"] = \"DEG\"\n",
    "    hdu.header[\"SELECT\"] = \"EUCLIDLIKE\""
   ]
  },
  {
   "cell_type": "code",
   "execution_count": 11,
   "metadata": {},
   "outputs": [],
   "source": [
    "filename = '../BOSS_North/random0_North_low_E.fits'\n",
    "#filename = '../BOSS_South/random0_South_low_E.fits'\n",
    "\n",
    "t = fits.BinTableHDU(Table([ra_low, dec_low, z_low ,w_fkp_low], names=('RA', 'DEC', 'REDSHIFT','WEIGHT_FKP')))\n",
    "write_header(t, filename.split(\"/\")[-1])\n",
    "t.writeto(filename, overwrite=True)"
   ]
  },
  {
   "cell_type": "code",
   "execution_count": 12,
   "metadata": {},
   "outputs": [],
   "source": [
    "filename = '../BOSS_North/random0_North_high_E.fits'\n",
    "#filename = '../BOSS_South/random0_South_high_E.fits'\n",
    "\n",
    "t = fits.BinTableHDU(Table([ra_high, dec_high, z_high, w_fkp_high ], names=('RA', 'DEC', 'REDSHIFT','WEIGHT_FKP')))\n",
    "write_header(t, filename.split(\"/\")[-1])\n",
    "t.writeto(filename, overwrite=True)"
   ]
  },
  {
   "cell_type": "markdown",
   "metadata": {},
   "source": [
    "fits catalog for the pk"
   ]
  },
  {
   "cell_type": "code",
   "execution_count": 15,
   "metadata": {},
   "outputs": [],
   "source": [
    "def write_header(hdu, filename):\n",
    "    hdu.name = 'CATALOG'\n",
    "    hdu.header[\"EXTNAME\"] = 'CATALOG '\n",
    "    hdu.header[\"FILENAME\"] = filename\n",
    "    hdu.header[\"TELESCOP\"] = 'BOSS '\n",
    "    hdu.header[\"INSTRUME\"] = \"BOSS DR12\"\n",
    "    hdu.header[\"CAT_TYPE\"] = 'NOT_PROXY'\n",
    "    hdu.header[\"CAT_NAME\"] = \"\"\n",
    "    hdu.header[\"COORD\"] = \"PSEUDO_EQUATORIAL\"\n",
    "    hdu.header[\"ANGLE\"] = \"DEG\"\n",
    "    hdu.header[\"SELECT\"] = \"EUCLIDLIKE\"\n",
    "    hdu.header[\"AREA\"] = 2763.927572180538"
   ]
  },
  {
   "cell_type": "code",
   "execution_count": 16,
   "metadata": {},
   "outputs": [],
   "source": [
    "#filename = '../BOSS_North/random0_North_low_C.fits'\n",
    "filename = '../BOSS_South/random0_South_low_C.fits'\n",
    "\n",
    "t = fits.BinTableHDU(Table([ra_low, dec_low, z_low ], names=('RA', 'DEC', 'REDSHIFT')))\n",
    "write_header(t, filename.split(\"/\")[-1])\n",
    "t.writeto(filename, overwrite=True)"
   ]
  },
  {
   "cell_type": "code",
   "execution_count": 17,
   "metadata": {},
   "outputs": [],
   "source": [
    "#filename = '../BOSS_North/random0_North_high_C.fits'\n",
    "filename = '../BOSS_South/random0_South_high_C.fits'\n",
    "\n",
    "t = fits.BinTableHDU(Table([ra_high, dec_high, z_high ], names=('RA', 'DEC', 'REDSHIFT')))\n",
    "write_header(t, filename.split(\"/\")[-1])\n",
    "t.writeto(filename, overwrite=True)"
   ]
  },
  {
   "cell_type": "code",
   "execution_count": 18,
   "metadata": {},
   "outputs": [],
   "source": [
    "hdul.close()"
   ]
  },
  {
   "cell_type": "code",
   "execution_count": null,
   "metadata": {},
   "outputs": [],
   "source": []
  },
  {
   "cell_type": "code",
   "execution_count": null,
   "metadata": {},
   "outputs": [],
   "source": []
  },
  {
   "cell_type": "markdown",
   "metadata": {},
   "source": [
    "# galaxy"
   ]
  },
  {
   "cell_type": "code",
   "execution_count": 2,
   "metadata": {},
   "outputs": [],
   "source": [
    "# Open the FITS file\n",
    "#filename = '../BOSS_North/galaxy_DR12v5_CMASSLOWZTOT_North.fits'\n",
    "filename = '../BOSS_South/galaxy_DR12v5_CMASSLOWZTOT_South.fits'\n",
    "\n",
    "hdul = fits.open(filename)\n",
    "\n",
    "\n",
    "# Access a specific HDU (Header/Data Unit)\n",
    "data = hdul[1].data  # Assuming the galaxy catalog is in the first extension"
   ]
  },
  {
   "cell_type": "code",
   "execution_count": null,
   "metadata": {},
   "outputs": [],
   "source": [
    "#only for galaxy \n",
    "# Access data in a specific column\n",
    "\n",
    "ra = data['RA']  \n",
    "dec = data['DEC']  \n",
    "z = data['Z']\n",
    "w_fkp = data['WEIGHT_FKP']\n",
    "w_cp = data['WEIGHT_CP']\n",
    "w_noz = data['WEIGHT_NOZ']\n",
    "w_star = data['WEIGHT_STAR']\n",
    "w_seeing = data['WEIGHT_SEEING']\n",
    "w_systot = data['WEIGHT_SYSTOT']\n",
    "density  = data['NZ']\n",
    "\n",
    "print(z)\n",
    "print(w_systot)"
   ]
  },
  {
   "cell_type": "code",
   "execution_count": 3,
   "metadata": {},
   "outputs": [],
   "source": [
    "#redshifts binning\n",
    "z1 = 0.2\n",
    "z2 = 0.5\n",
    "z3 = 0.75"
   ]
  },
  {
   "cell_type": "code",
   "execution_count": 4,
   "metadata": {},
   "outputs": [],
   "source": [
    "data_low = data[(data['Z']>=z1) & (data['Z']<z2)]\n",
    "data_high = data[(data['Z']>=z2) & (data['Z']<z3)]"
   ]
  },
  {
   "cell_type": "code",
   "execution_count": 5,
   "metadata": {},
   "outputs": [],
   "source": [
    "ra_low = data_low['RA']  \n",
    "dec_low = data_low['DEC']  \n",
    "z_low = data_low['Z']\n",
    "w_fkp_low = data_low['WEIGHT_FKP']\n",
    "density_low  = data_low['NZ']\n",
    "w_fkp_low = data_low['WEIGHT_FKP']\n",
    "w_cp_low = data_low['WEIGHT_CP']\n",
    "w_noz_low = data_low['WEIGHT_NOZ']\n",
    "w_star_low = data_low['WEIGHT_STAR']\n",
    "w_seeing_low = data_low['WEIGHT_SEEING']\n",
    "w_systot_low= data_low['WEIGHT_SYSTOT']"
   ]
  },
  {
   "cell_type": "code",
   "execution_count": 6,
   "metadata": {},
   "outputs": [],
   "source": [
    "ra_high = data_high['RA']  \n",
    "dec_high = data_high['DEC']  \n",
    "z_high = data_high['Z']\n",
    "w_fkp_high = data_high['WEIGHT_FKP']\n",
    "density_high  = data_high['NZ']\n",
    "w_cp_high = data_high['WEIGHT_CP']\n",
    "w_noz_high = data_high['WEIGHT_NOZ']\n",
    "w_star_high = data_high['WEIGHT_STAR']\n",
    "w_seeing_high = data_high['WEIGHT_SEEING']\n",
    "w_systot_high = data_high['WEIGHT_SYSTOT']"
   ]
  },
  {
   "cell_type": "markdown",
   "metadata": {},
   "source": [
    "$ w_{tot} = w_{fkp}w_{sys}(w_{cp}+w_{oz}-1) $"
   ]
  },
  {
   "cell_type": "code",
   "execution_count": 8,
   "metadata": {},
   "outputs": [],
   "source": [
    "#merging wcp and woz\n",
    "w_z_low = []\n",
    "\n",
    "for i in range (0,w_cp_low.size):\n",
    "    w_z_low = np.append(w_z_low,w_cp_low[i] + w_noz_low[i] - 1)\n"
   ]
  },
  {
   "cell_type": "code",
   "execution_count": 9,
   "metadata": {},
   "outputs": [],
   "source": [
    "#merging all weights\n",
    "w_systot_low = w_systot_low*w_z_low\n",
    "w_temp_low = w_z_low*w_star_low\n",
    "w_tot_low = w_systot_low*w_fkp_low"
   ]
  },
  {
   "cell_type": "code",
   "execution_count": 10,
   "metadata": {},
   "outputs": [],
   "source": [
    "#merging wcp and woz\n",
    "w_z_high = []\n",
    "\n",
    "for i in range (0,w_cp_high.size):\n",
    "    w_z_high = np.append(w_z_high,w_cp_high[i] + w_noz_high[i] - 1)"
   ]
  },
  {
   "cell_type": "code",
   "execution_count": 11,
   "metadata": {},
   "outputs": [],
   "source": [
    "#merging all weights\n",
    "w_systot_high = w_systot_high*w_z_high\n",
    "w_temp_high = w_z_high*w_star_high\n",
    "w_tot_high = w_systot_high*w_fkp_high"
   ]
  },
  {
   "cell_type": "markdown",
   "metadata": {},
   "source": [
    "fits catalogs fot the xi"
   ]
  },
  {
   "cell_type": "code",
   "execution_count": 12,
   "metadata": {},
   "outputs": [],
   "source": [
    "def write_header(hdu, filename):\n",
    "    hdu.name = 'CATALOG'\n",
    "    hdu.header[\"EXTNAME\"] = 'CATALOG '\n",
    "    hdu.header[\"FILENAME\"] = filename\n",
    "    hdu.header[\"TELESCOP\"] = 'BOSS '\n",
    "    hdu.header[\"INSTRUME\"] = \"BOSS DR12\"\n",
    "    hdu.header[\"CAT_TYPE\"] = 'NOT_PROXY'\n",
    "    hdu.header[\"CAT_NAME\"] = \"\"\n",
    "    hdu.header[\"COORD\"] = \"EQUATORIAL\"\n",
    "    hdu.header[\"ANGLE\"] = \"DEG\"\n",
    "    hdu.header[\"SELECT\"] = \"EUCLIDLIKE\""
   ]
  },
  {
   "cell_type": "code",
   "execution_count": 13,
   "metadata": {},
   "outputs": [],
   "source": [
    "#filename = '../BOSS_North/galaxy_North_low_E.fits'\n",
    "filename = '../BOSS_South/galaxy_South_low_E.fits'\n",
    "\n",
    "t = fits.BinTableHDU(Table([ra_low, dec_low, z_low ,w_cp_low, w_z_low,w_temp_low,w_systot_low,w_tot_low ], names=('RA', 'DEC', 'REDSHIFT', 'WEIGHT_CP', 'WIGHT_Z','WEIGHT_STAR','WEIGHT_SYSTOT','WEIGHT_TOT')))\n",
    "write_header(t, filename.split(\"/\")[-1])\n",
    "t.writeto(filename, overwrite=True)"
   ]
  },
  {
   "cell_type": "code",
   "execution_count": 14,
   "metadata": {},
   "outputs": [],
   "source": [
    "#filename = '../BOSS_North/galaxy_North_high_E.fits'\n",
    "filename = '../BOSS_South/galaxy_South_high_E.fits'\n",
    "\n",
    "t = fits.BinTableHDU(Table([ra_high, dec_high, z_high ,w_cp_high, w_z_high,w_temp_high,w_systot_high,w_tot_high ], names=('RA', 'DEC', 'REDSHIFT', 'WEIGHT_CP', 'WIGHT_Z','WEIGHT_STAR','WEIGHT_SYSTOT','WEIGHT_TOT')))\n",
    "write_header(t, filename.split(\"/\")[-1])\n",
    "t.writeto(filename, overwrite=True)"
   ]
  },
  {
   "cell_type": "markdown",
   "metadata": {},
   "source": [
    "fits catalogs for the pk"
   ]
  },
  {
   "cell_type": "code",
   "execution_count": null,
   "metadata": {},
   "outputs": [],
   "source": [
    "def write_header(hdu, filename):\n",
    "    hdu.name = 'CATALOG'\n",
    "    hdu.header[\"EXTNAME\"] = 'CATALOG '\n",
    "    hdu.header[\"FILENAME\"] = filename\n",
    "    hdu.header[\"TELESCOP\"] = 'BOSS '\n",
    "    hdu.header[\"INSTRUME\"] = \"BOSS DR12\"\n",
    "    hdu.header[\"CAT_TYPE\"] = 'NOT_PROXY'\n",
    "    hdu.header[\"CAT_NAME\"] = \"\"\n",
    "    hdu.header[\"COORD\"] = \"PSEUDO_EQUATORIAL\"\n",
    "    hdu.header[\"ANGLE\"] = \"DEG\"\n",
    "    hdu.header[\"SELECT\"] = \"EUCLIDLIKE\"\n",
    "    hdu.header[\"AREA\"] = 2763.927572180538"
   ]
  },
  {
   "cell_type": "code",
   "execution_count": null,
   "metadata": {},
   "outputs": [],
   "source": [
    "#filename = '../BOSS_North/galaxy_North_low_C.fits'\n",
    "filename = '../BOSS_South/galaxy_South_low_C.fits'\n",
    "\n",
    "t = fits.BinTableHDU(Table([ra_low, dec_low, z_low ,w_cp_low, w_z_low,w_temp_low,w_systot_low,w_tot_low ], names=('RA', 'DEC', 'REDSHIFT', 'WEIGHT_CP', 'WIGHT_Z','WEIGHT_STAR','WEIGHT_SYSTOT','WEIGHT_TOT')))\n",
    "write_header(t, filename.split(\"/\")[-1])\n",
    "t.writeto(filename, overwrite=True)"
   ]
  },
  {
   "cell_type": "code",
   "execution_count": null,
   "metadata": {},
   "outputs": [],
   "source": [
    "#filename = '../BOSS_North/galaxy_North_high_C.fits'\n",
    "filename = '../BOSS_South/galaxy_South_high_C.fits'\n",
    "\n",
    "t = fits.BinTableHDU(Table([ra_high, dec_high, z_high ,w_cp_high, w_z_high,w_temp_high,w_systot_high,w_tot_high ], names=('RA', 'DEC', 'REDSHIFT', 'WEIGHT_CP', 'WIGHT_Z','WEIGHT_STAR','WEIGHT_SYSTOT','WEIGHT_TOT')))\n",
    "write_header(t, filename.split(\"/\")[-1])\n",
    "t.writeto(filename, overwrite=True)"
   ]
  },
  {
   "cell_type": "code",
   "execution_count": null,
   "metadata": {},
   "outputs": [],
   "source": []
  },
  {
   "cell_type": "markdown",
   "metadata": {},
   "source": [
    "# I try to extract dndz for pk (claudio)"
   ]
  },
  {
   "cell_type": "code",
   "execution_count": 12,
   "metadata": {},
   "outputs": [],
   "source": [
    "def write_header(hdu, filename):\n",
    "    hdu.name = 'CATALOG'\n",
    "    hdu.header[\"EXTNAME\"] = 'CATALOG '\n",
    "    hdu.header[\"FILENAME\"] = filename\n",
    "    hdu.header[\"TELESCOP\"] = 'BOSS '\n",
    "    hdu.header[\"INSTRUME\"] = \"BOSS DR12\"\n",
    "    hdu.header[\"CAT_TYPE\"] = 'NOT_PROXY'\n",
    "    hdu.header[\"CAT_NAME\"] = \"\"\n",
    "    hdu.header[\"COORD\"] = \"PSEUDO_EQUATORIAL\"\n",
    "    hdu.header[\"ANGLE\"] = \"DEG\"\n",
    "    hdu.header[\"SELECT\"] = \"EUCLIDLIKE\""
   ]
  },
  {
   "cell_type": "code",
   "execution_count": 13,
   "metadata": {},
   "outputs": [],
   "source": [
    "# Open the FITS file\n",
    "filename = 'BOSS_North/galaxy_CMASSLOWZTOT_North_C.fits'\n",
    "\n",
    "hdul = fits.open(filename)\n",
    "\n",
    "\n",
    "# Access a specific HDU (Header/Data Unit)\n",
    "#data = hdul[1].data  "
   ]
  },
  {
   "cell_type": "code",
   "execution_count": 14,
   "metadata": {},
   "outputs": [],
   "source": [
    "data = hdul[1].data "
   ]
  },
  {
   "cell_type": "code",
   "execution_count": 15,
   "metadata": {},
   "outputs": [],
   "source": [
    "density = data['NZ']"
   ]
  },
  {
   "cell_type": "code",
   "execution_count": 17,
   "metadata": {},
   "outputs": [],
   "source": [
    "filename = 'BOSS_North/galaxy_CMASSLOWZTOT_North_density.fits'\n",
    "t = fits.BinTableHDU(Table([ra, dec, z,density  ], names=('RA', 'DEC', 'REDSHIFT', 'NZ',)))\n",
    "write_header(t, filename.split(\"/\")[-1])\n",
    "t.writeto(filename, overwrite=True)"
   ]
  },
  {
   "cell_type": "code",
   "execution_count": null,
   "metadata": {},
   "outputs": [],
   "source": []
  },
  {
   "cell_type": "code",
   "execution_count": null,
   "metadata": {},
   "outputs": [
    {
     "name": "stdout",
     "output_type": "stream",
     "text": [
      "        RA                 DEC         RUN ... ICOLLIDED INGROUP MULTGROUP\n",
      "------------------ ------------------- --- ... --------- ------- ---------\n",
      "195.07128497875797 -0.5907713163844767 745 ...         0   35880         1\n",
      "195.02299176985144 -0.6109986068739428 745 ...         0    8843         1\n",
      "195.07974105207435 0.34898067241979264 745 ...         0   13065         2\n",
      " 195.1705738058857  0.3598641895951883 745 ...         0   12492         1\n",
      " 195.2042890842218  0.3472671634337523 745 ...         0    2060         1\n"
     ]
    }
   ],
   "source": [
    "from astropy.io import fits\n",
    "from astropy.table import Table\n",
    "\n",
    "# Open the FITS file\n",
    "filename = 'BOSS_North/galaxy_DR12v5_CMASSLOWZTOT_North.fits'\n",
    "hdul = fits.open(filename)\n",
    "\n",
    "# Print information about the FITS file\n",
    "#hdul.info()\n",
    "\n",
    "# Access the Binary Table HDU (assuming the table is in the first extension)\n",
    "hdu = hdul[1]\n",
    "\n",
    "# Convert the table data to an Astropy Table\n",
    "table = Table(hdu.data)\n",
    "\n",
    "# Print the column names and the first few rows of the table\n",
    "#print(table.colnames)\n",
    "print(table[:5])\n",
    "\n",
    "# Alternatively, convert the table data to a NumPy array\n",
    "#data = hdu.data\n",
    "#print(data.names)\n",
    "#print(data[:5])\n",
    "\n",
    "# Close the FITS file\n",
    "#hdul.close()\n"
   ]
  }
 ],
 "metadata": {
  "kernelspec": {
   "display_name": "2pcf",
   "language": "python",
   "name": "python3"
  },
  "language_info": {
   "codemirror_mode": {
    "name": "ipython",
    "version": 3
   },
   "file_extension": ".py",
   "mimetype": "text/x-python",
   "name": "python",
   "nbconvert_exporter": "python",
   "pygments_lexer": "ipython3",
   "version": "3.9.19"
  }
 },
 "nbformat": 4,
 "nbformat_minor": 2
}
