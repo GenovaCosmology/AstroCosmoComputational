{
 "cells": [
  {
   "cell_type": "markdown",
   "metadata": {},
   "source": [
    "# Exercise 5: "
   ]
  },
  {
   "cell_type": "markdown",
   "metadata": {},
   "source": [
    "As seen in exercise 3 of this week, we can write the background scalar field equation as:\n",
    "$$\n",
    "\\ddot{\\Phi}+3H\\dot{\\Phi}+V'\\left(\\Phi\\right)=0\n",
    "$$\n",
    "where $\\Phi$ rapresents the scalr field, $V'\\left(\\Phi\\right)=\\frac{\\partial V}{\\partial \\Phi}$ and the expression is written in cosmic time."
   ]
  },
  {
   "cell_type": "markdown",
   "metadata": {},
   "source": []
  },
  {
   "cell_type": "markdown",
   "metadata": {},
   "source": []
  },
  {
   "cell_type": "code",
   "execution_count": null,
   "metadata": {},
   "outputs": [],
   "source": []
  }
 ],
 "metadata": {
  "language_info": {
   "name": "python"
  }
 },
 "nbformat": 4,
 "nbformat_minor": 2
}
