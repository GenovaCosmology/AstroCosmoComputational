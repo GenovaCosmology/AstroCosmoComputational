{
 "cells": [
  {
   "cell_type": "code",
   "execution_count": 2,
   "metadata": {},
   "outputs": [
    {
     "ename": "IndentationError",
     "evalue": "expected an indented block (distances.py, line 52)",
     "output_type": "error",
     "traceback": [
      "Traceback \u001b[0;36m(most recent call last)\u001b[0m:\n",
      "\u001b[0m  File \u001b[1;32m~/anaconda3/envs/acc-env/lib/python3.9/site-packages/IPython/core/interactiveshell.py:3550\u001b[0m in \u001b[1;35mrun_code\u001b[0m\n    exec(code_obj, self.user_global_ns, self.user_ns)\u001b[0m\n",
      "\u001b[0m  Cell \u001b[1;32mIn[2], line 15\u001b[0m\n    from pyACC.Cosmology import CosmologicalDistances\u001b[0m\n",
      "\u001b[0;36m  File \u001b[0;32m~/AstroCosmoComputational/Students/Gabriele_Russo/HalfCourseProject/../pyACC/Cosmology/__init__.py:1\u001b[0;36m\n\u001b[0;31m    from .distances import Integrand_comoving_distance\u001b[0;36m\n",
      "\u001b[0;36m  File \u001b[0;32m~/AstroCosmoComputational/Students/Gabriele_Russo/HalfCourseProject/../pyACC/Cosmology/distances.py:52\u001b[0;36m\u001b[0m\n\u001b[0;31m    def luminosity_distance(self, z):\u001b[0m\n\u001b[0m                                     ^\u001b[0m\n\u001b[0;31mIndentationError\u001b[0m\u001b[0;31m:\u001b[0m expected an indented block\n"
     ]
    }
   ],
   "source": [
    "# Include relevant packages\n",
    "# Reduce the minimum methods in the notebook\n",
    "# Put everything in pyACC\n",
    "import numpy as np\n",
    "import matplotlib.pyplot as plt\n",
    "\n",
    "import pandas as pd\n",
    "\n",
    "import sys\n",
    "sys.path.append('../')\n",
    "\n",
    "from pyACC.helpers import Logger\n",
    "print = Logger(\"Half Course Project\")\n",
    "\n",
    "from pyACC.Cosmology import CosmologicalDistances"
   ]
  },
  {
   "cell_type": "code",
   "execution_count": null,
   "metadata": {},
   "outputs": [],
   "source": [
    "# Theory\n",
    "\n",
    "# Define your functions to get cosmological distances from a list of redshifts and different\n",
    "# cosmological models\n",
    "# 1. LCDM\n",
    "# 2. wCDM\n",
    "# 3. your choice"
   ]
  },
  {
   "cell_type": "code",
   "execution_count": null,
   "metadata": {},
   "outputs": [],
   "source": [
    "#Cosmological parameters\n",
    "H0 = 70\n",
    "omega_m = 0.3\n",
    "\n",
    "# Implement your favourite Hubble function\n",
    "def hubble_function(z, Omega_M, H0):\n",
    "    \"\"\"\n",
    "    Compute the Hubble function at redshift z for LambdaCDM cosmology.\n",
    "\n",
    "    Parameters\n",
    "    ----------\n",
    "    z : float\n",
    "        Redshift.\n",
    "    Omega_M : float\n",
    "        Matter density parameter.\n",
    "    H0 : float\n",
    "        Hubble constant.\n",
    "    \n",
    "    Returns\n",
    "    -------\n",
    "    float\n",
    "        Hubble function at redshift z.\n",
    "    \"\"\"\n",
    "    \n",
    "    return H0 * np.sqrt(Omega_M * (1+z)**3 + (1-Omega_M))"
   ]
  },
  {
   "cell_type": "code",
   "execution_count": null,
   "metadata": {},
   "outputs": [],
   "source": [
    "#Instantiation of a CosmologicalDistances class object\n",
    "cd = CosmologicalDistances(hubble_function, omega_m, H0)"
   ]
  },
  {
   "cell_type": "code",
   "execution_count": 3,
   "metadata": {},
   "outputs": [
    {
     "ename": "NameError",
     "evalue": "name 'cd' is not defined",
     "output_type": "error",
     "traceback": [
      "\u001b[0;31m---------------------------------------------------------------------------\u001b[0m",
      "\u001b[0;31mNameError\u001b[0m                                 Traceback (most recent call last)",
      "Cell \u001b[0;32mIn[3], line 5\u001b[0m\n\u001b[1;32m      2\u001b[0m redshift_list \u001b[38;5;241m=\u001b[39m np\u001b[38;5;241m.\u001b[39mlinspace(\u001b[38;5;241m0.01\u001b[39m, \u001b[38;5;241m2.2\u001b[39m, \u001b[38;5;241m100\u001b[39m)\n\u001b[1;32m      4\u001b[0m \u001b[38;5;66;03m#Computation of distances modulus mu for every z in redshift_list\u001b[39;00m\n\u001b[0;32m----> 5\u001b[0m mu \u001b[38;5;241m=\u001b[39m np\u001b[38;5;241m.\u001b[39marray([cd\u001b[38;5;241m.\u001b[39mdistance_modulus(z) \u001b[38;5;28;01mfor\u001b[39;00m z \u001b[38;5;129;01min\u001b[39;00m redshift_list])\n\u001b[1;32m      7\u001b[0m \u001b[38;5;66;03m#Computation of luminosity_distance for every z in redshift_list\u001b[39;00m\n\u001b[1;32m      8\u001b[0m \u001b[38;5;124;03m'''\u001b[39;00m\n\u001b[1;32m      9\u001b[0m \u001b[38;5;124;03mWhy do we have a method that depends not only on z? And what is 1?\u001b[39;00m\n\u001b[1;32m     10\u001b[0m \u001b[38;5;124;03m'''\u001b[39;00m\n",
      "Cell \u001b[0;32mIn[3], line 5\u001b[0m, in \u001b[0;36m<listcomp>\u001b[0;34m(.0)\u001b[0m\n\u001b[1;32m      2\u001b[0m redshift_list \u001b[38;5;241m=\u001b[39m np\u001b[38;5;241m.\u001b[39mlinspace(\u001b[38;5;241m0.01\u001b[39m, \u001b[38;5;241m2.2\u001b[39m, \u001b[38;5;241m100\u001b[39m)\n\u001b[1;32m      4\u001b[0m \u001b[38;5;66;03m#Computation of distances modulus mu for every z in redshift_list\u001b[39;00m\n\u001b[0;32m----> 5\u001b[0m mu \u001b[38;5;241m=\u001b[39m np\u001b[38;5;241m.\u001b[39marray([\u001b[43mcd\u001b[49m\u001b[38;5;241m.\u001b[39mdistance_modulus(z) \u001b[38;5;28;01mfor\u001b[39;00m z \u001b[38;5;129;01min\u001b[39;00m redshift_list])\n\u001b[1;32m      7\u001b[0m \u001b[38;5;66;03m#Computation of luminosity_distance for every z in redshift_list\u001b[39;00m\n\u001b[1;32m      8\u001b[0m \u001b[38;5;124;03m'''\u001b[39;00m\n\u001b[1;32m      9\u001b[0m \u001b[38;5;124;03mWhy do we have a method that depends not only on z? And what is 1?\u001b[39;00m\n\u001b[1;32m     10\u001b[0m \u001b[38;5;124;03m'''\u001b[39;00m\n",
      "\u001b[0;31mNameError\u001b[0m: name 'cd' is not defined"
     ]
    }
   ],
   "source": [
    "#Redshift list\n",
    "redshift_list = np.linspace(0.01, 2.2, 100)\n",
    "\n",
    "#Computation of distances modulus mu for every z in redshift_list\n",
    "mu = np.array([cd.distance_modulus(z) for z in redshift_list])\n",
    "\n",
    "#Computation of luminosity_distance for every z in redshift_list\n",
    "'''\n",
    "Why do we have a method that depends not only on z? And what is 1?\n",
    "'''\n",
    "luminosity_distance = np.array([cd.luminosity_distance(z,omega_m, 1  ) for z in redshift_list])\n",
    "'''\n",
    "For Hubble distance depending by redshift, do we mean comoving distance (as 1/H0 * integral in dz' of c/E(z'))? \n",
    "'''\n",
    "hubble_distance = np.array([cd.hubble_distance(z) for z in redshift_list])\n",
    "\n",
    "'''\n",
    "How do we define this distance?\n",
    "'''\n",
    "transverse_comoving_distance = np.array([cd.transverse_comoving_distance(z) for z in redshift_list])"
   ]
  },
  {
   "cell_type": "code",
   "execution_count": null,
   "metadata": {},
   "outputs": [],
   "source": [
    "# Dataset\n",
    "\n",
    "# Read the datasets, and plot the data against Planck 2018 LCDM cosmology"
   ]
  },
  {
   "cell_type": "code",
   "execution_count": 4,
   "metadata": {},
   "outputs": [
    {
     "name": "stdout",
     "output_type": "stream",
     "text": [
      "2024-04-05 09:37:36.737617 :: \u001b[32mHalf Course Project \u001b[0m :: Read SN data\n"
     ]
    }
   ],
   "source": [
    "print(\"Read SN data\")\n",
    "'''\n",
    "Explanation of following line:\n",
    "- SN_data = pd.read_csv(\"./data/SNIa_data.txt\", sep=\" \", header=None, names=[\"Redshift\", \"Distance\"])\n",
    "\n",
    "This line reads data from a CSV (Comma-Separated Values) file named \"SNIa_data.txt\" located in the \"./data\" directory.\n",
    "It uses pandas' read_csv() function to read the data into a DataFrame (i.e. a two-dimensional labeled data structure,\n",
    "essentially a table divided in rows and columns) called SN_data.\n",
    "\n",
    "Separating it in pieces:\n",
    "- ./data/SNIa_data.txt: specifies the path to the CSV file;\n",
    "- sep=\" \": specifies that the separator between values in the file is a space;\n",
    "- header=None: indicates that there is no header row in the file;\n",
    "- names=[\"Redshift\", \"Distance\"]: specifies the column names to be used for the DataFrame.\n",
    "'''\n",
    "SN_data = pd.read_csv(\"./data/SNIa_data.txt\", sep=\" \", header=None, names=[\"Redshift\", \"Distance\"])\n",
    "\n",
    "'''\n",
    "Explanation of following line:\n",
    "- SN_covariance = np.genfromtxt(\"./data/SNIa_covariance.txt\")\n",
    "This line reads data from a text file named \"SNIa_covariance.txt\" located in the \"./data\" directory. \n",
    "It uses NumPy's genfromtxt() function to read the data into a NumPy array called SN_covariance.\n",
    "(We are presumably reading a corance matrix)\n",
    "'''\n",
    "SN_covariance = np.genfromtxt(\"./data/SNIa_covariance.txt\")\n",
    "\n",
    "'''\n",
    "Explanation of following 3 lines:\n",
    "- SN_data[\"Error\"] = np.sqrt(np.diag(SN_covariance))\n",
    "This line calculates the square root of the diagonal elements of the covariance matrix (SN_covariance)\n",
    "using NumPy's sqrt() and diag() functions, and assigns the result to a new column named \"Error\" in the DataFrame SN_data.\n",
    "\n",
    "-SN_data[\"Kind\"] = \"\\mu\"\n",
    "Add a column to SN_data with name \\mu and all elements \\mu\n",
    "\n",
    "-SN_data[\"Name\"] = \"Pantheon+\"\n",
    "Add a column to SN_data tith name Pantheon+ and all element Pantheon+\n",
    "'''\n",
    "SN_data[\"Error\"] = np.sqrt(np.diag(SN_covariance))\n",
    "SN_data[\"Kind\"] = \"\\mu\"\n",
    "SN_data[\"Name\"] = \"Pantheon+\"\n"
   ]
  },
  {
   "cell_type": "code",
   "execution_count": null,
   "metadata": {},
   "outputs": [
    {
     "data": {
      "text/html": [
       "<div>\n",
       "<style scoped>\n",
       "    .dataframe tbody tr th:only-of-type {\n",
       "        vertical-align: middle;\n",
       "    }\n",
       "\n",
       "    .dataframe tbody tr th {\n",
       "        vertical-align: top;\n",
       "    }\n",
       "\n",
       "    .dataframe thead th {\n",
       "        text-align: right;\n",
       "    }\n",
       "</style>\n",
       "<table border=\"1\" class=\"dataframe\">\n",
       "  <thead>\n",
       "    <tr style=\"text-align: right;\">\n",
       "      <th></th>\n",
       "      <th>Redshift</th>\n",
       "      <th>Distance</th>\n",
       "      <th>Error</th>\n",
       "      <th>Kind</th>\n",
       "      <th>Name</th>\n",
       "    </tr>\n",
       "  </thead>\n",
       "  <tbody>\n",
       "    <tr>\n",
       "      <th>0</th>\n",
       "      <td>0.01012</td>\n",
       "      <td>13.909104</td>\n",
       "      <td>0.199394</td>\n",
       "      <td>\\mu</td>\n",
       "      <td>Pantheon+</td>\n",
       "    </tr>\n",
       "    <tr>\n",
       "      <th>1</th>\n",
       "      <td>0.01038</td>\n",
       "      <td>14.046894</td>\n",
       "      <td>0.205908</td>\n",
       "      <td>\\mu</td>\n",
       "      <td>Pantheon+</td>\n",
       "    </tr>\n",
       "    <tr>\n",
       "      <th>2</th>\n",
       "      <td>0.01043</td>\n",
       "      <td>13.927942</td>\n",
       "      <td>0.201482</td>\n",
       "      <td>\\mu</td>\n",
       "      <td>Pantheon+</td>\n",
       "    </tr>\n",
       "    <tr>\n",
       "      <th>3</th>\n",
       "      <td>0.01082</td>\n",
       "      <td>14.008714</td>\n",
       "      <td>0.185679</td>\n",
       "      <td>\\mu</td>\n",
       "      <td>Pantheon+</td>\n",
       "    </tr>\n",
       "    <tr>\n",
       "      <th>4</th>\n",
       "      <td>0.01209</td>\n",
       "      <td>13.976718</td>\n",
       "      <td>0.192585</td>\n",
       "      <td>\\mu</td>\n",
       "      <td>Pantheon+</td>\n",
       "    </tr>\n",
       "    <tr>\n",
       "      <th>...</th>\n",
       "      <td>...</td>\n",
       "      <td>...</td>\n",
       "      <td>...</td>\n",
       "      <td>...</td>\n",
       "      <td>...</td>\n",
       "    </tr>\n",
       "    <tr>\n",
       "      <th>1002</th>\n",
       "      <td>1.55000</td>\n",
       "      <td>26.006720</td>\n",
       "      <td>0.194426</td>\n",
       "      <td>\\mu</td>\n",
       "      <td>Pantheon+</td>\n",
       "    </tr>\n",
       "    <tr>\n",
       "      <th>1003</th>\n",
       "      <td>1.70000</td>\n",
       "      <td>26.058309</td>\n",
       "      <td>0.289536</td>\n",
       "      <td>\\mu</td>\n",
       "      <td>Pantheon+</td>\n",
       "    </tr>\n",
       "    <tr>\n",
       "      <th>1004</th>\n",
       "      <td>1.80000</td>\n",
       "      <td>26.201409</td>\n",
       "      <td>0.197367</td>\n",
       "      <td>\\mu</td>\n",
       "      <td>Pantheon+</td>\n",
       "    </tr>\n",
       "    <tr>\n",
       "      <th>1005</th>\n",
       "      <td>1.91400</td>\n",
       "      <td>26.160282</td>\n",
       "      <td>0.262894</td>\n",
       "      <td>\\mu</td>\n",
       "      <td>Pantheon+</td>\n",
       "    </tr>\n",
       "    <tr>\n",
       "      <th>1006</th>\n",
       "      <td>2.26000</td>\n",
       "      <td>26.877266</td>\n",
       "      <td>0.261824</td>\n",
       "      <td>\\mu</td>\n",
       "      <td>Pantheon+</td>\n",
       "    </tr>\n",
       "  </tbody>\n",
       "</table>\n",
       "<p>1007 rows × 5 columns</p>\n",
       "</div>"
      ],
      "text/plain": [
       "      Redshift   Distance     Error Kind       Name\n",
       "0      0.01012  13.909104  0.199394  \\mu  Pantheon+\n",
       "1      0.01038  14.046894  0.205908  \\mu  Pantheon+\n",
       "2      0.01043  13.927942  0.201482  \\mu  Pantheon+\n",
       "3      0.01082  14.008714  0.185679  \\mu  Pantheon+\n",
       "4      0.01209  13.976718  0.192585  \\mu  Pantheon+\n",
       "...        ...        ...       ...  ...        ...\n",
       "1002   1.55000  26.006720  0.194426  \\mu  Pantheon+\n",
       "1003   1.70000  26.058309  0.289536  \\mu  Pantheon+\n",
       "1004   1.80000  26.201409  0.197367  \\mu  Pantheon+\n",
       "1005   1.91400  26.160282  0.262894  \\mu  Pantheon+\n",
       "1006   2.26000  26.877266  0.261824  \\mu  Pantheon+\n",
       "\n",
       "[1007 rows x 5 columns]"
      ]
     },
     "execution_count": 40,
     "metadata": {},
     "output_type": "execute_result"
    }
   ],
   "source": [
    "SN_data"
   ]
  },
  {
   "cell_type": "code",
   "execution_count": null,
   "metadata": {},
   "outputs": [
    {
     "name": "stdout",
     "output_type": "stream",
     "text": [
      "2024-04-03 10:44:23.795743 :: \u001b[1m\u001b[35mHalf Course Project\u001b[0m :: \u001b[32mINFO\u001b[0m :: Read BAO data\n"
     ]
    }
   ],
   "source": [
    "print(\"Read BAO data\")\n",
    "BAO_data = pd.read_csv(\"./data/BAO_data.txt\")\n",
    "BAO_covariance = pd.read_csv(\"./data/BAO_covariance.txt\", header=None).replace(np.NaN, 0).to_numpy()\n",
    "\n",
    "# Sound horizon from Planck 2018, Table 2, TT,TE,EE+lowE\n",
    "rd = 147.06"
   ]
  },
  {
   "cell_type": "code",
   "execution_count": null,
   "metadata": {},
   "outputs": [
    {
     "data": {
      "text/html": [
       "<div>\n",
       "<style scoped>\n",
       "    .dataframe tbody tr th:only-of-type {\n",
       "        vertical-align: middle;\n",
       "    }\n",
       "\n",
       "    .dataframe tbody tr th {\n",
       "        vertical-align: top;\n",
       "    }\n",
       "\n",
       "    .dataframe thead th {\n",
       "        text-align: right;\n",
       "    }\n",
       "</style>\n",
       "<table border=\"1\" class=\"dataframe\">\n",
       "  <thead>\n",
       "    <tr style=\"text-align: right;\">\n",
       "      <th></th>\n",
       "      <th>Redshift</th>\n",
       "      <th>Distance</th>\n",
       "      <th>Error</th>\n",
       "      <th>Kind</th>\n",
       "      <th>Name</th>\n",
       "    </tr>\n",
       "  </thead>\n",
       "  <tbody>\n",
       "    <tr>\n",
       "      <th>0</th>\n",
       "      <td>0.15</td>\n",
       "      <td>4.47</td>\n",
       "      <td>0.17</td>\n",
       "      <td>D_V/r_d</td>\n",
       "      <td>MGS</td>\n",
       "    </tr>\n",
       "    <tr>\n",
       "      <th>1</th>\n",
       "      <td>0.38</td>\n",
       "      <td>10.23</td>\n",
       "      <td>0.17</td>\n",
       "      <td>D_M/r_d</td>\n",
       "      <td>BOSS DR12</td>\n",
       "    </tr>\n",
       "    <tr>\n",
       "      <th>2</th>\n",
       "      <td>0.38</td>\n",
       "      <td>25.00</td>\n",
       "      <td>0.76</td>\n",
       "      <td>D_H/r_d</td>\n",
       "      <td>BOSS DR12</td>\n",
       "    </tr>\n",
       "    <tr>\n",
       "      <th>3</th>\n",
       "      <td>0.51</td>\n",
       "      <td>13.36</td>\n",
       "      <td>0.21</td>\n",
       "      <td>D_M/r_d</td>\n",
       "      <td>BOSS DR12</td>\n",
       "    </tr>\n",
       "    <tr>\n",
       "      <th>4</th>\n",
       "      <td>0.51</td>\n",
       "      <td>22.33</td>\n",
       "      <td>0.58</td>\n",
       "      <td>D_H/r_d</td>\n",
       "      <td>BOSS DR12</td>\n",
       "    </tr>\n",
       "    <tr>\n",
       "      <th>5</th>\n",
       "      <td>0.70</td>\n",
       "      <td>17.86</td>\n",
       "      <td>0.33</td>\n",
       "      <td>D_M/r_d</td>\n",
       "      <td>eBOSS LRG</td>\n",
       "    </tr>\n",
       "    <tr>\n",
       "      <th>6</th>\n",
       "      <td>0.70</td>\n",
       "      <td>19.33</td>\n",
       "      <td>0.53</td>\n",
       "      <td>D_H/r_d</td>\n",
       "      <td>eBOSS LRG</td>\n",
       "    </tr>\n",
       "    <tr>\n",
       "      <th>7</th>\n",
       "      <td>0.85</td>\n",
       "      <td>18.33</td>\n",
       "      <td>0.06</td>\n",
       "      <td>D_V/r_d</td>\n",
       "      <td>eBOSS ELG</td>\n",
       "    </tr>\n",
       "    <tr>\n",
       "      <th>8</th>\n",
       "      <td>1.48</td>\n",
       "      <td>30.69</td>\n",
       "      <td>0.80</td>\n",
       "      <td>D_M/r_d</td>\n",
       "      <td>eBOSS Quasar</td>\n",
       "    </tr>\n",
       "    <tr>\n",
       "      <th>9</th>\n",
       "      <td>1.48</td>\n",
       "      <td>13.26</td>\n",
       "      <td>0.55</td>\n",
       "      <td>D_H/r_d</td>\n",
       "      <td>eBOSS Quasar</td>\n",
       "    </tr>\n",
       "  </tbody>\n",
       "</table>\n",
       "</div>"
      ],
      "text/plain": [
       "   Redshift  Distance  Error     Kind          Name\n",
       "0      0.15      4.47   0.17  D_V/r_d           MGS\n",
       "1      0.38     10.23   0.17  D_M/r_d     BOSS DR12\n",
       "2      0.38     25.00   0.76  D_H/r_d     BOSS DR12\n",
       "3      0.51     13.36   0.21  D_M/r_d     BOSS DR12\n",
       "4      0.51     22.33   0.58  D_H/r_d     BOSS DR12\n",
       "5      0.70     17.86   0.33  D_M/r_d     eBOSS LRG\n",
       "6      0.70     19.33   0.53  D_H/r_d     eBOSS LRG\n",
       "7      0.85     18.33   0.06  D_V/r_d     eBOSS ELG\n",
       "8      1.48     30.69   0.80  D_M/r_d  eBOSS Quasar\n",
       "9      1.48     13.26   0.55  D_H/r_d  eBOSS Quasar"
      ]
     },
     "execution_count": 42,
     "metadata": {},
     "output_type": "execute_result"
    }
   ],
   "source": [
    "BAO_data"
   ]
  },
  {
   "cell_type": "code",
   "execution_count": null,
   "metadata": {},
   "outputs": [
    {
     "data": {
      "text/plain": [
       "1.845098040014257"
      ]
     },
     "execution_count": 43,
     "metadata": {},
     "output_type": "execute_result"
    }
   ],
   "source": [
    "np.log10(H0)"
   ]
  },
  {
   "cell_type": "code",
   "execution_count": null,
   "metadata": {},
   "outputs": [
    {
     "data": {
      "text/plain": [
       "Text(0.5, 1.0, 'SNIa - Distance Modulus')"
      ]
     },
     "execution_count": 44,
     "metadata": {},
     "output_type": "execute_result"
    },
    {
     "data": {
      "image/png": "[encoded data removed]",
      "text/plain": [
       "<Figure size 2100x500 with 4 Axes>"
      ]
     },
     "metadata": {},
     "output_type": "display_data"
    }
   ],
   "source": [
    "distance_type = pd.unique(BAO_data[\"Kind\"])\n",
    "\n",
    "fig, ax = plt.subplots(1, 4, figsize=(21, 5))\n",
    "ax[0].plot(redshift_list, np.power(redshift_list * transverse_comoving_distance**2 * hubble_distance, 1./3)/rd, color=\"g\")\n",
    "ax[1].plot(redshift_list, transverse_comoving_distance/rd, color=\"b\")\n",
    "ax[2].plot(redshift_list, hubble_distance/rd, color=\"r\")\n",
    "ax[3].plot(redshift_list, 5*np.log10(luminosity_distance), color=\"k\")\n",
    "\n",
    "for i,dt in enumerate(distance_type):\n",
    "    data = BAO_data[BAO_data[\"Kind\"] == dt]\n",
    "    ax[i].errorbar(data[\"Redshift\"], data[\"Distance\"], yerr=data[\"Error\"], fmt='o', color=\"k\")\n",
    "    ax[i].set_xlabel(\"Redshift\")\n",
    "    ax[i].set_ylabel(r\"$%s$\"%dt)\n",
    "\n",
    "ax[3].errorbar(SN_data[\"Redshift\"], SN_data[\"Distance\"], yerr=SN_data[\"Error\"], fmt='o', color=\"0.5\", alpha=0.5)\n",
    "ax[3].set_xlabel(\"Redshift\")\n",
    "ax[3].set_ylabel(r\"$\\mu$\")\n",
    "\n",
    "ax[0].set_title(\"BAO - Isotropic Volume Distance\")\n",
    "ax[1].set_title(\"BAO - Transverse Distance\")\n",
    "ax[2].set_title(\"BAO - Hubble Distance\")\n",
    "ax[3].set_title(\"SNIa - Distance Modulus\")\n"
   ]
  },
  {
   "cell_type": "code",
   "execution_count": null,
   "metadata": {},
   "outputs": [],
   "source": [
    "# Likelihood\n",
    "\n",
    "# Define the likelihood function for the data"
   ]
  },
  {
   "cell_type": "code",
   "execution_count": null,
   "metadata": {},
   "outputs": [],
   "source": [
    "# Likelihood maximization\n",
    "# Use scipy.optimize to maximize the likelihood function for different cosmological models\n",
    "# Get best-fit parameters and plot the best-fit model against the data and Planck 2018 cosmology"
   ]
  },
  {
   "cell_type": "code",
   "execution_count": null,
   "metadata": {},
   "outputs": [],
   "source": [
    "# Model selection\n",
    "# Test different models using the likelihood ratio test"
   ]
  },
  {
   "cell_type": "code",
   "execution_count": null,
   "metadata": {},
   "outputs": [],
   "source": [
    "# Sample the posterior\n",
    "\n",
    "# Define the priors for the cosmological parameters\n",
    "# Sample the posterior using MCMC in pyACC\n",
    "# Clean the chains and plot the results"
   ]
  },
  {
   "cell_type": "code",
   "execution_count": null,
   "metadata": {},
   "outputs": [],
   "source": [
    "# Analyze the results\n",
    "\n",
    "# Get relevant quantities from marginalized posteriors\n",
    "# Check consistency with maximum likelihood results\n",
    "# Check consistency with Planck 2018 results\n",
    "# Plot the chains\n",
    "# Plot the posterior distributions"
   ]
  },
  {
   "cell_type": "code",
   "execution_count": null,
   "metadata": {},
   "outputs": [],
   "source": [
    "# Summarize your results\n",
    "\n",
    "# Write a report with your results\n",
    "# put emphasis on the numerical part, specyfing the numerical techniques used.\n",
    "# Share your results in form of chains"
   ]
  }
 ],
 "metadata": {
  "kernelspec": {
   "display_name": "acc-env",
   "language": "python",
   "name": "python3"
  },
  "language_info": {
   "codemirror_mode": {
    "name": "ipython",
    "version": 3
   },
   "file_extension": ".py",
   "mimetype": "text/x-python",
   "name": "python",
   "nbconvert_exporter": "python",
   "pygments_lexer": "ipython3",
   "version": "3.9.undefined"
  }
 },
 "nbformat": 4,
 "nbformat_minor": 2
}
