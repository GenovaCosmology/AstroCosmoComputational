{
 "cells": [
  {
   "cell_type": "markdown",
   "metadata": {},
   "source": [
    "# LambdaCMD model"
   ]
  },
  {
   "cell_type": "markdown",
   "metadata": {},
   "source": [
    "Now, to begin the program I want to do a simple case: LambdaCDM model, but I vary only H0 and omega matter so far.\n",
    "\n",
    "In this case I have redshifts z took by the binned_data and I will use as distance the distances computed with the formula (like error to put in sigma we will use the data file)"
   ]
  },
  {
   "cell_type": "code",
   "execution_count": 8,
   "metadata": {},
   "outputs": [],
   "source": [
    "import sys\n",
    "sys.path.append(\"../\")\n",
    "\n",
    "import numpy as np\n",
    "import math as m\n",
    "from scipy.optimize import minimize\n",
    "import sys\n",
    "import platform\n",
    "import os\n",
    "import pandas as pd\n",
    "import numpy as np\n",
    "import emcee\n",
    "import corner\n",
    "import matplotlib.pyplot as plt\n",
    "import camb\n",
    "import pandas as pd\n",
    "\n",
    "# Import pyACC logger\n",
    "from pyACC.helpers import Logger\n",
    "\n",
    "# Set the logger\n",
    "print = Logger(\"pyACC.CosmologicalDistances\")\n",
    "\n",
    "# Import integration class\n",
    "from pyACC.Cosmology.distances import Dc, Dc_w0wa, Dc_w\n",
    "\n",
    "from scipy.optimize import minimize #to make best fit of the chi square\n",
    "\n",
    "\n"
   ]
  },
  {
   "cell_type": "code",
   "execution_count": 9,
   "metadata": {},
   "outputs": [],
   "source": [
    "# READ THE DATA\n",
    "# Load the data\n",
    "file_path = 'binned_data.txt'\n",
    "\n",
    "# Read the first line to get the header\n",
    "with open(file_path, 'r') as file:\n",
    "    header_line = file.readline().strip()\n",
    "    header = header_line.lstrip('#').strip()\n",
    "\n",
    "# Remove the last word from the header (assumed to be 'biascor')\n",
    "header_words = header.split()\n",
    "header_words.pop()\n",
    "header = ' '.join(header_words)\n",
    "\n",
    "# Read the rest of the file into a DataFrame\n",
    "data = pd.read_csv(file_path, sep='\\s+', skiprows=1, header=None)\n",
    "data.columns = header.split()"
   ]
  },
  {
   "cell_type": "code",
   "execution_count": 10,
   "metadata": {},
   "outputs": [],
   "source": [
    "# Implement your favourite Hubble function\n",
    "def hubble_function(z,omega_mat,omega_rad,w,H0):\n",
    "    return H0*m.sqrt(omega_mat*(1+z)**3 + omega_rad*(1+z)**4 + (1 - omega_mat - omega_rad)*(1+z)**(3*(1+w)))"
   ]
  },
  {
   "cell_type": "code",
   "execution_count": 11,
   "metadata": {},
   "outputs": [],
   "source": [
    "# Extract relevant columns\n",
    "d = data['mb'].values\n",
    "dmb = data['dmb'].values\n",
    "z_lista = data['zcmb'].values\n",
    "\n",
    "\n",
    "\n",
    "mu = []\n",
    "for z_prime in z_lista:\n",
    "    mu.append(5*np.log10(Dc(hubble_function,z_prime,0.319,0,-1,68)*(1+z_prime)) + 25)\n",
    "\n",
    "data['mb'] = mu\n",
    "# Define the likelihood function\n",
    "def ln_likelihood(params, data, cov_inv):\n",
    "    H0, Om0 = params #, w0, wa\n",
    "    #print(H0, Om0)\n",
    "    if Om0 < 0:\n",
    "        return -np.inf\n",
    "    z = data['zcmb'].values\n",
    "    d = data['mb'].values \n",
    "    mu = []\n",
    "    for z_prime in z:\n",
    "        mu.append(5*np.log10(Dc(hubble_function,z_prime,Om0,0,-1,H0)*(1+z_prime)) + 25) #it is equivalent to get_mu(z, H0, Om0, w0, wa)\n",
    "    diff = d - mu\n",
    "    term1 = -0.5 * diff @ cov_inv @ diff # @ is the matrix multiplication\n",
    "    \n",
    "    return term1 \n",
    "\n",
    "def neg_ln_likelihood(params, data, cov_inv):\n",
    "    return -2*ln_likelihood(params, data, cov_inv)"
   ]
  },
  {
   "cell_type": "code",
   "execution_count": 12,
   "metadata": {},
   "outputs": [
    {
     "name": "stdout",
     "output_type": "stream",
     "text": [
      "2024-07-24 22:24:00.395581 :: \u001b[32mpyACC.CosmologicalDistances \u001b[0m :: -0.0\n"
     ]
    },
    {
     "name": "stderr",
     "output_type": "stream",
     "text": [
      "/home/andrewcats/anaconda3/envs/acc-env/lib/python3.9/site-packages/scipy/optimize/_optimize.py:2577: RuntimeWarning: invalid value encountered in scalar multiply\n",
      "  tmp2 = (x - v) * (fx - fw)\n"
     ]
    },
    {
     "name": "stdout",
     "output_type": "stream",
     "text": [
      "2024-07-24 22:24:15.809757 :: \u001b[32mpyACC.CosmologicalDistances \u001b[0m :: Optimized Parameters: [68.     0.319]\n",
      "2024-07-24 22:24:15.810115 :: \u001b[32mpyACC.CosmologicalDistances \u001b[0m :: Optimized Log Likelihood: -4.1264067313116258e-25\n",
      "2024-07-24 22:24:15.810234 :: \u001b[32mpyACC.CosmologicalDistances \u001b[0m :: Best fit parameters: H0 = 67.99999999999994, Om0 = 0.3190000000000056\n",
      "2024-07-24 22:24:15.810299 :: \u001b[32mpyACC.CosmologicalDistances \u001b[0m ::  message: Optimization terminated successfully.\n",
      " success: True\n",
      "  status: 0\n",
      "     fun: 4.1264067313116258e-25\n",
      "       x: [ 6.800e+01  3.190e-01]\n",
      "     nit: 7\n",
      "   direc: [[-5.293e-02  4.203e-03]\n",
      "           [ 6.723e-14 -2.253e-16]]\n",
      "    nfev: 226\n"
     ]
    }
   ],
   "source": [
    "# Example data and covariance inverse matrix\n",
    "z = data['zcmb'].values\n",
    "d = data['mb'].values +19.3\n",
    "dmb = data['dmb'].values\n",
    "#error_mb = np.ones(len(dmb)) \n",
    "\n",
    "# Compute the covariance matrix\n",
    "Sigma = np.diag(dmb**2)\n",
    "cov_inv = np.linalg.inv(Sigma)\n",
    "\n",
    "# Initial guess for the parameters [H0, Om0]\n",
    "initial_guess = [70, 0.3]\n",
    "print(neg_ln_likelihood([68, 0.319], data, np.linalg.inv(np.diag(dmb**2))))\n",
    "\n",
    "\n",
    "# Run the optimizer\n",
    "result = minimize(neg_ln_likelihood, initial_guess, args=(data, cov_inv), method='Powell') # , method='Powell'\n",
    "# Optimized parameters\n",
    "optimized_params = result.x\n",
    "optimized_log_likelihood = -result.fun\n",
    "\n",
    "print(\"Optimized Parameters:\", optimized_params)\n",
    "print(\"Optimized Log Likelihood:\", optimized_log_likelihood)\n",
    "\n",
    "# Best fit parameters\n",
    "best_fit_params = result.x\n",
    "print(f\"Best fit parameters: H0 = {best_fit_params[0]}, Om0 = {best_fit_params[1]}\")\n",
    "print(result)"
   ]
  },
  {
   "cell_type": "code",
   "execution_count": 13,
   "metadata": {},
   "outputs": [
    {
     "data": {
      "image/png": "[encoded data removed]",
      "text/plain": [
       "<Figure size 640x480 with 1 Axes>"
      ]
     },
     "metadata": {},
     "output_type": "display_data"
    }
   ],
   "source": [
    "# Generate model predictions using the best fit parameters\n",
    "#z = data['zcmb'].values\n",
    "H0_best, Om0_best = best_fit_params\n",
    "mu_best = []\n",
    "for z_prime in z:\n",
    "    #mu_best.append(5 * np.log10(Dc(hubble_function, z_prime, Om0_best, 0, -1, H0_best) * (1 + z_prime)) + 25)\n",
    "    mu_best.append(5 * np.log10(Dc(hubble_function, z_prime, 0.319, 0, -1, 68.) * (1 + z_prime)) + 25)\n",
    "\n",
    "# mb is mu +19.3, so:\n",
    "y = data['mb'].values # cfr. Mari\n",
    "#xerr = data['dz'].values\n",
    "\n",
    "# Plot the observed data and model predictions\n",
    "plt.errorbar(z, y, yerr=data['dmb'], fmt='o', label='Observed Data')\n",
    "plt.plot(z, mu_best, 'r-', label='Best Fit Model')\n",
    "plt.xlabel('Redshift (z)')\n",
    "plt.ylabel('Distance Modulus (mu)')\n",
    "plt.legend()\n",
    "plt.show()"
   ]
  },
  {
   "cell_type": "markdown",
   "metadata": {},
   "source": [
    "# End of the first part"
   ]
  },
  {
   "cell_type": "markdown",
   "metadata": {},
   "source": [
    "# LambdaCDM model with more parameters"
   ]
  },
  {
   "cell_type": "markdown",
   "metadata": {},
   "source": [
    "Steps:\n",
    "* 1- Set the cosmology: H0=67.5, ombh2=0.022, omch2=0.122, omk=0, omrh2= 2.47*10^-5(this values is taken by internet), omega_Lambda = 0.681, w0 = -0.5, wa = -1.3   * \n",
    "* 2- Compute the distances modulus for each redshifts z took by the file \"binned_data\" (40 values)\n",
    "* 3- Compute the chi square and verify that is equal to 0 (or so close to 0)\n",
    "* 4- Make the best fit with minimize to find the parameters\n",
    "\n",
    "*N.B: ombh2 = (barion density)*h^2; omch2 = (cold dark matter density)^2; omk = curvature density (these values is taken by CAMB's Tutorial)\n",
    "*N.B: ombh2 + omch2 = 0.144 --> 0.144/(0.672)**2 = 0.319 (omega_matter)\n",
    "*N.B: w0 and wa are taken by DESI paper"
   ]
  },
  {
   "cell_type": "code",
   "execution_count": 14,
   "metadata": {},
   "outputs": [],
   "source": [
    "# Definition of the Hubble function and set the cosmology\n",
    "def hubble_function_w(z,omega_mat,omega_rad,omega_k,omega_L,w,H0):\n",
    "    return H0*m.sqrt(omega_mat*(1+z)**3 + omega_rad*(1+z)**4 + omega_k*(1+z)**2 + omega_L*(1+z)**(3*(1+w))) #it is equal to the previous hubble function if omega_k = 0\n",
    "\n",
    "# Set the cosmology\n",
    "H0 = 67.5\n",
    "omega_matter = 0.319\n",
    "omega_rad = 2.47e-5/(0.672)**2 # 0.00005 \n",
    "omega_k = 0\n",
    "omega_L = 0.681 # 1 - omega_matter - omega_rad - omega_k\n",
    "w=-1"
   ]
  },
  {
   "cell_type": "code",
   "execution_count": 18,
   "metadata": {},
   "outputs": [],
   "source": [
    "# Extract relevant columns\n",
    "d = data['mb'].values\n",
    "dmb = data['dmb'].values\n",
    "z_list = data['zcmb'].values\n",
    "\n",
    "\n",
    "\n",
    "mu = []\n",
    "for z_prime in z_list:\n",
    "    mu.append(5*np.log10(Dc_w(hubble_function_w, z_prime, omega_matter, omega_rad, omega_k, omega_L, w, H0)*(1+z_prime)) + 25) #mu.append(5*np.log10(Dc(hubble_function,z_prime,0.319,0,-1,68)*(1+z_prime)) + 25)\n",
    "#print(mu)\n",
    "'''\n",
    "# Plot mu vs z (to verify that the distances are right)\n",
    "plt.plot(z_list, mu, 'o')\n",
    "plt.xlabel('Redshift z')\n",
    "plt.ylabel('Distance Modulus mu')\n",
    "plt.title('Distance Modulus vs Redshift')\n",
    "plt.show()\n",
    "'''\n",
    "data['mb'] = mu\n",
    "# Define the likelihood function\n",
    "def ln_likelihood(params, data, cov_inv):\n",
    "    H0, Omega_mat, Omega_rad, Omega_k, Omega_L = params \n",
    "    #print(H0, Om0)\n",
    "    if Omega_mat or Omega_rad or Omega_k or Omega_L < 0:\n",
    "        return -np.inf\n",
    "    z = data['zcmb'].values\n",
    "    d = data['mb'].values \n",
    "    mu = []\n",
    "    for z_prime in z_list:\n",
    "        mu.append(5*np.log10(Dc_w(hubble_function_w, z_prime, omega_matter, omega_rad, omega_k, omega_L, -1, H0)*(1+z_prime)) + 25) #it is equivalent to get_mu(z, H0, Om0, w0, wa)\n",
    "    diff = d - mu\n",
    "    term1 = -0.5 * diff @ cov_inv @ diff # @ is the matrix multiplication\n",
    "    \n",
    "    return term1 \n",
    "\n",
    "def neg_ln_likelihood(params, data, cov_inv):\n",
    "    return -2*ln_likelihood(params, data, cov_inv)\n"
   ]
  },
  {
   "cell_type": "code",
   "execution_count": 21,
   "metadata": {},
   "outputs": [
    {
     "name": "stdout",
     "output_type": "stream",
     "text": [
      "2024-07-24 23:07:55.416263 :: \u001b[32mpyACC.CosmologicalDistances \u001b[0m :: neg_Ln_likelihood is: -0.0\n",
      "2024-07-24 23:07:57.067410 :: \u001b[32mpyACC.CosmologicalDistances \u001b[0m :: Optimized Parameters: [6.75e+01 3.19e-01 5.00e-05 0.00e+00 6.81e-01]\n",
      "2024-07-24 23:07:57.067747 :: \u001b[32mpyACC.CosmologicalDistances \u001b[0m :: Optimized Log Likelihood: 0.0\n",
      "2024-07-24 23:07:57.067852 :: \u001b[32mpyACC.CosmologicalDistances \u001b[0m :: Best fit parameters: H0 = 67.5, Omega_matter = 0.319, Omega_rad = 5e-05, Omega_k = 0.0, Omega_L = 0.681\n",
      "2024-07-24 23:07:57.067915 :: \u001b[32mpyACC.CosmologicalDistances \u001b[0m ::  message: Optimization terminated successfully.\n",
      " success: True\n",
      "  status: 0\n",
      "     fun: -0.0\n",
      "       x: [ 6.750e+01  3.190e-01  5.000e-05  0.000e+00  6.810e-01]\n",
      "     nit: 1\n",
      "   direc: [[ 1.000e+00  0.000e+00 ...  0.000e+00  0.000e+00]\n",
      "           [ 0.000e+00  1.000e+00 ...  0.000e+00  0.000e+00]\n",
      "           ...\n",
      "           [ 0.000e+00  0.000e+00 ...  1.000e+00  0.000e+00]\n",
      "           [ 0.000e+00  0.000e+00 ...  0.000e+00  1.000e+00]]\n",
      "    nfev: 23\n"
     ]
    }
   ],
   "source": [
    "# Example data and covariance inverse matrix\n",
    "z = data['zcmb'].values\n",
    "d = data['mb'].values + 19.3\n",
    "dmb = data['dmb'].values\n",
    "\n",
    "# Compute the covariance matrix\n",
    "Sigma = np.diag(dmb**2)\n",
    "cov_inv = np.linalg.inv(Sigma)\n",
    "\n",
    "# Initial guess for the parameters [H0, Om0]\n",
    "initial_guess_new = [67.5, 0.319, 0.00005, 0, 0.681]\n",
    "print(\"neg_Ln_likelihood is:\", neg_ln_likelihood(initial_guess_new, data, np.linalg.inv(np.diag(dmb**2))))\n",
    "\n",
    "\n",
    "# Run the optimizer\n",
    "result = minimize(neg_ln_likelihood, initial_guess_new, args=(data, cov_inv), method='Powell') # , method='Powell'\n",
    "# Optimized parameters\n",
    "optimized_params = result.x\n",
    "optimized_log_likelihood = -result.fun\n",
    "\n",
    "print(\"Optimized Parameters:\", optimized_params)\n",
    "print(\"Optimized Log Likelihood:\", optimized_log_likelihood)\n",
    "\n",
    "# Best fit parameters\n",
    "#print(f\"Best fit parameters: H0 = {best_fit_params[0]}, Om0 = {best_fit_params[1]}\")\n",
    "print(f\"Best fit parameters: H0 = {optimized_params[0]}, Omega_matter = {optimized_params[1]}, Omega_rad = {optimized_params[2]}, Omega_k = {optimized_params[3]}, Omega_L = {optimized_params[4]}\")\n",
    "print(result)"
   ]
  },
  {
   "cell_type": "code",
   "execution_count": 24,
   "metadata": {},
   "outputs": [
    {
     "data": {
      "image/png": "[encoded data removed]",
      "text/plain": [
       "<Figure size 640x480 with 1 Axes>"
      ]
     },
     "metadata": {},
     "output_type": "display_data"
    }
   ],
   "source": [
    "# Generate model predictions using the best fit parameters\n",
    "#z = data['zcmb'].values\n",
    "H0_best, Omega_matter_best, Omega_rad_best, Omega_k_best, Omega_L_best = optimized_params\n",
    "mu_best = []\n",
    "for z_prime in z_list:\n",
    "    mu_best.append(5*np.log10(Dc_w(hubble_function_w, z_prime, Omega_matter_best, Omega_rad_best, Omega_k_best, Omega_L_best, -1, H0_best)*(1+z_prime)) + 25)\n",
    "\n",
    "# mb is mu +19.3, so:\n",
    "y = data['mb'].values # cfr. Mari\n",
    "#xerr = data['dz'].values\n",
    "\n",
    "# Plot the observed data and model predictions\n",
    "plt.errorbar(z, y, yerr=data['dmb'], fmt='o', label='Observed Data')\n",
    "plt.plot(z_list, mu_best, 'r-', label='Best Fit Model')\n",
    "plt.xlabel('Redshift (z)')\n",
    "plt.ylabel('Distance Modulus (mu)')\n",
    "plt.legend()\n",
    "plt.show()"
   ]
  }
 ],
 "metadata": {
  "kernelspec": {
   "display_name": "acc-env",
   "language": "python",
   "name": "python3"
  },
  "language_info": {
   "codemirror_mode": {
    "name": "ipython",
    "version": 3
   },
   "file_extension": ".py",
   "mimetype": "text/x-python",
   "name": "python",
   "nbconvert_exporter": "python",
   "pygments_lexer": "ipython3",
   "version": "3.9.19"
  }
 },
 "nbformat": 4,
 "nbformat_minor": 2
}
