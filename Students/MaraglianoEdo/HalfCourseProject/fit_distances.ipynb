{
 "cells": [
  {
   "cell_type": "code",
   "execution_count": null,
   "metadata": {},
   "outputs": [],
   "source": [
    "# Include relevant packages\n",
    "# Reduce the minimum methods in the notebook\n",
    "# Put everything in pyACC\n",
    "\n",
    "import sys\n",
    "sys.path.append('../')\n",
    "\n",
    "from pyACC.cosmology.distances import hubble_function, CosmologicalDistances, LambdaCDMCosmology\n",
    "\n",
    "from pyACC.cosmology.distances_func import distance_modulus_from_redshift"
   ]
  },
  {
   "cell_type": "code",
   "execution_count": null,
   "metadata": {},
   "outputs": [],
   "source": [
    "import numpy as np\n",
    "import matplotlib.pyplot as plt\n",
    "from scipy.optimize import minimize\n",
    "import pandas as pd"
   ]
  },
  {
   "cell_type": "code",
   "execution_count": null,
   "metadata": {},
   "outputs": [],
   "source": [
    "# Theory\n",
    "\n",
    "# Define your functions to get cosmological distances from a list of redshifts and different\n",
    "# cosmological models\n",
    "# 1. LCDM\n",
    "# 2. wCDM\n",
    "# 3. your choice"
   ]
  },
  {
   "cell_type": "code",
   "execution_count": null,
   "metadata": {},
   "outputs": [],
   "source": [
    "print('LambdaCDM cosmo is ', LambdaCDMCosmology())"
   ]
  },
  {
   "cell_type": "code",
   "execution_count": null,
   "metadata": {},
   "outputs": [],
   "source": [
    "cd = CosmologicalDistances(hubble_function)"
   ]
  },
  {
   "cell_type": "code",
   "execution_count": null,
   "metadata": {},
   "outputs": [],
   "source": [
    "redshift_list = np.linspace(0.01, 2.2, 100)\n",
    "\n",
    "mu = cd.distance_modulus_from_redshift(redshift_list)\n",
    "luminosity_distance = cd.luminosity_distance(redshift_list)\n",
    "hubble_distance = cd.hubble_distance(redshift_list)\n",
    "transverse_comoving_distance = cd.transverse_comoving_distance(redshift_list)\n",
    "isotropic_volume_distance = cd.isotropic_volume_distance(redshift_list)"
   ]
  },
  {
   "cell_type": "code",
   "execution_count": null,
   "metadata": {},
   "outputs": [],
   "source": [
    "# Dataset\n",
    "\n",
    "# Read the datasets, and plot the data against Planck 2018 LCDM cosmology"
   ]
  },
  {
   "cell_type": "code",
   "execution_count": null,
   "metadata": {},
   "outputs": [],
   "source": [
    "print(\"Read SN data\")\n",
    "SN_data = pd.read_csv(\"./data/SNIa_data.txt\", sep=\" \", header=None, names=[\"Redshift\", \"Distance\"])\n",
    "SN_covariance = np.genfromtxt(\"./data/SNIa_covariance.txt\")\n",
    "SN_data[\"Error\"] = np.sqrt(np.diag(SN_covariance))\n",
    "SN_data[\"Kind\"] = \"\\mu\"\n",
    "SN_data[\"Name\"] = \"Pantheon+\"\n"
   ]
  },
  {
   "cell_type": "code",
   "execution_count": null,
   "metadata": {},
   "outputs": [],
   "source": [
    "SN_data"
   ]
  },
  {
   "cell_type": "code",
   "execution_count": null,
   "metadata": {},
   "outputs": [],
   "source": [
    "plt.plot(SN_data['Redshift'], SN_data['Distance'], label='SN_data')\n",
    "plt.plot(redshift_list, mu, label=r'$\\Lambda$CDM' )\n",
    "plt.legend()"
   ]
  },
  {
   "cell_type": "code",
   "execution_count": null,
   "metadata": {},
   "outputs": [],
   "source": [
    "print(\"Read BAO data\")\n",
    "BAO_data = pd.read_csv(\"./data/BAO_data.txt\")\n",
    "BAO_covariance = pd.read_csv(\"./data/BAO_covariance.txt\", header=None).replace(np.NaN, 0).to_numpy()\n",
    "\n",
    "# Sound horizon from Planck 2018, Table 2, TT,TE,EE+lowE\n",
    "rd = 147.06"
   ]
  },
  {
   "cell_type": "code",
   "execution_count": null,
   "metadata": {},
   "outputs": [],
   "source": [
    "BAO_data"
   ]
  },
  {
   "cell_type": "code",
   "execution_count": null,
   "metadata": {},
   "outputs": [],
   "source": [
    "distance_type = pd.unique(BAO_data[\"Kind\"])                 ## list of unique distance types\n",
    "\n",
    "fig, ax = plt.subplots(1, 4, figsize=(21, 5))\n",
    "ax[0].plot(redshift_list, isotropic_volume_distance/rd, color=\"g\")\n",
    "ax[1].plot(redshift_list, transverse_comoving_distance/rd, color=\"b\")\n",
    "ax[2].plot(redshift_list, hubble_distance/rd, color=\"r\")\n",
    "ax[3].plot(redshift_list, 5*np.log10(luminosity_distance), color=\"k\")\n",
    "\n",
    "## for each distance type plot, add errorbars and axis labels\n",
    "for i,dt in enumerate(distance_type):\n",
    "    data = BAO_data[BAO_data[\"Kind\"] == dt]\n",
    "    ax[i].errorbar(data[\"Redshift\"], data[\"Distance\"], yerr=data[\"Error\"], fmt='o', color=\"k\")\n",
    "    ax[i].set_xlabel(\"Redshift\")\n",
    "    ax[i].set_ylabel(r\"$%s$\"%dt)\n",
    "\n",
    "ax[3].errorbar(SN_data[\"Redshift\"], SN_data[\"Distance\"], yerr=SN_data[\"Error\"], fmt='o', color=\"0.5\", alpha=0.5)\n",
    "ax[3].set_xlabel(\"Redshift\")\n",
    "ax[3].set_ylabel(r\"$\\mu$\")\n",
    "\n",
    "ax[0].set_title(\"BAO - Isotropic Volume Distance\")\n",
    "ax[1].set_title(\"BAO - Transverse Distance\")\n",
    "ax[2].set_title(\"BAO - Hubble Distance\")\n",
    "ax[3].set_title(\"SNIa - Distance Modulus\")\n"
   ]
  },
  {
   "cell_type": "code",
   "execution_count": null,
   "metadata": {},
   "outputs": [],
   "source": [
    "# Likelihood\n",
    "\n",
    "# Define the likelihood function for the data"
   ]
  },
  {
   "cell_type": "markdown",
   "metadata": {},
   "source": [
    "The likelihood for sn1a can be marginalized analitically on the intrinsic luminosity of the stars. See Marco 2022 'Cosmic Structures' class. \n",
    "\n",
    "$\\mathcal{L}_m = \\int \\exp{[-\\frac{1}{2}(d-\\mu+\\alpha\\vec{1})^T\\Sigma^{-1}(d-\\mu+\\alpha\\vec{1})]d\\alpha}$\n",
    "\n",
    "The result is the following (after some matrix algebra and integrations, see matrix cookbook)\n",
    "\n",
    "$\\log{\\mathcal{L}_m} = -\\frac{1}{2}(d-\\mu)^T\\Sigma^{-1}(d-\\mu)+\\frac{1}{2}\\frac\n",
    "{[(d-\\mu)^T\\Sigma^{-1}\\vec{1}]^2}{\\vec{1}^T\\Sigma^{-1}\\vec{1}}$"
   ]
  },
  {
   "cell_type": "code",
   "execution_count": 31,
   "metadata": {},
   "outputs": [],
   "source": [
    "mu_teo = distance_modulus_from_redshift(SN_data['Redshift'])\n",
    "SN_inv_cov = np.linalg.inv(SN_covariance)\n",
    "n = len(SN_data['Distance'])\n",
    "\n",
    "def logL(pars):\n",
    "    w=pars[0]\n",
    "    Om_m=pars[1]\n",
    "    x = SN_data['Distance']-distance_modulus_from_redshift(SN_data['Redshift'], Om_m=Om_m, w0=w)\n",
    "    return -0.5*(-np.linalg.multi_dot([x,SN_inv_cov,x])+(np.linalg.multi_dot([x,SN_inv_cov,np.ones(n)]))**2/np.linalg.multi_dot([np.ones(n),SN_inv_cov,np.ones(n)]))"
   ]
  },
  {
   "cell_type": "code",
   "execution_count": 41,
   "metadata": {},
   "outputs": [],
   "source": [
    "# Likelihood maximization\n",
    "# Use scipy.optimize to maximize the likelihood function for different cosmological models\n",
    "# Get best-fit parameters and plot the best-fit model against the data and Planck 2018 cosmology\n",
    "in_guess = [-1,0.3]\n",
    "max_l=minimize(logL,in_guess, bounds=[(-1.5,0.5),(0.1,1)])"
   ]
  },
  {
   "cell_type": "code",
   "execution_count": 43,
   "metadata": {},
   "outputs": [
    {
     "name": "stdout",
     "output_type": "stream",
     "text": [
      "maximum likelihood in [-1.02091276  0.29997543]\n"
     ]
    }
   ],
   "source": [
    "print('maximum likelihood in', max_l.x)"
   ]
  },
  {
   "cell_type": "code",
   "execution_count": null,
   "metadata": {},
   "outputs": [],
   "source": [
    "# Model selection\n",
    "# Test different models using the likelihood ratio test"
   ]
  },
  {
   "cell_type": "code",
   "execution_count": null,
   "metadata": {},
   "outputs": [],
   "source": [
    "# Sample the posterior\n",
    "\n",
    "# Define the priors for the cosmological parameters\n",
    "# Sample the posterior using MCMC in pyACC\n",
    "# Clean the chains and plot the results"
   ]
  },
  {
   "cell_type": "code",
   "execution_count": null,
   "metadata": {},
   "outputs": [],
   "source": [
    "# Analyze the results\n",
    "\n",
    "# Get relevant quantities from marginalized posteriors\n",
    "# Check consistency with maximum likelihood results\n",
    "# Check consistency with Planck 2018 results\n",
    "# Plot the chains\n",
    "# Plot the posterior distributions"
   ]
  },
  {
   "cell_type": "code",
   "execution_count": null,
   "metadata": {},
   "outputs": [],
   "source": [
    "# Summarize your results\n",
    "\n",
    "# Write a report with your results\n",
    "# put emphasis on the numerical part, specyfing the numerical techniques used.\n",
    "# Share your results in form of chains"
   ]
  }
 ],
 "metadata": {
  "kernelspec": {
   "display_name": "acc-env",
   "language": "python",
   "name": "python3"
  },
  "language_info": {
   "codemirror_mode": {
    "name": "ipython",
    "version": 3
   },
   "file_extension": ".py",
   "mimetype": "text/x-python",
   "name": "python",
   "nbconvert_exporter": "python",
   "pygments_lexer": "ipython3",
   "version": "3.9.18"
  }
 },
 "nbformat": 4,
 "nbformat_minor": 2
}
